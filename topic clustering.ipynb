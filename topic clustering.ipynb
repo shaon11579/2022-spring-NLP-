{
  "nbformat": 4,
  "nbformat_minor": 0,
  "metadata": {
    "colab": {
      "name": "Untitled44.ipynb",
      "provenance": [],
      "authorship_tag": "ABX9TyMqBiwaybsQrJF3EpGMqsEy",
      "include_colab_link": true
    },
    "kernelspec": {
      "name": "python3",
      "display_name": "Python 3"
    },
    "language_info": {
      "name": "python"
    }
  },
  "cells": [
    {
      "cell_type": "markdown",
      "metadata": {
        "id": "view-in-github",
        "colab_type": "text"
      },
      "source": [
        "<a href=\"https://colab.research.google.com/github/shaon11579/2022-spring-NLP-/blob/main/topic%20clustering.ipynb\" target=\"_parent\"><img src=\"https://colab.research.google.com/assets/colab-badge.svg\" alt=\"Open In Colab\"/></a>"
      ]
    },
    {
      "cell_type": "markdown",
      "source": [
        "LDA in Python – How to grid search best topic models?"
      ],
      "metadata": {
        "id": "Pu4bEnrLwOF9"
      }
    },
    {
      "cell_type": "code",
      "source": [
        "# libraries for visualization\n",
        "!pip install pyLDAvis\n",
        "!pip install pyLDAvis.gensim_models\n",
        "import pyLDAvis\n",
        "import pyLDAvis.gensim_models\n",
        "import matplotlib.pyplot as plt\n",
        "import seaborn as sns\n",
        "%matplotlib inline"
      ],
      "metadata": {
        "colab": {
          "base_uri": "https://localhost:8080/"
        },
        "id": "ZOOZ8txgxF4Q",
        "outputId": "03bd383b-23d2-4a41-eb14-f037bd94db56"
      },
      "execution_count": 1,
      "outputs": [
        {
          "output_type": "stream",
          "name": "stdout",
          "text": [
            "Collecting pyLDAvis\n",
            "  Downloading pyLDAvis-3.3.1.tar.gz (1.7 MB)\n",
            "\u001b[?25l\r\u001b[K     |▏                               | 10 kB 20.8 MB/s eta 0:00:01\r\u001b[K     |▍                               | 20 kB 28.1 MB/s eta 0:00:01\r\u001b[K     |▋                               | 30 kB 13.9 MB/s eta 0:00:01\r\u001b[K     |▉                               | 40 kB 6.1 MB/s eta 0:00:01\r\u001b[K     |█                               | 51 kB 5.2 MB/s eta 0:00:01\r\u001b[K     |█▏                              | 61 kB 6.1 MB/s eta 0:00:01\r\u001b[K     |█▍                              | 71 kB 6.9 MB/s eta 0:00:01\r\u001b[K     |█▋                              | 81 kB 5.4 MB/s eta 0:00:01\r\u001b[K     |█▉                              | 92 kB 6.0 MB/s eta 0:00:01\r\u001b[K     |██                              | 102 kB 6.6 MB/s eta 0:00:01\r\u001b[K     |██▏                             | 112 kB 6.6 MB/s eta 0:00:01\r\u001b[K     |██▍                             | 122 kB 6.6 MB/s eta 0:00:01\r\u001b[K     |██▋                             | 133 kB 6.6 MB/s eta 0:00:01\r\u001b[K     |██▊                             | 143 kB 6.6 MB/s eta 0:00:01\r\u001b[K     |███                             | 153 kB 6.6 MB/s eta 0:00:01\r\u001b[K     |███▏                            | 163 kB 6.6 MB/s eta 0:00:01\r\u001b[K     |███▍                            | 174 kB 6.6 MB/s eta 0:00:01\r\u001b[K     |███▋                            | 184 kB 6.6 MB/s eta 0:00:01\r\u001b[K     |███▊                            | 194 kB 6.6 MB/s eta 0:00:01\r\u001b[K     |████                            | 204 kB 6.6 MB/s eta 0:00:01\r\u001b[K     |████▏                           | 215 kB 6.6 MB/s eta 0:00:01\r\u001b[K     |████▍                           | 225 kB 6.6 MB/s eta 0:00:01\r\u001b[K     |████▋                           | 235 kB 6.6 MB/s eta 0:00:01\r\u001b[K     |████▊                           | 245 kB 6.6 MB/s eta 0:00:01\r\u001b[K     |█████                           | 256 kB 6.6 MB/s eta 0:00:01\r\u001b[K     |█████▏                          | 266 kB 6.6 MB/s eta 0:00:01\r\u001b[K     |█████▍                          | 276 kB 6.6 MB/s eta 0:00:01\r\u001b[K     |█████▌                          | 286 kB 6.6 MB/s eta 0:00:01\r\u001b[K     |█████▊                          | 296 kB 6.6 MB/s eta 0:00:01\r\u001b[K     |██████                          | 307 kB 6.6 MB/s eta 0:00:01\r\u001b[K     |██████▏                         | 317 kB 6.6 MB/s eta 0:00:01\r\u001b[K     |██████▍                         | 327 kB 6.6 MB/s eta 0:00:01\r\u001b[K     |██████▌                         | 337 kB 6.6 MB/s eta 0:00:01\r\u001b[K     |██████▊                         | 348 kB 6.6 MB/s eta 0:00:01\r\u001b[K     |███████                         | 358 kB 6.6 MB/s eta 0:00:01\r\u001b[K     |███████▏                        | 368 kB 6.6 MB/s eta 0:00:01\r\u001b[K     |███████▎                        | 378 kB 6.6 MB/s eta 0:00:01\r\u001b[K     |███████▌                        | 389 kB 6.6 MB/s eta 0:00:01\r\u001b[K     |███████▊                        | 399 kB 6.6 MB/s eta 0:00:01\r\u001b[K     |████████                        | 409 kB 6.6 MB/s eta 0:00:01\r\u001b[K     |████████▏                       | 419 kB 6.6 MB/s eta 0:00:01\r\u001b[K     |████████▎                       | 430 kB 6.6 MB/s eta 0:00:01\r\u001b[K     |████████▌                       | 440 kB 6.6 MB/s eta 0:00:01\r\u001b[K     |████████▊                       | 450 kB 6.6 MB/s eta 0:00:01\r\u001b[K     |█████████                       | 460 kB 6.6 MB/s eta 0:00:01\r\u001b[K     |█████████▏                      | 471 kB 6.6 MB/s eta 0:00:01\r\u001b[K     |█████████▎                      | 481 kB 6.6 MB/s eta 0:00:01\r\u001b[K     |█████████▌                      | 491 kB 6.6 MB/s eta 0:00:01\r\u001b[K     |█████████▊                      | 501 kB 6.6 MB/s eta 0:00:01\r\u001b[K     |██████████                      | 512 kB 6.6 MB/s eta 0:00:01\r\u001b[K     |██████████                      | 522 kB 6.6 MB/s eta 0:00:01\r\u001b[K     |██████████▎                     | 532 kB 6.6 MB/s eta 0:00:01\r\u001b[K     |██████████▌                     | 542 kB 6.6 MB/s eta 0:00:01\r\u001b[K     |██████████▊                     | 552 kB 6.6 MB/s eta 0:00:01\r\u001b[K     |███████████                     | 563 kB 6.6 MB/s eta 0:00:01\r\u001b[K     |███████████                     | 573 kB 6.6 MB/s eta 0:00:01\r\u001b[K     |███████████▎                    | 583 kB 6.6 MB/s eta 0:00:01\r\u001b[K     |███████████▌                    | 593 kB 6.6 MB/s eta 0:00:01\r\u001b[K     |███████████▊                    | 604 kB 6.6 MB/s eta 0:00:01\r\u001b[K     |███████████▉                    | 614 kB 6.6 MB/s eta 0:00:01\r\u001b[K     |████████████                    | 624 kB 6.6 MB/s eta 0:00:01\r\u001b[K     |████████████▎                   | 634 kB 6.6 MB/s eta 0:00:01\r\u001b[K     |████████████▌                   | 645 kB 6.6 MB/s eta 0:00:01\r\u001b[K     |████████████▊                   | 655 kB 6.6 MB/s eta 0:00:01\r\u001b[K     |████████████▉                   | 665 kB 6.6 MB/s eta 0:00:01\r\u001b[K     |█████████████                   | 675 kB 6.6 MB/s eta 0:00:01\r\u001b[K     |█████████████▎                  | 686 kB 6.6 MB/s eta 0:00:01\r\u001b[K     |█████████████▌                  | 696 kB 6.6 MB/s eta 0:00:01\r\u001b[K     |█████████████▊                  | 706 kB 6.6 MB/s eta 0:00:01\r\u001b[K     |█████████████▉                  | 716 kB 6.6 MB/s eta 0:00:01\r\u001b[K     |██████████████                  | 727 kB 6.6 MB/s eta 0:00:01\r\u001b[K     |██████████████▎                 | 737 kB 6.6 MB/s eta 0:00:01\r\u001b[K     |██████████████▌                 | 747 kB 6.6 MB/s eta 0:00:01\r\u001b[K     |██████████████▋                 | 757 kB 6.6 MB/s eta 0:00:01\r\u001b[K     |██████████████▉                 | 768 kB 6.6 MB/s eta 0:00:01\r\u001b[K     |███████████████                 | 778 kB 6.6 MB/s eta 0:00:01\r\u001b[K     |███████████████▎                | 788 kB 6.6 MB/s eta 0:00:01\r\u001b[K     |███████████████▌                | 798 kB 6.6 MB/s eta 0:00:01\r\u001b[K     |███████████████▋                | 808 kB 6.6 MB/s eta 0:00:01\r\u001b[K     |███████████████▉                | 819 kB 6.6 MB/s eta 0:00:01\r\u001b[K     |████████████████                | 829 kB 6.6 MB/s eta 0:00:01\r\u001b[K     |████████████████▎               | 839 kB 6.6 MB/s eta 0:00:01\r\u001b[K     |████████████████▍               | 849 kB 6.6 MB/s eta 0:00:01\r\u001b[K     |████████████████▋               | 860 kB 6.6 MB/s eta 0:00:01\r\u001b[K     |████████████████▉               | 870 kB 6.6 MB/s eta 0:00:01\r\u001b[K     |█████████████████               | 880 kB 6.6 MB/s eta 0:00:01\r\u001b[K     |█████████████████▎              | 890 kB 6.6 MB/s eta 0:00:01\r\u001b[K     |█████████████████▍              | 901 kB 6.6 MB/s eta 0:00:01\r\u001b[K     |█████████████████▋              | 911 kB 6.6 MB/s eta 0:00:01\r\u001b[K     |█████████████████▉              | 921 kB 6.6 MB/s eta 0:00:01\r\u001b[K     |██████████████████              | 931 kB 6.6 MB/s eta 0:00:01\r\u001b[K     |██████████████████▎             | 942 kB 6.6 MB/s eta 0:00:01\r\u001b[K     |██████████████████▍             | 952 kB 6.6 MB/s eta 0:00:01\r\u001b[K     |██████████████████▋             | 962 kB 6.6 MB/s eta 0:00:01\r\u001b[K     |██████████████████▉             | 972 kB 6.6 MB/s eta 0:00:01\r\u001b[K     |███████████████████             | 983 kB 6.6 MB/s eta 0:00:01\r\u001b[K     |███████████████████▏            | 993 kB 6.6 MB/s eta 0:00:01\r\u001b[K     |███████████████████▍            | 1.0 MB 6.6 MB/s eta 0:00:01\r\u001b[K     |███████████████████▋            | 1.0 MB 6.6 MB/s eta 0:00:01\r\u001b[K     |███████████████████▉            | 1.0 MB 6.6 MB/s eta 0:00:01\r\u001b[K     |████████████████████            | 1.0 MB 6.6 MB/s eta 0:00:01\r\u001b[K     |████████████████████▏           | 1.0 MB 6.6 MB/s eta 0:00:01\r\u001b[K     |████████████████████▍           | 1.1 MB 6.6 MB/s eta 0:00:01\r\u001b[K     |████████████████████▋           | 1.1 MB 6.6 MB/s eta 0:00:01\r\u001b[K     |████████████████████▉           | 1.1 MB 6.6 MB/s eta 0:00:01\r\u001b[K     |█████████████████████           | 1.1 MB 6.6 MB/s eta 0:00:01\r\u001b[K     |█████████████████████▏          | 1.1 MB 6.6 MB/s eta 0:00:01\r\u001b[K     |█████████████████████▍          | 1.1 MB 6.6 MB/s eta 0:00:01\r\u001b[K     |█████████████████████▋          | 1.1 MB 6.6 MB/s eta 0:00:01\r\u001b[K     |█████████████████████▉          | 1.1 MB 6.6 MB/s eta 0:00:01\r\u001b[K     |██████████████████████          | 1.1 MB 6.6 MB/s eta 0:00:01\r\u001b[K     |██████████████████████▏         | 1.1 MB 6.6 MB/s eta 0:00:01\r\u001b[K     |██████████████████████▍         | 1.2 MB 6.6 MB/s eta 0:00:01\r\u001b[K     |██████████████████████▋         | 1.2 MB 6.6 MB/s eta 0:00:01\r\u001b[K     |██████████████████████▉         | 1.2 MB 6.6 MB/s eta 0:00:01\r\u001b[K     |███████████████████████         | 1.2 MB 6.6 MB/s eta 0:00:01\r\u001b[K     |███████████████████████▏        | 1.2 MB 6.6 MB/s eta 0:00:01\r\u001b[K     |███████████████████████▍        | 1.2 MB 6.6 MB/s eta 0:00:01\r\u001b[K     |███████████████████████▋        | 1.2 MB 6.6 MB/s eta 0:00:01\r\u001b[K     |███████████████████████▊        | 1.2 MB 6.6 MB/s eta 0:00:01\r\u001b[K     |████████████████████████        | 1.2 MB 6.6 MB/s eta 0:00:01\r\u001b[K     |████████████████████████▏       | 1.2 MB 6.6 MB/s eta 0:00:01\r\u001b[K     |████████████████████████▍       | 1.3 MB 6.6 MB/s eta 0:00:01\r\u001b[K     |████████████████████████▋       | 1.3 MB 6.6 MB/s eta 0:00:01\r\u001b[K     |████████████████████████▊       | 1.3 MB 6.6 MB/s eta 0:00:01\r\u001b[K     |█████████████████████████       | 1.3 MB 6.6 MB/s eta 0:00:01\r\u001b[K     |█████████████████████████▏      | 1.3 MB 6.6 MB/s eta 0:00:01\r\u001b[K     |█████████████████████████▍      | 1.3 MB 6.6 MB/s eta 0:00:01\r\u001b[K     |█████████████████████████▌      | 1.3 MB 6.6 MB/s eta 0:00:01\r\u001b[K     |█████████████████████████▊      | 1.3 MB 6.6 MB/s eta 0:00:01\r\u001b[K     |██████████████████████████      | 1.3 MB 6.6 MB/s eta 0:00:01\r\u001b[K     |██████████████████████████▏     | 1.4 MB 6.6 MB/s eta 0:00:01\r\u001b[K     |██████████████████████████▍     | 1.4 MB 6.6 MB/s eta 0:00:01\r\u001b[K     |██████████████████████████▌     | 1.4 MB 6.6 MB/s eta 0:00:01\r\u001b[K     |██████████████████████████▊     | 1.4 MB 6.6 MB/s eta 0:00:01\r\u001b[K     |███████████████████████████     | 1.4 MB 6.6 MB/s eta 0:00:01\r\u001b[K     |███████████████████████████▏    | 1.4 MB 6.6 MB/s eta 0:00:01\r\u001b[K     |███████████████████████████▍    | 1.4 MB 6.6 MB/s eta 0:00:01\r\u001b[K     |███████████████████████████▌    | 1.4 MB 6.6 MB/s eta 0:00:01\r\u001b[K     |███████████████████████████▊    | 1.4 MB 6.6 MB/s eta 0:00:01\r\u001b[K     |████████████████████████████    | 1.4 MB 6.6 MB/s eta 0:00:01\r\u001b[K     |████████████████████████████▏   | 1.5 MB 6.6 MB/s eta 0:00:01\r\u001b[K     |████████████████████████████▎   | 1.5 MB 6.6 MB/s eta 0:00:01\r\u001b[K     |████████████████████████████▌   | 1.5 MB 6.6 MB/s eta 0:00:01\r\u001b[K     |████████████████████████████▊   | 1.5 MB 6.6 MB/s eta 0:00:01\r\u001b[K     |█████████████████████████████   | 1.5 MB 6.6 MB/s eta 0:00:01\r\u001b[K     |█████████████████████████████▏  | 1.5 MB 6.6 MB/s eta 0:00:01\r\u001b[K     |█████████████████████████████▎  | 1.5 MB 6.6 MB/s eta 0:00:01\r\u001b[K     |█████████████████████████████▌  | 1.5 MB 6.6 MB/s eta 0:00:01\r\u001b[K     |█████████████████████████████▊  | 1.5 MB 6.6 MB/s eta 0:00:01\r\u001b[K     |██████████████████████████████  | 1.5 MB 6.6 MB/s eta 0:00:01\r\u001b[K     |██████████████████████████████▏ | 1.6 MB 6.6 MB/s eta 0:00:01\r\u001b[K     |██████████████████████████████▎ | 1.6 MB 6.6 MB/s eta 0:00:01\r\u001b[K     |██████████████████████████████▌ | 1.6 MB 6.6 MB/s eta 0:00:01\r\u001b[K     |██████████████████████████████▊ | 1.6 MB 6.6 MB/s eta 0:00:01\r\u001b[K     |███████████████████████████████ | 1.6 MB 6.6 MB/s eta 0:00:01\r\u001b[K     |███████████████████████████████ | 1.6 MB 6.6 MB/s eta 0:00:01\r\u001b[K     |███████████████████████████████▎| 1.6 MB 6.6 MB/s eta 0:00:01\r\u001b[K     |███████████████████████████████▌| 1.6 MB 6.6 MB/s eta 0:00:01\r\u001b[K     |███████████████████████████████▊| 1.6 MB 6.6 MB/s eta 0:00:01\r\u001b[K     |████████████████████████████████| 1.6 MB 6.6 MB/s eta 0:00:01\r\u001b[K     |████████████████████████████████| 1.7 MB 6.6 MB/s \n",
            "\u001b[?25h  Installing build dependencies ... \u001b[?25l\u001b[?25hdone\n",
            "  Getting requirements to build wheel ... \u001b[?25l\u001b[?25hdone\n",
            "  Installing backend dependencies ... \u001b[?25l\u001b[?25hdone\n",
            "    Preparing wheel metadata ... \u001b[?25l\u001b[?25hdone\n",
            "Requirement already satisfied: numexpr in /usr/local/lib/python3.7/dist-packages (from pyLDAvis) (2.8.1)\n",
            "Requirement already satisfied: gensim in /usr/local/lib/python3.7/dist-packages (from pyLDAvis) (3.6.0)\n",
            "Requirement already satisfied: scipy in /usr/local/lib/python3.7/dist-packages (from pyLDAvis) (1.4.1)\n",
            "Requirement already satisfied: future in /usr/local/lib/python3.7/dist-packages (from pyLDAvis) (0.16.0)\n",
            "Requirement already satisfied: jinja2 in /usr/local/lib/python3.7/dist-packages (from pyLDAvis) (2.11.3)\n",
            "Collecting funcy\n",
            "  Downloading funcy-1.17-py2.py3-none-any.whl (33 kB)\n",
            "Requirement already satisfied: sklearn in /usr/local/lib/python3.7/dist-packages (from pyLDAvis) (0.0)\n",
            "Requirement already satisfied: joblib in /usr/local/lib/python3.7/dist-packages (from pyLDAvis) (1.1.0)\n",
            "Requirement already satisfied: pandas>=1.2.0 in /usr/local/lib/python3.7/dist-packages (from pyLDAvis) (1.3.5)\n",
            "Requirement already satisfied: scikit-learn in /usr/local/lib/python3.7/dist-packages (from pyLDAvis) (1.0.2)\n",
            "Requirement already satisfied: setuptools in /usr/local/lib/python3.7/dist-packages (from pyLDAvis) (57.4.0)\n",
            "Requirement already satisfied: numpy>=1.20.0 in /usr/local/lib/python3.7/dist-packages (from pyLDAvis) (1.21.6)\n",
            "Requirement already satisfied: pytz>=2017.3 in /usr/local/lib/python3.7/dist-packages (from pandas>=1.2.0->pyLDAvis) (2022.1)\n",
            "Requirement already satisfied: python-dateutil>=2.7.3 in /usr/local/lib/python3.7/dist-packages (from pandas>=1.2.0->pyLDAvis) (2.8.2)\n",
            "Requirement already satisfied: six>=1.5 in /usr/local/lib/python3.7/dist-packages (from python-dateutil>=2.7.3->pandas>=1.2.0->pyLDAvis) (1.15.0)\n",
            "Requirement already satisfied: smart-open>=1.2.1 in /usr/local/lib/python3.7/dist-packages (from gensim->pyLDAvis) (6.0.0)\n",
            "Requirement already satisfied: MarkupSafe>=0.23 in /usr/local/lib/python3.7/dist-packages (from jinja2->pyLDAvis) (2.0.1)\n",
            "Requirement already satisfied: packaging in /usr/local/lib/python3.7/dist-packages (from numexpr->pyLDAvis) (21.3)\n",
            "Requirement already satisfied: pyparsing!=3.0.5,>=2.0.2 in /usr/local/lib/python3.7/dist-packages (from packaging->numexpr->pyLDAvis) (3.0.8)\n",
            "Requirement already satisfied: threadpoolctl>=2.0.0 in /usr/local/lib/python3.7/dist-packages (from scikit-learn->pyLDAvis) (3.1.0)\n",
            "Building wheels for collected packages: pyLDAvis\n",
            "  Building wheel for pyLDAvis (PEP 517) ... \u001b[?25l\u001b[?25hdone\n",
            "  Created wheel for pyLDAvis: filename=pyLDAvis-3.3.1-py2.py3-none-any.whl size=136898 sha256=ef1e3a4eda308f7bf0e7ce0d688a885aa0324532bace4aceee76ebc224952695\n",
            "  Stored in directory: /root/.cache/pip/wheels/c9/21/f6/17bcf2667e8a68532ba2fbf6d5c72fdf4c7f7d9abfa4852d2f\n",
            "Successfully built pyLDAvis\n",
            "Installing collected packages: funcy, pyLDAvis\n",
            "Successfully installed funcy-1.17 pyLDAvis-3.3.1\n",
            "\u001b[31mERROR: Could not find a version that satisfies the requirement pyLDAvis.gensim_models (from versions: none)\u001b[0m\n",
            "\u001b[31mERROR: No matching distribution found for pyLDAvis.gensim_models\u001b[0m\n"
          ]
        },
        {
          "output_type": "stream",
          "name": "stderr",
          "text": [
            "/usr/local/lib/python3.7/dist-packages/past/types/oldstr.py:5: DeprecationWarning: Using or importing the ABCs from 'collections' instead of from 'collections.abc' is deprecated since Python 3.3,and in 3.9 it will stop working\n",
            "  from collections import Iterable\n",
            "/usr/local/lib/python3.7/dist-packages/past/builtins/misc.py:4: DeprecationWarning: Using or importing the ABCs from 'collections' instead of from 'collections.abc' is deprecated since Python 3.3,and in 3.9 it will stop working\n",
            "  from collections import Mapping\n",
            "/usr/local/lib/python3.7/dist-packages/scipy/fft/__init__.py:97: DeprecationWarning: The module numpy.dual is deprecated.  Instead of using dual, use the functions directly from numpy or scipy.\n",
            "  from numpy.dual import register_func\n",
            "/usr/local/lib/python3.7/dist-packages/scipy/sparse/sputils.py:17: DeprecationWarning: `np.typeDict` is a deprecated alias for `np.sctypeDict`.\n",
            "  supported_dtypes = [np.typeDict[x] for x in supported_dtypes]\n",
            "/usr/local/lib/python3.7/dist-packages/scipy/sparse/sputils.py:17: DeprecationWarning: `np.typeDict` is a deprecated alias for `np.sctypeDict`.\n",
            "  supported_dtypes = [np.typeDict[x] for x in supported_dtypes]\n",
            "/usr/local/lib/python3.7/dist-packages/scipy/sparse/sputils.py:17: DeprecationWarning: `np.typeDict` is a deprecated alias for `np.sctypeDict`.\n",
            "  supported_dtypes = [np.typeDict[x] for x in supported_dtypes]\n",
            "/usr/local/lib/python3.7/dist-packages/scipy/sparse/sputils.py:17: DeprecationWarning: `np.typeDict` is a deprecated alias for `np.sctypeDict`.\n",
            "  supported_dtypes = [np.typeDict[x] for x in supported_dtypes]\n",
            "/usr/local/lib/python3.7/dist-packages/scipy/sparse/sputils.py:17: DeprecationWarning: `np.typeDict` is a deprecated alias for `np.sctypeDict`.\n",
            "  supported_dtypes = [np.typeDict[x] for x in supported_dtypes]\n",
            "/usr/local/lib/python3.7/dist-packages/scipy/sparse/sputils.py:17: DeprecationWarning: `np.typeDict` is a deprecated alias for `np.sctypeDict`.\n",
            "  supported_dtypes = [np.typeDict[x] for x in supported_dtypes]\n",
            "/usr/local/lib/python3.7/dist-packages/scipy/sparse/sputils.py:17: DeprecationWarning: `np.typeDict` is a deprecated alias for `np.sctypeDict`.\n",
            "  supported_dtypes = [np.typeDict[x] for x in supported_dtypes]\n",
            "/usr/local/lib/python3.7/dist-packages/scipy/sparse/sputils.py:17: DeprecationWarning: `np.typeDict` is a deprecated alias for `np.sctypeDict`.\n",
            "  supported_dtypes = [np.typeDict[x] for x in supported_dtypes]\n",
            "/usr/local/lib/python3.7/dist-packages/scipy/sparse/sputils.py:17: DeprecationWarning: `np.typeDict` is a deprecated alias for `np.sctypeDict`.\n",
            "  supported_dtypes = [np.typeDict[x] for x in supported_dtypes]\n",
            "/usr/local/lib/python3.7/dist-packages/scipy/sparse/sputils.py:17: DeprecationWarning: `np.typeDict` is a deprecated alias for `np.sctypeDict`.\n",
            "  supported_dtypes = [np.typeDict[x] for x in supported_dtypes]\n",
            "/usr/local/lib/python3.7/dist-packages/scipy/sparse/sputils.py:17: DeprecationWarning: `np.typeDict` is a deprecated alias for `np.sctypeDict`.\n",
            "  supported_dtypes = [np.typeDict[x] for x in supported_dtypes]\n",
            "/usr/local/lib/python3.7/dist-packages/scipy/sparse/sputils.py:17: DeprecationWarning: `np.typeDict` is a deprecated alias for `np.sctypeDict`.\n",
            "  supported_dtypes = [np.typeDict[x] for x in supported_dtypes]\n",
            "/usr/local/lib/python3.7/dist-packages/scipy/sparse/sputils.py:17: DeprecationWarning: `np.typeDict` is a deprecated alias for `np.sctypeDict`.\n",
            "  supported_dtypes = [np.typeDict[x] for x in supported_dtypes]\n",
            "/usr/local/lib/python3.7/dist-packages/scipy/sparse/sputils.py:17: DeprecationWarning: `np.typeDict` is a deprecated alias for `np.sctypeDict`.\n",
            "  supported_dtypes = [np.typeDict[x] for x in supported_dtypes]\n",
            "/usr/local/lib/python3.7/dist-packages/scipy/sparse/sputils.py:17: DeprecationWarning: `np.typeDict` is a deprecated alias for `np.sctypeDict`.\n",
            "  supported_dtypes = [np.typeDict[x] for x in supported_dtypes]\n",
            "/usr/local/lib/python3.7/dist-packages/scipy/special/orthogonal.py:81: DeprecationWarning: `np.int` is a deprecated alias for the builtin `int`. To silence this warning, use `int` by itself. Doing this will not modify any behavior and is safe. When replacing `np.int`, you may wish to use e.g. `np.int64` or `np.int32` to specify the precision. If you wish to review your current use, check the release note link for additional information.\n",
            "Deprecated in NumPy 1.20; for more details and guidance: https://numpy.org/devdocs/release/1.20.0-notes.html#deprecations\n",
            "  from numpy import (exp, inf, pi, sqrt, floor, sin, cos, around, int,\n",
            "/usr/local/lib/python3.7/dist-packages/scipy/special/orthogonal.py:81: DeprecationWarning: `np.int` is a deprecated alias for the builtin `int`. To silence this warning, use `int` by itself. Doing this will not modify any behavior and is safe. When replacing `np.int`, you may wish to use e.g. `np.int64` or `np.int32` to specify the precision. If you wish to review your current use, check the release note link for additional information.\n",
            "Deprecated in NumPy 1.20; for more details and guidance: https://numpy.org/devdocs/release/1.20.0-notes.html#deprecations\n",
            "  from numpy import (exp, inf, pi, sqrt, floor, sin, cos, around, int,\n"
          ]
        }
      ]
    },
    {
      "cell_type": "code",
      "execution_count": 2,
      "metadata": {
        "colab": {
          "base_uri": "https://localhost:8080/"
        },
        "id": "zNgpN0CBwFzz",
        "outputId": "c952ea04-6270-4d36-e9fc-cc0db119109b"
      },
      "outputs": [
        {
          "output_type": "stream",
          "name": "stderr",
          "text": [
            "/usr/local/lib/python3.7/dist-packages/nltk/decorators.py:70: DeprecationWarning: `formatargspec` is deprecated since Python 3.5. Use `signature` and the `Signature` object directly\n",
            "  formatvalue=lambda value: \"\")[1:-1]\n",
            "/usr/local/lib/python3.7/dist-packages/scipy/io/matlab/mio5.py:98: DeprecationWarning: `np.bool` is a deprecated alias for the builtin `bool`. To silence this warning, use `bool` by itself. Doing this will not modify any behavior and is safe. If you specifically wanted the numpy scalar type, use `np.bool_` here.\n",
            "Deprecated in NumPy 1.20; for more details and guidance: https://numpy.org/devdocs/release/1.20.0-notes.html#deprecations\n",
            "  from .mio5_utils import VarReader5\n",
            "/usr/local/lib/python3.7/dist-packages/scipy/sparse/sparsetools.py:21: DeprecationWarning: `scipy.sparse.sparsetools` is deprecated!\n",
            "scipy.sparse.sparsetools is a private module for scipy.sparse, and should not be used.\n",
            "  _deprecated()\n"
          ]
        }
      ],
      "source": [
        "# Run in terminal or command prompt\n",
        "# python3 -m spacy download en\n",
        "\n",
        "import numpy as np\n",
        "import pandas as pd\n",
        "import re, nltk, spacy, gensim\n",
        "\n",
        "# Sklearn\n",
        "from sklearn.decomposition import LatentDirichletAllocation, TruncatedSVD\n",
        "from sklearn.feature_extraction.text import CountVectorizer, TfidfVectorizer\n",
        "from sklearn.model_selection import GridSearchCV\n",
        "from pprint import pprint\n",
        "\n",
        "# Plotting tools\n",
        "import pyLDAvis\n",
        "import pyLDAvis.sklearn\n",
        "import matplotlib.pyplot as plt\n",
        "%matplotlib inline"
      ]
    },
    {
      "cell_type": "code",
      "source": [
        "# Import Dataset\n",
        "df = pd.read_fwf(r'/content/.config/cleaned_file.txt', header=None)\n",
        "#df = pd.read_json('/content/.config/cleaned_file.txt')\n",
        "#print(df.target_names.unique())\n",
        "df.head(15)"
      ],
      "metadata": {
        "colab": {
          "base_uri": "https://localhost:8080/",
          "height": 398
        },
        "id": "1xPHl8GUxNhR",
        "outputId": "9fd093fa-82b5-415f-a3b7-7bf87a8aa66d"
      },
      "execution_count": 3,
      "outputs": [
        {
          "output_type": "error",
          "ename": "FileNotFoundError",
          "evalue": "ignored",
          "traceback": [
            "\u001b[0;31m---------------------------------------------------------------------------\u001b[0m",
            "\u001b[0;31mFileNotFoundError\u001b[0m                         Traceback (most recent call last)",
            "\u001b[0;32m<ipython-input-3-73f60a9b8258>\u001b[0m in \u001b[0;36m<module>\u001b[0;34m()\u001b[0m\n\u001b[1;32m      1\u001b[0m \u001b[0;31m# Import Dataset\u001b[0m\u001b[0;34m\u001b[0m\u001b[0;34m\u001b[0m\u001b[0;34m\u001b[0m\u001b[0m\n\u001b[0;32m----> 2\u001b[0;31m \u001b[0mdf\u001b[0m \u001b[0;34m=\u001b[0m \u001b[0mpd\u001b[0m\u001b[0;34m.\u001b[0m\u001b[0mread_fwf\u001b[0m\u001b[0;34m(\u001b[0m\u001b[0;34mr'/content/.config/cleaned_file.txt'\u001b[0m\u001b[0;34m,\u001b[0m \u001b[0mheader\u001b[0m\u001b[0;34m=\u001b[0m\u001b[0;32mNone\u001b[0m\u001b[0;34m)\u001b[0m\u001b[0;34m\u001b[0m\u001b[0;34m\u001b[0m\u001b[0m\n\u001b[0m\u001b[1;32m      3\u001b[0m \u001b[0;31m#df = pd.read_json('/content/.config/cleaned_file.txt')\u001b[0m\u001b[0;34m\u001b[0m\u001b[0;34m\u001b[0m\u001b[0;34m\u001b[0m\u001b[0m\n\u001b[1;32m      4\u001b[0m \u001b[0;31m#print(df.target_names.unique())\u001b[0m\u001b[0;34m\u001b[0m\u001b[0;34m\u001b[0m\u001b[0;34m\u001b[0m\u001b[0m\n\u001b[1;32m      5\u001b[0m \u001b[0mdf\u001b[0m\u001b[0;34m.\u001b[0m\u001b[0mhead\u001b[0m\u001b[0;34m(\u001b[0m\u001b[0;36m15\u001b[0m\u001b[0;34m)\u001b[0m\u001b[0;34m\u001b[0m\u001b[0;34m\u001b[0m\u001b[0m\n",
            "\u001b[0;32m/usr/local/lib/python3.7/dist-packages/pandas/io/parsers/readers.py\u001b[0m in \u001b[0;36mread_fwf\u001b[0;34m(filepath_or_buffer, colspecs, widths, infer_nrows, **kwds)\u001b[0m\n\u001b[1;32m    760\u001b[0m     \u001b[0mkwds\u001b[0m\u001b[0;34m[\u001b[0m\u001b[0;34m\"infer_nrows\"\u001b[0m\u001b[0;34m]\u001b[0m \u001b[0;34m=\u001b[0m \u001b[0minfer_nrows\u001b[0m\u001b[0;34m\u001b[0m\u001b[0;34m\u001b[0m\u001b[0m\n\u001b[1;32m    761\u001b[0m     \u001b[0mkwds\u001b[0m\u001b[0;34m[\u001b[0m\u001b[0;34m\"engine\"\u001b[0m\u001b[0;34m]\u001b[0m \u001b[0;34m=\u001b[0m \u001b[0;34m\"python-fwf\"\u001b[0m\u001b[0;34m\u001b[0m\u001b[0;34m\u001b[0m\u001b[0m\n\u001b[0;32m--> 762\u001b[0;31m     \u001b[0;32mreturn\u001b[0m \u001b[0m_read\u001b[0m\u001b[0;34m(\u001b[0m\u001b[0mfilepath_or_buffer\u001b[0m\u001b[0;34m,\u001b[0m \u001b[0mkwds\u001b[0m\u001b[0;34m)\u001b[0m\u001b[0;34m\u001b[0m\u001b[0;34m\u001b[0m\u001b[0m\n\u001b[0m\u001b[1;32m    763\u001b[0m \u001b[0;34m\u001b[0m\u001b[0m\n\u001b[1;32m    764\u001b[0m \u001b[0;34m\u001b[0m\u001b[0m\n",
            "\u001b[0;32m/usr/local/lib/python3.7/dist-packages/pandas/io/parsers/readers.py\u001b[0m in \u001b[0;36m_read\u001b[0;34m(filepath_or_buffer, kwds)\u001b[0m\n\u001b[1;32m    480\u001b[0m \u001b[0;34m\u001b[0m\u001b[0m\n\u001b[1;32m    481\u001b[0m     \u001b[0;31m# Create the parser.\u001b[0m\u001b[0;34m\u001b[0m\u001b[0;34m\u001b[0m\u001b[0;34m\u001b[0m\u001b[0m\n\u001b[0;32m--> 482\u001b[0;31m     \u001b[0mparser\u001b[0m \u001b[0;34m=\u001b[0m \u001b[0mTextFileReader\u001b[0m\u001b[0;34m(\u001b[0m\u001b[0mfilepath_or_buffer\u001b[0m\u001b[0;34m,\u001b[0m \u001b[0;34m**\u001b[0m\u001b[0mkwds\u001b[0m\u001b[0;34m)\u001b[0m\u001b[0;34m\u001b[0m\u001b[0;34m\u001b[0m\u001b[0m\n\u001b[0m\u001b[1;32m    483\u001b[0m \u001b[0;34m\u001b[0m\u001b[0m\n\u001b[1;32m    484\u001b[0m     \u001b[0;32mif\u001b[0m \u001b[0mchunksize\u001b[0m \u001b[0;32mor\u001b[0m \u001b[0miterator\u001b[0m\u001b[0;34m:\u001b[0m\u001b[0;34m\u001b[0m\u001b[0;34m\u001b[0m\u001b[0m\n",
            "\u001b[0;32m/usr/local/lib/python3.7/dist-packages/pandas/io/parsers/readers.py\u001b[0m in \u001b[0;36m__init__\u001b[0;34m(self, f, engine, **kwds)\u001b[0m\n\u001b[1;32m    809\u001b[0m             \u001b[0mself\u001b[0m\u001b[0;34m.\u001b[0m\u001b[0moptions\u001b[0m\u001b[0;34m[\u001b[0m\u001b[0;34m\"has_index_names\"\u001b[0m\u001b[0;34m]\u001b[0m \u001b[0;34m=\u001b[0m \u001b[0mkwds\u001b[0m\u001b[0;34m[\u001b[0m\u001b[0;34m\"has_index_names\"\u001b[0m\u001b[0;34m]\u001b[0m\u001b[0;34m\u001b[0m\u001b[0;34m\u001b[0m\u001b[0m\n\u001b[1;32m    810\u001b[0m \u001b[0;34m\u001b[0m\u001b[0m\n\u001b[0;32m--> 811\u001b[0;31m         \u001b[0mself\u001b[0m\u001b[0;34m.\u001b[0m\u001b[0m_engine\u001b[0m \u001b[0;34m=\u001b[0m \u001b[0mself\u001b[0m\u001b[0;34m.\u001b[0m\u001b[0m_make_engine\u001b[0m\u001b[0;34m(\u001b[0m\u001b[0mself\u001b[0m\u001b[0;34m.\u001b[0m\u001b[0mengine\u001b[0m\u001b[0;34m)\u001b[0m\u001b[0;34m\u001b[0m\u001b[0;34m\u001b[0m\u001b[0m\n\u001b[0m\u001b[1;32m    812\u001b[0m \u001b[0;34m\u001b[0m\u001b[0m\n\u001b[1;32m    813\u001b[0m     \u001b[0;32mdef\u001b[0m \u001b[0mclose\u001b[0m\u001b[0;34m(\u001b[0m\u001b[0mself\u001b[0m\u001b[0;34m)\u001b[0m\u001b[0;34m:\u001b[0m\u001b[0;34m\u001b[0m\u001b[0;34m\u001b[0m\u001b[0m\n",
            "\u001b[0;32m/usr/local/lib/python3.7/dist-packages/pandas/io/parsers/readers.py\u001b[0m in \u001b[0;36m_make_engine\u001b[0;34m(self, engine)\u001b[0m\n\u001b[1;32m   1038\u001b[0m             )\n\u001b[1;32m   1039\u001b[0m         \u001b[0;31m# error: Too many arguments for \"ParserBase\"\u001b[0m\u001b[0;34m\u001b[0m\u001b[0;34m\u001b[0m\u001b[0;34m\u001b[0m\u001b[0m\n\u001b[0;32m-> 1040\u001b[0;31m         \u001b[0;32mreturn\u001b[0m \u001b[0mmapping\u001b[0m\u001b[0;34m[\u001b[0m\u001b[0mengine\u001b[0m\u001b[0;34m]\u001b[0m\u001b[0;34m(\u001b[0m\u001b[0mself\u001b[0m\u001b[0;34m.\u001b[0m\u001b[0mf\u001b[0m\u001b[0;34m,\u001b[0m \u001b[0;34m**\u001b[0m\u001b[0mself\u001b[0m\u001b[0;34m.\u001b[0m\u001b[0moptions\u001b[0m\u001b[0;34m)\u001b[0m  \u001b[0;31m# type: ignore[call-arg]\u001b[0m\u001b[0;34m\u001b[0m\u001b[0;34m\u001b[0m\u001b[0m\n\u001b[0m\u001b[1;32m   1041\u001b[0m \u001b[0;34m\u001b[0m\u001b[0m\n\u001b[1;32m   1042\u001b[0m     \u001b[0;32mdef\u001b[0m \u001b[0m_failover_to_python\u001b[0m\u001b[0;34m(\u001b[0m\u001b[0mself\u001b[0m\u001b[0;34m)\u001b[0m\u001b[0;34m:\u001b[0m\u001b[0;34m\u001b[0m\u001b[0;34m\u001b[0m\u001b[0m\n",
            "\u001b[0;32m/usr/local/lib/python3.7/dist-packages/pandas/io/parsers/python_parser.py\u001b[0m in \u001b[0;36m__init__\u001b[0;34m(self, f, **kwds)\u001b[0m\n\u001b[1;32m   1201\u001b[0m         \u001b[0mself\u001b[0m\u001b[0;34m.\u001b[0m\u001b[0mcolspecs\u001b[0m \u001b[0;34m=\u001b[0m \u001b[0mkwds\u001b[0m\u001b[0;34m.\u001b[0m\u001b[0mpop\u001b[0m\u001b[0;34m(\u001b[0m\u001b[0;34m\"colspecs\"\u001b[0m\u001b[0;34m)\u001b[0m\u001b[0;34m\u001b[0m\u001b[0;34m\u001b[0m\u001b[0m\n\u001b[1;32m   1202\u001b[0m         \u001b[0mself\u001b[0m\u001b[0;34m.\u001b[0m\u001b[0minfer_nrows\u001b[0m \u001b[0;34m=\u001b[0m \u001b[0mkwds\u001b[0m\u001b[0;34m.\u001b[0m\u001b[0mpop\u001b[0m\u001b[0;34m(\u001b[0m\u001b[0;34m\"infer_nrows\"\u001b[0m\u001b[0;34m)\u001b[0m\u001b[0;34m\u001b[0m\u001b[0;34m\u001b[0m\u001b[0m\n\u001b[0;32m-> 1203\u001b[0;31m         \u001b[0mPythonParser\u001b[0m\u001b[0;34m.\u001b[0m\u001b[0m__init__\u001b[0m\u001b[0;34m(\u001b[0m\u001b[0mself\u001b[0m\u001b[0;34m,\u001b[0m \u001b[0mf\u001b[0m\u001b[0;34m,\u001b[0m \u001b[0;34m**\u001b[0m\u001b[0mkwds\u001b[0m\u001b[0;34m)\u001b[0m\u001b[0;34m\u001b[0m\u001b[0;34m\u001b[0m\u001b[0m\n\u001b[0m\u001b[1;32m   1204\u001b[0m \u001b[0;34m\u001b[0m\u001b[0m\n\u001b[1;32m   1205\u001b[0m     \u001b[0;32mdef\u001b[0m \u001b[0m_make_reader\u001b[0m\u001b[0;34m(\u001b[0m\u001b[0mself\u001b[0m\u001b[0;34m,\u001b[0m \u001b[0mf\u001b[0m\u001b[0;34m)\u001b[0m\u001b[0;34m:\u001b[0m\u001b[0;34m\u001b[0m\u001b[0;34m\u001b[0m\u001b[0m\n",
            "\u001b[0;32m/usr/local/lib/python3.7/dist-packages/pandas/io/parsers/python_parser.py\u001b[0m in \u001b[0;36m__init__\u001b[0;34m(self, f, **kwds)\u001b[0m\n\u001b[1;32m     94\u001b[0m             \u001b[0mself\u001b[0m\u001b[0;34m.\u001b[0m\u001b[0mdata\u001b[0m \u001b[0;34m=\u001b[0m \u001b[0mcast\u001b[0m\u001b[0;34m(\u001b[0m\u001b[0mIterator\u001b[0m\u001b[0;34m[\u001b[0m\u001b[0mstr\u001b[0m\u001b[0;34m]\u001b[0m\u001b[0;34m,\u001b[0m \u001b[0mf\u001b[0m\u001b[0;34m)\u001b[0m\u001b[0;34m\u001b[0m\u001b[0;34m\u001b[0m\u001b[0m\n\u001b[1;32m     95\u001b[0m         \u001b[0;32melse\u001b[0m\u001b[0;34m:\u001b[0m\u001b[0;34m\u001b[0m\u001b[0;34m\u001b[0m\u001b[0m\n\u001b[0;32m---> 96\u001b[0;31m             \u001b[0mself\u001b[0m\u001b[0;34m.\u001b[0m\u001b[0m_open_handles\u001b[0m\u001b[0;34m(\u001b[0m\u001b[0mf\u001b[0m\u001b[0;34m,\u001b[0m \u001b[0mkwds\u001b[0m\u001b[0;34m)\u001b[0m\u001b[0;34m\u001b[0m\u001b[0;34m\u001b[0m\u001b[0m\n\u001b[0m\u001b[1;32m     97\u001b[0m             \u001b[0;32massert\u001b[0m \u001b[0mself\u001b[0m\u001b[0;34m.\u001b[0m\u001b[0mhandles\u001b[0m \u001b[0;32mis\u001b[0m \u001b[0;32mnot\u001b[0m \u001b[0;32mNone\u001b[0m\u001b[0;34m\u001b[0m\u001b[0;34m\u001b[0m\u001b[0m\n\u001b[1;32m     98\u001b[0m             \u001b[0;32massert\u001b[0m \u001b[0mhasattr\u001b[0m\u001b[0;34m(\u001b[0m\u001b[0mself\u001b[0m\u001b[0;34m.\u001b[0m\u001b[0mhandles\u001b[0m\u001b[0;34m.\u001b[0m\u001b[0mhandle\u001b[0m\u001b[0;34m,\u001b[0m \u001b[0;34m\"readline\"\u001b[0m\u001b[0;34m)\u001b[0m\u001b[0;34m\u001b[0m\u001b[0;34m\u001b[0m\u001b[0m\n",
            "\u001b[0;32m/usr/local/lib/python3.7/dist-packages/pandas/io/parsers/base_parser.py\u001b[0m in \u001b[0;36m_open_handles\u001b[0;34m(self, src, kwds)\u001b[0m\n\u001b[1;32m    227\u001b[0m             \u001b[0mmemory_map\u001b[0m\u001b[0;34m=\u001b[0m\u001b[0mkwds\u001b[0m\u001b[0;34m.\u001b[0m\u001b[0mget\u001b[0m\u001b[0;34m(\u001b[0m\u001b[0;34m\"memory_map\"\u001b[0m\u001b[0;34m,\u001b[0m \u001b[0;32mFalse\u001b[0m\u001b[0;34m)\u001b[0m\u001b[0;34m,\u001b[0m\u001b[0;34m\u001b[0m\u001b[0;34m\u001b[0m\u001b[0m\n\u001b[1;32m    228\u001b[0m             \u001b[0mstorage_options\u001b[0m\u001b[0;34m=\u001b[0m\u001b[0mkwds\u001b[0m\u001b[0;34m.\u001b[0m\u001b[0mget\u001b[0m\u001b[0;34m(\u001b[0m\u001b[0;34m\"storage_options\"\u001b[0m\u001b[0;34m,\u001b[0m \u001b[0;32mNone\u001b[0m\u001b[0;34m)\u001b[0m\u001b[0;34m,\u001b[0m\u001b[0;34m\u001b[0m\u001b[0;34m\u001b[0m\u001b[0m\n\u001b[0;32m--> 229\u001b[0;31m             \u001b[0merrors\u001b[0m\u001b[0;34m=\u001b[0m\u001b[0mkwds\u001b[0m\u001b[0;34m.\u001b[0m\u001b[0mget\u001b[0m\u001b[0;34m(\u001b[0m\u001b[0;34m\"encoding_errors\"\u001b[0m\u001b[0;34m,\u001b[0m \u001b[0;34m\"strict\"\u001b[0m\u001b[0;34m)\u001b[0m\u001b[0;34m,\u001b[0m\u001b[0;34m\u001b[0m\u001b[0;34m\u001b[0m\u001b[0m\n\u001b[0m\u001b[1;32m    230\u001b[0m         )\n\u001b[1;32m    231\u001b[0m \u001b[0;34m\u001b[0m\u001b[0m\n",
            "\u001b[0;32m/usr/local/lib/python3.7/dist-packages/pandas/io/common.py\u001b[0m in \u001b[0;36mget_handle\u001b[0;34m(path_or_buf, mode, encoding, compression, memory_map, is_text, errors, storage_options)\u001b[0m\n\u001b[1;32m    705\u001b[0m                 \u001b[0mencoding\u001b[0m\u001b[0;34m=\u001b[0m\u001b[0mioargs\u001b[0m\u001b[0;34m.\u001b[0m\u001b[0mencoding\u001b[0m\u001b[0;34m,\u001b[0m\u001b[0;34m\u001b[0m\u001b[0;34m\u001b[0m\u001b[0m\n\u001b[1;32m    706\u001b[0m                 \u001b[0merrors\u001b[0m\u001b[0;34m=\u001b[0m\u001b[0merrors\u001b[0m\u001b[0;34m,\u001b[0m\u001b[0;34m\u001b[0m\u001b[0;34m\u001b[0m\u001b[0m\n\u001b[0;32m--> 707\u001b[0;31m                 \u001b[0mnewline\u001b[0m\u001b[0;34m=\u001b[0m\u001b[0;34m\"\"\u001b[0m\u001b[0;34m,\u001b[0m\u001b[0;34m\u001b[0m\u001b[0;34m\u001b[0m\u001b[0m\n\u001b[0m\u001b[1;32m    708\u001b[0m             )\n\u001b[1;32m    709\u001b[0m         \u001b[0;32melse\u001b[0m\u001b[0;34m:\u001b[0m\u001b[0;34m\u001b[0m\u001b[0;34m\u001b[0m\u001b[0m\n",
            "\u001b[0;31mFileNotFoundError\u001b[0m: [Errno 2] No such file or directory: '/content/.config/cleaned_file.txt'"
          ]
        }
      ]
    },
    {
      "cell_type": "code",
      "source": [
        "import re"
      ],
      "metadata": {
        "id": "zAdqF2XH-kld"
      },
      "execution_count": 11,
      "outputs": []
    },
    {
      "cell_type": "code",
      "source": [
        "# Convert to list\n",
        "data = df.values.tolist()\n",
        "\n",
        "# Remove Emails\n",
        "data = [re.sub('\\S*@\\S*\\s?', '', str(data)) for sent in data]\n",
        "\n",
        "# Remove new line characters\n",
        "data = [re.sub('\\s+', ' ', sent) for sent in data]\n",
        "\n",
        "# Remove distracting single quotes\n",
        "data = [re.sub(\"\\'\", \"\", sent) for sent in data]\n",
        "\n",
        "pprint(data[:1])"
      ],
      "metadata": {
        "colab": {
          "base_uri": "https://localhost:8080/"
        },
        "id": "Oqx2fBnN0vyk",
        "outputId": "0976d593-75f2-4746-e862-fde45f314d33"
      },
      "execution_count": null,
      "outputs": [
        {
          "output_type": "stream",
          "name": "stderr",
          "text": [
            "<input>:5: DeprecationWarning: invalid escape sequence \\S\n",
            "<input>:5: DeprecationWarning: invalid escape sequence \\S\n",
            "<input>:5: DeprecationWarning: invalid escape sequence \\S\n",
            "<input>:5: DeprecationWarning: invalid escape sequence \\S\n",
            "<input>:8: DeprecationWarning: invalid escape sequence \\s\n",
            "<input>:5: DeprecationWarning: invalid escape sequence \\S\n",
            "<input>:8: DeprecationWarning: invalid escape sequence \\s\n",
            "<input>:5: DeprecationWarning: invalid escape sequence \\S\n",
            "<input>:8: DeprecationWarning: invalid escape sequence \\s\n",
            "<input>:5: DeprecationWarning: invalid escape sequence \\S\n",
            "<input>:8: DeprecationWarning: invalid escape sequence \\s\n",
            "<input>:5: DeprecationWarning: invalid escape sequence \\S\n",
            "<input>:8: DeprecationWarning: invalid escape sequence \\s\n",
            "<input>:5: DeprecationWarning: invalid escape sequence \\S\n",
            "<input>:8: DeprecationWarning: invalid escape sequence \\s\n",
            "<ipython-input-14-b14ba7d52d1d>:5: DeprecationWarning: invalid escape sequence \\S\n",
            "  data = [re.sub('\\S*@\\S*\\s?', '', str(data)) for sent in data]\n",
            "<ipython-input-14-b14ba7d52d1d>:8: DeprecationWarning: invalid escape sequence \\s\n",
            "  data = [re.sub('\\s+', ' ', sent) for sent in data]\n"
          ]
        }
      ]
    },
    {
      "cell_type": "code",
      "source": [
        "pprint(data[:1])"
      ],
      "metadata": {
        "colab": {
          "base_uri": "https://localhost:8080/"
        },
        "id": "cErn-E4XTYpc",
        "outputId": "e450c41f-b68b-414f-f070-143068977253"
      },
      "execution_count": 1,
      "outputs": [
        {
          "output_type": "stream",
          "name": "stdout",
          "text": [
            "Pretty printing has been turned OFF\n"
          ]
        }
      ]
    },
    {
      "cell_type": "code",
      "source": [
        "def sent_to_words(sentences):\n",
        "    for sentence in sentences:\n",
        "        yield(gensim.utils.simple_preprocess(str(sentence), deacc=True))  # deacc=True removes punctuations\n",
        "\n",
        "data_words = list(sent_to_words(data))\n",
        "\n",
        "print(data_words[:1])\n"
      ],
      "metadata": {
        "colab": {
          "base_uri": "https://localhost:8080/",
          "height": 253
        },
        "id": "SiaTexKcTvaj",
        "outputId": "e715c390-ff79-4151-92f1-016032b7a797"
      },
      "execution_count": 2,
      "outputs": [
        {
          "output_type": "error",
          "ename": "NameError",
          "evalue": "ignored",
          "traceback": [
            "\u001b[0;31m---------------------------------------------------------------------------\u001b[0m",
            "\u001b[0;31mNameError\u001b[0m                                 Traceback (most recent call last)",
            "\u001b[0;32m<ipython-input-2-63c3a86ef40c>\u001b[0m in \u001b[0;36m<module>\u001b[0;34m()\u001b[0m\n\u001b[1;32m      3\u001b[0m         \u001b[0;32myield\u001b[0m\u001b[0;34m(\u001b[0m\u001b[0mgensim\u001b[0m\u001b[0;34m.\u001b[0m\u001b[0mutils\u001b[0m\u001b[0;34m.\u001b[0m\u001b[0msimple_preprocess\u001b[0m\u001b[0;34m(\u001b[0m\u001b[0mstr\u001b[0m\u001b[0;34m(\u001b[0m\u001b[0msentence\u001b[0m\u001b[0;34m)\u001b[0m\u001b[0;34m,\u001b[0m \u001b[0mdeacc\u001b[0m\u001b[0;34m=\u001b[0m\u001b[0;32mTrue\u001b[0m\u001b[0;34m)\u001b[0m\u001b[0;34m)\u001b[0m  \u001b[0;31m# deacc=True removes punctuations\u001b[0m\u001b[0;34m\u001b[0m\u001b[0;34m\u001b[0m\u001b[0m\n\u001b[1;32m      4\u001b[0m \u001b[0;34m\u001b[0m\u001b[0m\n\u001b[0;32m----> 5\u001b[0;31m \u001b[0mdata_words\u001b[0m \u001b[0;34m=\u001b[0m \u001b[0mlist\u001b[0m\u001b[0;34m(\u001b[0m\u001b[0msent_to_words\u001b[0m\u001b[0;34m(\u001b[0m\u001b[0mdata\u001b[0m\u001b[0;34m)\u001b[0m\u001b[0;34m)\u001b[0m\u001b[0;34m\u001b[0m\u001b[0;34m\u001b[0m\u001b[0m\n\u001b[0m\u001b[1;32m      6\u001b[0m \u001b[0;34m\u001b[0m\u001b[0m\n\u001b[1;32m      7\u001b[0m \u001b[0mprint\u001b[0m\u001b[0;34m(\u001b[0m\u001b[0mdata_words\u001b[0m\u001b[0;34m[\u001b[0m\u001b[0;34m:\u001b[0m\u001b[0;36m1\u001b[0m\u001b[0;34m]\u001b[0m\u001b[0;34m)\u001b[0m\u001b[0;34m\u001b[0m\u001b[0;34m\u001b[0m\u001b[0m\n",
            "\u001b[0;31mNameError\u001b[0m: name 'data' is not defined"
          ]
        }
      ]
    }
  ]
}