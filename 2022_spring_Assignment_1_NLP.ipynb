{
  "nbformat": 4,
  "nbformat_minor": 0,
  "metadata": {
    "colab": {
      "name": "2022 spring Assignment 1 NLP ",
      "provenance": [],
      "authorship_tag": "ABX9TyNI/yfFkaBGM79CT7uVO1YT",
      "include_colab_link": true
    },
    "kernelspec": {
      "name": "python3",
      "display_name": "Python 3"
    },
    "language_info": {
      "name": "python"
    }
  },
  "cells": [
    {
      "cell_type": "markdown",
      "metadata": {
        "id": "view-in-github",
        "colab_type": "text"
      },
      "source": [
        "<a href=\"https://colab.research.google.com/github/shaon11579/2022-spring-NLP-/blob/main/2022_spring_Assignment_1_NLP.ipynb\" target=\"_parent\"><img src=\"https://colab.research.google.com/assets/colab-badge.svg\" alt=\"Open In Colab\"/></a>"
      ]
    },
    {
      "cell_type": "code",
      "execution_count": 4,
      "metadata": {
        "colab": {
          "base_uri": "https://localhost:8080/"
        },
        "id": "FRPesvoTzK7q",
        "outputId": "871c1f7f-ccf3-4055-fea0-9b47743d17a2"
      },
      "outputs": [
        {
          "output_type": "stream",
          "name": "stdout",
          "text": [
            "{'Whales': 1, 'are': 3, 'marine': 1, 'mammals': 1, 'of': 5, 'order': 1, 'Cetacea': 1, 'which': 1, 'neither': 1, 'dolphins': 1, 'members': 1, 'in': 2, 'other': 1, 'words,': 1, 'the': 6, 'families': 1, 'delphinidae': 1, 'or': 1, 'platanistoidae': 1, 'nor': 1, 'porpoises.': 1, 'They': 1, 'include': 1, 'blue': 1, 'whale,': 1, 'largest': 1, 'animal': 1, 'ever': 1, 'to': 2, 'have': 3, 'lived.': 1, 'Orcas,': 1, 'colloquially': 1, 'referred': 1, 'as': 2, '\"killer': 1, 'whales\",': 1, 'and': 2, 'pilot': 1, 'whales': 2, 'whale': 1, 'their': 1, 'name': 1, 'but': 1, 'for': 2, 'purpose': 1, 'classification': 1, 'they': 1, 'actually': 1, 'dolphins.': 1, 'For': 1, 'centuries,': 1, 'been': 1, 'hunted': 1, 'meat': 1, 'a': 1, 'source': 1, 'valuable': 1, 'rawmaterials.': 1, 'By': 1, 'middle': 1, '20th': 1, 'century,': 1, 'large-scale': 1, 'industrial': 1, 'whaling': 1, 'had': 1, 'left': 1, 'many': 1, 'populations': 1, 'severely': 1, 'depleted,': 1, 'rendering': 1, 'certain': 1, 'species': 1, 'seriously': 1, 'endangered': 1}\n"
          ]
        }
      ],
      "source": [
        "def word_count(str):\n",
        "    counts = dict()\n",
        "    words = str.split()\n",
        "\n",
        "    for word in words:\n",
        "        if word in counts:\n",
        "            counts[word] += 1\n",
        "        else:\n",
        "            counts[word] = 1\n",
        "\n",
        "    return counts\n",
        "\n",
        "\n",
        "print( word_count('Whales are marine mammals of order Cetacea which are neither dolphins members in other words, of the families delphinidae or platanistoidae nor porpoises. They include the blue whale, the largest animal ever to have lived. Orcas, colloquially referred to as \"killer whales\", and pilot whales have whale in their name but for the purpose of classification they are actually dolphins. For centuries, whales have been hunted for meat and as a source of valuable rawmaterials. By the middle of the 20th century, large-scale industrial whaling had left many populations severely depleted, rendering certain species seriously endangered'))\n"
      ]
    },
    {
      "cell_type": "code",
      "source": [
        "import string\n",
        "\n",
        "my_string = \"Whales are marine mammals of order Cetacea which are neither dolphins members, in other words, of the families delphinidae or platanistoidae - nor porpoises. They include the blue whale, the largest animal ever to have lived. Orcas, colloquially referred to as killer whales , and pilot whales have whale in their name but for the purpose of classification they are actually dolphins. For centuries,whales have been hunted for meat and as a source of valuable raw materials. By the middle of the 20th century, large-scale industrial whaling had left many populations severely depleted, rendering certain species seriously endangered.\"\n",
        "\n",
        "output = []\n",
        "\n",
        "# remove punctuation from string\n",
        "for char in my_string:\n",
        "    if char not in string.punctuation:\n",
        "        output.append(char)\n",
        "\n",
        "# convert string to list\n",
        "output = (\"\".join(output)).split()\n",
        "\n",
        "my_dict = {}\n",
        "# create dictionary from list and put word count as value\n",
        "for word in output:\n",
        "    my_dict.update({word: output.count(word)})\n",
        "\n",
        "# Print a formatted table of results\n",
        "print(\"\\n{:10}{}\".format(\"Word\", \"Count\") + \"\\n\" + \"-\" * 15)\n",
        "\n",
        "for key, value in my_dict.items():\n",
        "    print(\"{:10}{:^5}\".format(key, value))"
      ],
      "metadata": {
        "colab": {
          "base_uri": "https://localhost:8080/"
        },
        "id": "QGYcfodN4Zee",
        "outputId": "ec1f6d69-e7b3-4bfd-cce9-a93a63cdecb2"
      },
      "execution_count": 10,
      "outputs": [
        {
          "output_type": "stream",
          "name": "stdout",
          "text": [
            "\n",
            "Word      Count\n",
            "---------------\n",
            "Whales      1  \n",
            "are         3  \n",
            "marine      1  \n",
            "mammals     1  \n",
            "of          5  \n",
            "order       1  \n",
            "Cetacea     1  \n",
            "which       1  \n",
            "neither     1  \n",
            "dolphins    2  \n",
            "members     1  \n",
            "in          2  \n",
            "other       1  \n",
            "words       1  \n",
            "the         6  \n",
            "families    1  \n",
            "delphinidae  1  \n",
            "or          1  \n",
            "platanistoidae  1  \n",
            "nor         1  \n",
            "porpoises   1  \n",
            "They        1  \n",
            "include     1  \n",
            "blue        1  \n",
            "whale       2  \n",
            "largest     1  \n",
            "animal      1  \n",
            "ever        1  \n",
            "to          2  \n",
            "have        3  \n",
            "lived       1  \n",
            "Orcas       1  \n",
            "colloquially  1  \n",
            "referred    1  \n",
            "as          2  \n",
            "killer      1  \n",
            "whales      2  \n",
            "and         2  \n",
            "pilot       1  \n",
            "their       1  \n",
            "name        1  \n",
            "but         1  \n",
            "for         2  \n",
            "purpose     1  \n",
            "classification  1  \n",
            "they        1  \n",
            "actually    1  \n",
            "For         1  \n",
            "centurieswhales  1  \n",
            "been        1  \n",
            "hunted      1  \n",
            "meat        1  \n",
            "a           1  \n",
            "source      1  \n",
            "valuable    1  \n",
            "raw         1  \n",
            "materials   1  \n",
            "By          1  \n",
            "middle      1  \n",
            "20th        1  \n",
            "century     1  \n",
            "largescale  1  \n",
            "industrial  1  \n",
            "whaling     1  \n",
            "had         1  \n",
            "left        1  \n",
            "many        1  \n",
            "populations  1  \n",
            "severely    1  \n",
            "depleted    1  \n",
            "rendering   1  \n",
            "certain     1  \n",
            "species     1  \n",
            "seriously   1  \n",
            "endangered  1  \n"
          ]
        }
      ]
    }
  ]
}