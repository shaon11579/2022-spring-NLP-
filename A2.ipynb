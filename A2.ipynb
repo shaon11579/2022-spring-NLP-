{
  "nbformat": 4,
  "nbformat_minor": 0,
  "metadata": {
    "colab": {
      "name": "Untitled36.ipynb",
      "provenance": [],
      "authorship_tag": "ABX9TyPkJal98XHX0AXuVlBxawQK",
      "include_colab_link": true
    },
    "kernelspec": {
      "name": "python3",
      "display_name": "Python 3"
    },
    "language_info": {
      "name": "python"
    }
  },
  "cells": [
    {
      "cell_type": "markdown",
      "metadata": {
        "id": "view-in-github",
        "colab_type": "text"
      },
      "source": [
        "<a href=\"https://colab.research.google.com/github/shaon11579/2022-spring-NLP-/blob/main/A2.ipynb\" target=\"_parent\"><img src=\"https://colab.research.google.com/assets/colab-badge.svg\" alt=\"Open In Colab\"/></a>"
      ]
    },
    {
      "cell_type": "code",
      "source": [
        "import string\n",
        "import numpy as np\n",
        "from collections import Counter"
      ],
      "metadata": {
        "id": "FRIG3dnmiqVF"
      },
      "execution_count": 23,
      "outputs": []
    },
    {
      "cell_type": "code",
      "source": [
        "def check_for_punc(x):\n",
        "    temp  = True\n",
        "    for c in x:\n",
        "        if c != \" \":\n",
        "            temp = np.logical_and(temp,c in string.punctuation)\n",
        "    if temp:\n",
        "        return False\n",
        "    return True"
      ],
      "metadata": {
        "id": "0Jeh_LXbizyZ"
      },
      "execution_count": 24,
      "outputs": []
    },
    {
      "cell_type": "code",
      "source": [
        "def generate_clean_file(input,output):\n",
        "    file = open(input)\n",
        "    lines = list(map(lambda x:x.split('('),file.readlines()))\n",
        "    lines = list(filter(lambda x: len(x)>1,lines))\n",
        "    lines = list(map(lambda x:x[-1].split(')')[0],lines))\n",
        "    lines = list(filter(lambda x:x.split()[0]!= '-NONE-',lines))\n",
        "    lines = list(filter(lambda x:check_for_punc(x),lines))\n",
        "    lines = list(filter(lambda x: x.find('-LRB-') == -1,lines))\n",
        "    lines = list(filter(lambda x: x.find('-RRB-') == -1,lines))\n",
        "    ind = np.array([i for i in range(len(lines)) if lines[i].find('TOP END_OF_TEXT_UNIT') != -1])\n",
        "    lines = np.array(lines)\n",
        "        \n",
        "    sentences = []\n",
        "    for i in range(len(ind)-1):\n",
        "        sentences.append(\" \".join(lines[ind[i]+1:ind[i+1]]))\n",
        "    sentences.append(\" \".join(lines[ind[-1]+1:]))\n",
        "    out  = open(output,\"w\")\n",
        "    for line in sentences:\n",
        "        if len(line)>0:\n",
        "            out.write(line)\n",
        "            out.write('\\n')"
      ],
      "metadata": {
        "id": "LAaJjPori1eN"
      },
      "execution_count": 25,
      "outputs": []
    },
    {
      "cell_type": "code",
      "source": [
        "def get_words(outputfiles):\n",
        "    file = open(outputfiles)\n",
        "    lines = (\" \".join(list(map(lambda x:x.split(\"\\n\")[0],file.readlines())))).split(\" \")\n",
        "    lines = list(filter(lambda x:x!='',lines))\n",
        "    return lines"
      ],
      "metadata": {
        "id": "tzLxJT31nVeW"
      },
      "execution_count": 26,
      "outputs": []
    },
    {
      "cell_type": "code",
      "source": [
        "def get_hash_of_word_pos(lines):\n",
        "    tuple_collection = [(lines[k+1],lines[k]) for k in range(0,len(lines)-1,2)]\n",
        "    temp = Counter(tuple_collection)\n",
        "    first_dict = {}\n",
        "    for key in temp.keys():\n",
        "        if key[0] not in first_dict.keys():\n",
        "            first_dict[key[0]] = {key[1]:temp[key]}\n",
        "        else:\n",
        "            first_dict[key[0]].update({key[1]:temp[key]})\n",
        "    return first_dict"
      ],
      "metadata": {
        "id": "HkD5_3ZWnbAk"
      },
      "execution_count": 27,
      "outputs": []
    },
    {
      "cell_type": "code",
      "source": [
        ""
      ],
      "metadata": {
        "id": "Q54AOCAunci-"
      },
      "execution_count": null,
      "outputs": []
    },
    {
      "cell_type": "code",
      "source": [
        "def report_20_most_frequent_from_brown(lines):\n",
        "    tuple_collection = [(lines[k],lines[k+1]) for k in range(0,len(lines)-1,2)]\n",
        "    temp = Counter(tuple_collection)\n",
        "    first_dict = {}\n",
        "    for key in temp.keys():\n",
        "        if key[0] not in first_dict.keys():\n",
        "            first_dict[key[0]] = {key[1]:temp[key]}\n",
        "        else:\n",
        "            first_dict[key[0]].update({key[1]:temp[key]})\n",
        "    hash_of_pos = first_dict\n",
        "    freq = {}\n",
        "    for key in hash_of_pos:\n",
        "        freq[key] = sum([int(hash_of_pos[key][key1]) for key1 in hash_of_pos[key].keys()])\n",
        "    print('The twenty most frequent tags are')\n",
        "    for u,v in Counter(freq).most_common(20):\n",
        "      \n",
        "      print(u,v)"
      ],
      "metadata": {
        "id": "b0mH9ZyCn11E"
      },
      "execution_count": 32,
      "outputs": []
    },
    {
      "cell_type": "code",
      "source": [
        "def get_accuracy(lines,hash_of_word_pos):\n",
        "    tags = [lines[i] for i in range(0,len(lines)-1,2)]\n",
        "    words = [lines[i+1] for i in range(0,len(lines)-1,2)]\n",
        "    most_freq = []\n",
        "    match = 0\n",
        "    for i,word in enumerate(words):\n",
        "        most_freq.append(Counter(hash_of_word_pos[word]).most_common(1)[0][0])\n",
        "    for k in range(len(most_freq)):\n",
        "        if most_freq[k] == tags[k]:\n",
        "            match+=1\n",
        "    print(match,len(most_freq),\"Accuracy is \",100*match/len(most_freq),'%')"
      ],
      "metadata": {
        "id": "IoXua9HPn3U3"
      },
      "execution_count": 33,
      "outputs": []
    },
    {
      "cell_type": "code",
      "source": [
        "inputfiles = '/BROWN.pos.all.txt'\n",
        "outputfiles = 'BROWN-clean.pos.txt'\n",
        "# Answer to (i): generate clean file\n",
        "generate_clean_file(inputfiles,outputfiles)\n",
        "\n",
        "#read the output file=clean brown file\n",
        "lines = get_words(outputfiles)\n",
        "\n",
        "# answer to (iii): report 20 most frequent tag\n",
        "report_20_most_frequent_from_brown(lines)\n",
        "\n",
        "# answer to (ii): generate hash of hash\n",
        "hash_of_word_pos = get_hash_of_word_pos(lines)\n",
        "\n",
        "# report accuracy\n",
        "get_accuracy(lines,hash_of_word_pos)"
      ],
      "metadata": {
        "colab": {
          "base_uri": "https://localhost:8080/"
        },
        "id": "xPPgt3xyn73Q",
        "outputId": "dc1a617f-88f4-43ef-9deb-c9a38adfd646"
      },
      "execution_count": 36,
      "outputs": [
        {
          "output_type": "stream",
          "name": "stdout",
          "text": [
            "The twenty most frequent tags are\n",
            "NN 161407\n",
            "IN 136711\n",
            "DT 116447\n",
            "JJ 76598\n",
            "NNP 62023\n",
            "NNS 55911\n",
            "RB 52039\n",
            "PRP 47304\n",
            "VBD 46683\n",
            "CC 38093\n",
            "VB 36885\n",
            "VBN 29436\n",
            "TO 26135\n",
            "VBZ 21627\n",
            "VBG 17264\n",
            "PRP$ 16918\n",
            "CD 15229\n",
            "VBP 14373\n",
            "MD 14116\n",
            "POS 5246\n",
            "954653 1022350 Accuracy is  93.3782951044163 %\n"
          ]
        }
      ]
    },
    {
      "cell_type": "code",
      "source": [
        "# answer to (ii): generate hash of hash\n",
        "hash_of_word_pos = get_hash_of_word_pos(lines)"
      ],
      "metadata": {
        "id": "UX30E74EpTei"
      },
      "execution_count": 21,
      "outputs": []
    },
    {
      "cell_type": "code",
      "source": [
        "# report accuracy\n",
        "get_accuracy(lines,hash_of_word_pos)"
      ],
      "metadata": {
        "colab": {
          "base_uri": "https://localhost:8080/"
        },
        "id": "WFym3dHipYqN",
        "outputId": "2168771e-22d1-47e4-ec78-4fe810df0703"
      },
      "execution_count": 22,
      "outputs": [
        {
          "output_type": "stream",
          "name": "stdout",
          "text": [
            "954653 1022350 Accuracy is  93.3782951044163 %\n"
          ]
        }
      ]
    }
  ]
}