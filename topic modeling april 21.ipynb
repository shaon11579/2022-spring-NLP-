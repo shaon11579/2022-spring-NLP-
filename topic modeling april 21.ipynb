{
  "nbformat": 4,
  "nbformat_minor": 0,
  "metadata": {
    "colab": {
      "name": "Untitled40.ipynb",
      "provenance": [],
      "mount_file_id": "15j0TRZIBSLjZk0nN81LfFKMjwybSlOqo",
      "authorship_tag": "ABX9TyOJ8doJMRjyrkZOb1N2wDSh",
      "include_colab_link": true
    },
    "kernelspec": {
      "name": "python3",
      "display_name": "Python 3"
    },
    "language_info": {
      "name": "python"
    },
    "accelerator": "GPU"
  },
  "cells": [
    {
      "cell_type": "markdown",
      "metadata": {
        "id": "view-in-github",
        "colab_type": "text"
      },
      "source": [
        "<a href=\"https://colab.research.google.com/github/shaon11579/2022-spring-NLP-/blob/main/topic%20modeling%20april%2021.ipynb\" target=\"_parent\"><img src=\"https://colab.research.google.com/assets/colab-badge.svg\" alt=\"Open In Colab\"/></a>"
      ]
    },
    {
      "cell_type": "code",
      "execution_count": 2,
      "metadata": {
        "id": "ITK0OG6PyJJi"
      },
      "outputs": [],
      "source": [
        "import numpy as np \n",
        "import pandas as pd "
      ]
    },
    {
      "cell_type": "code",
      "source": [
        "import re\n",
        "import nltk\n",
        "import string\n",
        "from nltk.tokenize import word_tokenize\n",
        "from nltk.corpus import stopwords\n",
        "from nltk.stem.porter import PorterStemmer"
      ],
      "metadata": {
        "id": "505yK9VMyls7"
      },
      "execution_count": 3,
      "outputs": []
    },
    {
      "cell_type": "code",
      "source": [
        "import gensim\n",
        "from gensim.utils import simple_preprocess\n",
        "import nltk\n",
        "nltk.download('stopwords')\n",
        "from nltk.corpus import stopwords\n",
        "stop_words = stopwords.words('english')\n",
        "stop_words.extend(['from', 'subject', 're', 'edu', 'use'])"
      ],
      "metadata": {
        "colab": {
          "base_uri": "https://localhost:8080/"
        },
        "id": "5R7rf-uXyy9m",
        "outputId": "3e56b50c-2715-4787-dbd6-f2f55a1fe94b"
      },
      "execution_count": 4,
      "outputs": [
        {
          "output_type": "stream",
          "name": "stdout",
          "text": [
            "[nltk_data] Downloading package stopwords to /root/nltk_data...\n",
            "[nltk_data]   Unzipping corpora/stopwords.zip.\n"
          ]
        }
      ]
    },
    {
      "cell_type": "code",
      "source": [
        "!pip install wordcloud\n",
        "from wordcloud import WordCloud"
      ],
      "metadata": {
        "colab": {
          "base_uri": "https://localhost:8080/"
        },
        "id": "w-6EBpSsy2Ye",
        "outputId": "9180fd8d-70a4-42cf-bb51-22c4e8fdd9bb"
      },
      "execution_count": 5,
      "outputs": [
        {
          "output_type": "stream",
          "name": "stdout",
          "text": [
            "Requirement already satisfied: wordcloud in /usr/local/lib/python3.7/dist-packages (1.5.0)\n",
            "Requirement already satisfied: numpy>=1.6.1 in /usr/local/lib/python3.7/dist-packages (from wordcloud) (1.21.6)\n",
            "Requirement already satisfied: pillow in /usr/local/lib/python3.7/dist-packages (from wordcloud) (7.1.2)\n"
          ]
        }
      ]
    },
    {
      "cell_type": "code",
      "source": [
        "import pandas as pd\n",
        "import numpy as np\n",
        "\n",
        "import re\n",
        "import string\n",
        "\n",
        "import spacy\n",
        "\n",
        "import gensim\n",
        "from gensim import corpora\n",
        "\n",
        "# libraries for visualization\n",
        "!pip install pyLDAvis\n",
        "!pip install pyLDAvis.gensim_models\n",
        "import pyLDAvis\n",
        "import pyLDAvis.gensim_models\n",
        "import matplotlib.pyplot as plt\n",
        "import seaborn as sns\n",
        "%matplotlib inline"
      ],
      "metadata": {
        "colab": {
          "base_uri": "https://localhost:8080/"
        },
        "id": "Wyvkjk9xzFKh",
        "outputId": "0caca93f-852e-47d0-8d52-3d67c86bdd45"
      },
      "execution_count": 6,
      "outputs": [
        {
          "output_type": "stream",
          "name": "stdout",
          "text": [
            "Collecting pyLDAvis\n",
            "  Downloading pyLDAvis-3.3.1.tar.gz (1.7 MB)\n",
            "\u001b[?25l\r\u001b[K     |▏                               | 10 kB 26.5 MB/s eta 0:00:01\r\u001b[K     |▍                               | 20 kB 9.9 MB/s eta 0:00:01\r\u001b[K     |▋                               | 30 kB 7.0 MB/s eta 0:00:01\r\u001b[K     |▉                               | 40 kB 4.6 MB/s eta 0:00:01\r\u001b[K     |█                               | 51 kB 4.4 MB/s eta 0:00:01\r\u001b[K     |█▏                              | 61 kB 5.2 MB/s eta 0:00:01\r\u001b[K     |█▍                              | 71 kB 5.3 MB/s eta 0:00:01\r\u001b[K     |█▋                              | 81 kB 5.1 MB/s eta 0:00:01\r\u001b[K     |█▉                              | 92 kB 5.7 MB/s eta 0:00:01\r\u001b[K     |██                              | 102 kB 5.3 MB/s eta 0:00:01\r\u001b[K     |██▏                             | 112 kB 5.3 MB/s eta 0:00:01\r\u001b[K     |██▍                             | 122 kB 5.3 MB/s eta 0:00:01\r\u001b[K     |██▋                             | 133 kB 5.3 MB/s eta 0:00:01\r\u001b[K     |██▊                             | 143 kB 5.3 MB/s eta 0:00:01\r\u001b[K     |███                             | 153 kB 5.3 MB/s eta 0:00:01\r\u001b[K     |███▏                            | 163 kB 5.3 MB/s eta 0:00:01\r\u001b[K     |███▍                            | 174 kB 5.3 MB/s eta 0:00:01\r\u001b[K     |███▋                            | 184 kB 5.3 MB/s eta 0:00:01\r\u001b[K     |███▊                            | 194 kB 5.3 MB/s eta 0:00:01\r\u001b[K     |████                            | 204 kB 5.3 MB/s eta 0:00:01\r\u001b[K     |████▏                           | 215 kB 5.3 MB/s eta 0:00:01\r\u001b[K     |████▍                           | 225 kB 5.3 MB/s eta 0:00:01\r\u001b[K     |████▋                           | 235 kB 5.3 MB/s eta 0:00:01\r\u001b[K     |████▊                           | 245 kB 5.3 MB/s eta 0:00:01\r\u001b[K     |█████                           | 256 kB 5.3 MB/s eta 0:00:01\r\u001b[K     |█████▏                          | 266 kB 5.3 MB/s eta 0:00:01\r\u001b[K     |█████▍                          | 276 kB 5.3 MB/s eta 0:00:01\r\u001b[K     |█████▌                          | 286 kB 5.3 MB/s eta 0:00:01\r\u001b[K     |█████▊                          | 296 kB 5.3 MB/s eta 0:00:01\r\u001b[K     |██████                          | 307 kB 5.3 MB/s eta 0:00:01\r\u001b[K     |██████▏                         | 317 kB 5.3 MB/s eta 0:00:01\r\u001b[K     |██████▍                         | 327 kB 5.3 MB/s eta 0:00:01\r\u001b[K     |██████▌                         | 337 kB 5.3 MB/s eta 0:00:01\r\u001b[K     |██████▊                         | 348 kB 5.3 MB/s eta 0:00:01\r\u001b[K     |███████                         | 358 kB 5.3 MB/s eta 0:00:01\r\u001b[K     |███████▏                        | 368 kB 5.3 MB/s eta 0:00:01\r\u001b[K     |███████▎                        | 378 kB 5.3 MB/s eta 0:00:01\r\u001b[K     |███████▌                        | 389 kB 5.3 MB/s eta 0:00:01\r\u001b[K     |███████▊                        | 399 kB 5.3 MB/s eta 0:00:01\r\u001b[K     |████████                        | 409 kB 5.3 MB/s eta 0:00:01\r\u001b[K     |████████▏                       | 419 kB 5.3 MB/s eta 0:00:01\r\u001b[K     |████████▎                       | 430 kB 5.3 MB/s eta 0:00:01\r\u001b[K     |████████▌                       | 440 kB 5.3 MB/s eta 0:00:01\r\u001b[K     |████████▊                       | 450 kB 5.3 MB/s eta 0:00:01\r\u001b[K     |█████████                       | 460 kB 5.3 MB/s eta 0:00:01\r\u001b[K     |█████████▏                      | 471 kB 5.3 MB/s eta 0:00:01\r\u001b[K     |█████████▎                      | 481 kB 5.3 MB/s eta 0:00:01\r\u001b[K     |█████████▌                      | 491 kB 5.3 MB/s eta 0:00:01\r\u001b[K     |█████████▊                      | 501 kB 5.3 MB/s eta 0:00:01\r\u001b[K     |██████████                      | 512 kB 5.3 MB/s eta 0:00:01\r\u001b[K     |██████████                      | 522 kB 5.3 MB/s eta 0:00:01\r\u001b[K     |██████████▎                     | 532 kB 5.3 MB/s eta 0:00:01\r\u001b[K     |██████████▌                     | 542 kB 5.3 MB/s eta 0:00:01\r\u001b[K     |██████████▊                     | 552 kB 5.3 MB/s eta 0:00:01\r\u001b[K     |███████████                     | 563 kB 5.3 MB/s eta 0:00:01\r\u001b[K     |███████████                     | 573 kB 5.3 MB/s eta 0:00:01\r\u001b[K     |███████████▎                    | 583 kB 5.3 MB/s eta 0:00:01\r\u001b[K     |███████████▌                    | 593 kB 5.3 MB/s eta 0:00:01\r\u001b[K     |███████████▊                    | 604 kB 5.3 MB/s eta 0:00:01\r\u001b[K     |███████████▉                    | 614 kB 5.3 MB/s eta 0:00:01\r\u001b[K     |████████████                    | 624 kB 5.3 MB/s eta 0:00:01\r\u001b[K     |████████████▎                   | 634 kB 5.3 MB/s eta 0:00:01\r\u001b[K     |████████████▌                   | 645 kB 5.3 MB/s eta 0:00:01\r\u001b[K     |████████████▊                   | 655 kB 5.3 MB/s eta 0:00:01\r\u001b[K     |████████████▉                   | 665 kB 5.3 MB/s eta 0:00:01\r\u001b[K     |█████████████                   | 675 kB 5.3 MB/s eta 0:00:01\r\u001b[K     |█████████████▎                  | 686 kB 5.3 MB/s eta 0:00:01\r\u001b[K     |█████████████▌                  | 696 kB 5.3 MB/s eta 0:00:01\r\u001b[K     |█████████████▊                  | 706 kB 5.3 MB/s eta 0:00:01\r\u001b[K     |█████████████▉                  | 716 kB 5.3 MB/s eta 0:00:01\r\u001b[K     |██████████████                  | 727 kB 5.3 MB/s eta 0:00:01\r\u001b[K     |██████████████▎                 | 737 kB 5.3 MB/s eta 0:00:01\r\u001b[K     |██████████████▌                 | 747 kB 5.3 MB/s eta 0:00:01\r\u001b[K     |██████████████▋                 | 757 kB 5.3 MB/s eta 0:00:01\r\u001b[K     |██████████████▉                 | 768 kB 5.3 MB/s eta 0:00:01\r\u001b[K     |███████████████                 | 778 kB 5.3 MB/s eta 0:00:01\r\u001b[K     |███████████████▎                | 788 kB 5.3 MB/s eta 0:00:01\r\u001b[K     |███████████████▌                | 798 kB 5.3 MB/s eta 0:00:01\r\u001b[K     |███████████████▋                | 808 kB 5.3 MB/s eta 0:00:01\r\u001b[K     |███████████████▉                | 819 kB 5.3 MB/s eta 0:00:01\r\u001b[K     |████████████████                | 829 kB 5.3 MB/s eta 0:00:01\r\u001b[K     |████████████████▎               | 839 kB 5.3 MB/s eta 0:00:01\r\u001b[K     |████████████████▍               | 849 kB 5.3 MB/s eta 0:00:01\r\u001b[K     |████████████████▋               | 860 kB 5.3 MB/s eta 0:00:01\r\u001b[K     |████████████████▉               | 870 kB 5.3 MB/s eta 0:00:01\r\u001b[K     |█████████████████               | 880 kB 5.3 MB/s eta 0:00:01\r\u001b[K     |█████████████████▎              | 890 kB 5.3 MB/s eta 0:00:01\r\u001b[K     |█████████████████▍              | 901 kB 5.3 MB/s eta 0:00:01\r\u001b[K     |█████████████████▋              | 911 kB 5.3 MB/s eta 0:00:01\r\u001b[K     |█████████████████▉              | 921 kB 5.3 MB/s eta 0:00:01\r\u001b[K     |██████████████████              | 931 kB 5.3 MB/s eta 0:00:01\r\u001b[K     |██████████████████▎             | 942 kB 5.3 MB/s eta 0:00:01\r\u001b[K     |██████████████████▍             | 952 kB 5.3 MB/s eta 0:00:01\r\u001b[K     |██████████████████▋             | 962 kB 5.3 MB/s eta 0:00:01\r\u001b[K     |██████████████████▉             | 972 kB 5.3 MB/s eta 0:00:01\r\u001b[K     |███████████████████             | 983 kB 5.3 MB/s eta 0:00:01\r\u001b[K     |███████████████████▏            | 993 kB 5.3 MB/s eta 0:00:01\r\u001b[K     |███████████████████▍            | 1.0 MB 5.3 MB/s eta 0:00:01\r\u001b[K     |███████████████████▋            | 1.0 MB 5.3 MB/s eta 0:00:01\r\u001b[K     |███████████████████▉            | 1.0 MB 5.3 MB/s eta 0:00:01\r\u001b[K     |████████████████████            | 1.0 MB 5.3 MB/s eta 0:00:01\r\u001b[K     |████████████████████▏           | 1.0 MB 5.3 MB/s eta 0:00:01\r\u001b[K     |████████████████████▍           | 1.1 MB 5.3 MB/s eta 0:00:01\r\u001b[K     |████████████████████▋           | 1.1 MB 5.3 MB/s eta 0:00:01\r\u001b[K     |████████████████████▉           | 1.1 MB 5.3 MB/s eta 0:00:01\r\u001b[K     |█████████████████████           | 1.1 MB 5.3 MB/s eta 0:00:01\r\u001b[K     |█████████████████████▏          | 1.1 MB 5.3 MB/s eta 0:00:01\r\u001b[K     |█████████████████████▍          | 1.1 MB 5.3 MB/s eta 0:00:01\r\u001b[K     |█████████████████████▋          | 1.1 MB 5.3 MB/s eta 0:00:01\r\u001b[K     |█████████████████████▉          | 1.1 MB 5.3 MB/s eta 0:00:01\r\u001b[K     |██████████████████████          | 1.1 MB 5.3 MB/s eta 0:00:01\r\u001b[K     |██████████████████████▏         | 1.1 MB 5.3 MB/s eta 0:00:01\r\u001b[K     |██████████████████████▍         | 1.2 MB 5.3 MB/s eta 0:00:01\r\u001b[K     |██████████████████████▋         | 1.2 MB 5.3 MB/s eta 0:00:01\r\u001b[K     |██████████████████████▉         | 1.2 MB 5.3 MB/s eta 0:00:01\r\u001b[K     |███████████████████████         | 1.2 MB 5.3 MB/s eta 0:00:01\r\u001b[K     |███████████████████████▏        | 1.2 MB 5.3 MB/s eta 0:00:01\r\u001b[K     |███████████████████████▍        | 1.2 MB 5.3 MB/s eta 0:00:01\r\u001b[K     |███████████████████████▋        | 1.2 MB 5.3 MB/s eta 0:00:01\r\u001b[K     |███████████████████████▊        | 1.2 MB 5.3 MB/s eta 0:00:01\r\u001b[K     |████████████████████████        | 1.2 MB 5.3 MB/s eta 0:00:01\r\u001b[K     |████████████████████████▏       | 1.2 MB 5.3 MB/s eta 0:00:01\r\u001b[K     |████████████████████████▍       | 1.3 MB 5.3 MB/s eta 0:00:01\r\u001b[K     |████████████████████████▋       | 1.3 MB 5.3 MB/s eta 0:00:01\r\u001b[K     |████████████████████████▊       | 1.3 MB 5.3 MB/s eta 0:00:01\r\u001b[K     |█████████████████████████       | 1.3 MB 5.3 MB/s eta 0:00:01\r\u001b[K     |█████████████████████████▏      | 1.3 MB 5.3 MB/s eta 0:00:01\r\u001b[K     |█████████████████████████▍      | 1.3 MB 5.3 MB/s eta 0:00:01\r\u001b[K     |█████████████████████████▌      | 1.3 MB 5.3 MB/s eta 0:00:01\r\u001b[K     |█████████████████████████▊      | 1.3 MB 5.3 MB/s eta 0:00:01\r\u001b[K     |██████████████████████████      | 1.3 MB 5.3 MB/s eta 0:00:01\r\u001b[K     |██████████████████████████▏     | 1.4 MB 5.3 MB/s eta 0:00:01\r\u001b[K     |██████████████████████████▍     | 1.4 MB 5.3 MB/s eta 0:00:01\r\u001b[K     |██████████████████████████▌     | 1.4 MB 5.3 MB/s eta 0:00:01\r\u001b[K     |██████████████████████████▊     | 1.4 MB 5.3 MB/s eta 0:00:01\r\u001b[K     |███████████████████████████     | 1.4 MB 5.3 MB/s eta 0:00:01\r\u001b[K     |███████████████████████████▏    | 1.4 MB 5.3 MB/s eta 0:00:01\r\u001b[K     |███████████████████████████▍    | 1.4 MB 5.3 MB/s eta 0:00:01\r\u001b[K     |███████████████████████████▌    | 1.4 MB 5.3 MB/s eta 0:00:01\r\u001b[K     |███████████████████████████▊    | 1.4 MB 5.3 MB/s eta 0:00:01\r\u001b[K     |████████████████████████████    | 1.4 MB 5.3 MB/s eta 0:00:01\r\u001b[K     |████████████████████████████▏   | 1.5 MB 5.3 MB/s eta 0:00:01\r\u001b[K     |████████████████████████████▎   | 1.5 MB 5.3 MB/s eta 0:00:01\r\u001b[K     |████████████████████████████▌   | 1.5 MB 5.3 MB/s eta 0:00:01\r\u001b[K     |████████████████████████████▊   | 1.5 MB 5.3 MB/s eta 0:00:01\r\u001b[K     |█████████████████████████████   | 1.5 MB 5.3 MB/s eta 0:00:01\r\u001b[K     |█████████████████████████████▏  | 1.5 MB 5.3 MB/s eta 0:00:01\r\u001b[K     |█████████████████████████████▎  | 1.5 MB 5.3 MB/s eta 0:00:01\r\u001b[K     |█████████████████████████████▌  | 1.5 MB 5.3 MB/s eta 0:00:01\r\u001b[K     |█████████████████████████████▊  | 1.5 MB 5.3 MB/s eta 0:00:01\r\u001b[K     |██████████████████████████████  | 1.5 MB 5.3 MB/s eta 0:00:01\r\u001b[K     |██████████████████████████████▏ | 1.6 MB 5.3 MB/s eta 0:00:01\r\u001b[K     |██████████████████████████████▎ | 1.6 MB 5.3 MB/s eta 0:00:01\r\u001b[K     |██████████████████████████████▌ | 1.6 MB 5.3 MB/s eta 0:00:01\r\u001b[K     |██████████████████████████████▊ | 1.6 MB 5.3 MB/s eta 0:00:01\r\u001b[K     |███████████████████████████████ | 1.6 MB 5.3 MB/s eta 0:00:01\r\u001b[K     |███████████████████████████████ | 1.6 MB 5.3 MB/s eta 0:00:01\r\u001b[K     |███████████████████████████████▎| 1.6 MB 5.3 MB/s eta 0:00:01\r\u001b[K     |███████████████████████████████▌| 1.6 MB 5.3 MB/s eta 0:00:01\r\u001b[K     |███████████████████████████████▊| 1.6 MB 5.3 MB/s eta 0:00:01\r\u001b[K     |████████████████████████████████| 1.6 MB 5.3 MB/s eta 0:00:01\r\u001b[K     |████████████████████████████████| 1.7 MB 5.3 MB/s \n",
            "\u001b[?25h  Installing build dependencies ... \u001b[?25l\u001b[?25hdone\n",
            "  Getting requirements to build wheel ... \u001b[?25l\u001b[?25hdone\n",
            "  Installing backend dependencies ... \u001b[?25l\u001b[?25hdone\n",
            "    Preparing wheel metadata ... \u001b[?25l\u001b[?25hdone\n",
            "Requirement already satisfied: numexpr in /usr/local/lib/python3.7/dist-packages (from pyLDAvis) (2.8.1)\n",
            "Requirement already satisfied: jinja2 in /usr/local/lib/python3.7/dist-packages (from pyLDAvis) (2.11.3)\n",
            "Requirement already satisfied: numpy>=1.20.0 in /usr/local/lib/python3.7/dist-packages (from pyLDAvis) (1.21.6)\n",
            "Requirement already satisfied: scipy in /usr/local/lib/python3.7/dist-packages (from pyLDAvis) (1.4.1)\n",
            "Requirement already satisfied: pandas>=1.2.0 in /usr/local/lib/python3.7/dist-packages (from pyLDAvis) (1.3.5)\n",
            "Requirement already satisfied: joblib in /usr/local/lib/python3.7/dist-packages (from pyLDAvis) (1.1.0)\n",
            "Requirement already satisfied: gensim in /usr/local/lib/python3.7/dist-packages (from pyLDAvis) (3.6.0)\n",
            "Requirement already satisfied: future in /usr/local/lib/python3.7/dist-packages (from pyLDAvis) (0.16.0)\n",
            "Requirement already satisfied: setuptools in /usr/local/lib/python3.7/dist-packages (from pyLDAvis) (57.4.0)\n",
            "Requirement already satisfied: sklearn in /usr/local/lib/python3.7/dist-packages (from pyLDAvis) (0.0)\n",
            "Requirement already satisfied: scikit-learn in /usr/local/lib/python3.7/dist-packages (from pyLDAvis) (1.0.2)\n",
            "Collecting funcy\n",
            "  Downloading funcy-1.17-py2.py3-none-any.whl (33 kB)\n",
            "Requirement already satisfied: pytz>=2017.3 in /usr/local/lib/python3.7/dist-packages (from pandas>=1.2.0->pyLDAvis) (2022.1)\n",
            "Requirement already satisfied: python-dateutil>=2.7.3 in /usr/local/lib/python3.7/dist-packages (from pandas>=1.2.0->pyLDAvis) (2.8.2)\n",
            "Requirement already satisfied: six>=1.5 in /usr/local/lib/python3.7/dist-packages (from python-dateutil>=2.7.3->pandas>=1.2.0->pyLDAvis) (1.15.0)\n",
            "Requirement already satisfied: smart-open>=1.2.1 in /usr/local/lib/python3.7/dist-packages (from gensim->pyLDAvis) (5.2.1)\n",
            "Requirement already satisfied: MarkupSafe>=0.23 in /usr/local/lib/python3.7/dist-packages (from jinja2->pyLDAvis) (2.0.1)\n",
            "Requirement already satisfied: packaging in /usr/local/lib/python3.7/dist-packages (from numexpr->pyLDAvis) (21.3)\n",
            "Requirement already satisfied: pyparsing!=3.0.5,>=2.0.2 in /usr/local/lib/python3.7/dist-packages (from packaging->numexpr->pyLDAvis) (3.0.8)\n",
            "Requirement already satisfied: threadpoolctl>=2.0.0 in /usr/local/lib/python3.7/dist-packages (from scikit-learn->pyLDAvis) (3.1.0)\n",
            "Building wheels for collected packages: pyLDAvis\n",
            "  Building wheel for pyLDAvis (PEP 517) ... \u001b[?25l\u001b[?25hdone\n",
            "  Created wheel for pyLDAvis: filename=pyLDAvis-3.3.1-py2.py3-none-any.whl size=136898 sha256=4ef598823c35593d8a5003be16dc174acc8759448e5161fc5e817823953831a6\n",
            "  Stored in directory: /root/.cache/pip/wheels/c9/21/f6/17bcf2667e8a68532ba2fbf6d5c72fdf4c7f7d9abfa4852d2f\n",
            "Successfully built pyLDAvis\n",
            "Installing collected packages: funcy, pyLDAvis\n",
            "Successfully installed funcy-1.17 pyLDAvis-3.3.1\n",
            "\u001b[31mERROR: Could not find a version that satisfies the requirement pyLDAvis.gensim_models (from versions: none)\u001b[0m\n",
            "\u001b[31mERROR: No matching distribution found for pyLDAvis.gensim_models\u001b[0m\n"
          ]
        },
        {
          "output_type": "stream",
          "name": "stderr",
          "text": [
            "/usr/local/lib/python3.7/dist-packages/past/types/oldstr.py:5: DeprecationWarning: Using or importing the ABCs from 'collections' instead of from 'collections.abc' is deprecated since Python 3.3,and in 3.9 it will stop working\n",
            "  from collections import Iterable\n"
          ]
        }
      ]
    },
    {
      "cell_type": "code",
      "source": [
        "import re\n",
        "import numpy as np\n",
        "import pandas as pd\n",
        "from pprint import pprint\n",
        "\n",
        "# Gensim\n",
        "import gensim\n",
        "import gensim.corpora as corpora\n",
        "from gensim.utils import simple_preprocess\n",
        "from gensim.models import CoherenceModel\n",
        "\n",
        "# spacy for lemmatization\n",
        "import spacy\n",
        "\n",
        "# Plotting tools\n",
        "import pyLDAvis\n",
        "import pyLDAvis.gensim_models  # don't skip this\n",
        "import matplotlib.pyplot as plt\n",
        "%matplotlib inline\n",
        "\n",
        "# Enable logging for gensim - optional\n",
        "import logging\n",
        "logging.basicConfig(format='%(asctime)s : %(levelname)s : %(message)s', level=logging.ERROR)\n",
        "\n",
        "import warnings\n",
        "warnings.filterwarnings(\"ignore\",category=DeprecationWarning)"
      ],
      "metadata": {
        "id": "A6iWJhgh0Hrn"
      },
      "execution_count": 7,
      "outputs": []
    },
    {
      "cell_type": "code",
      "source": [
        "import nltk\n",
        "nltk.download('punkt')"
      ],
      "metadata": {
        "colab": {
          "base_uri": "https://localhost:8080/"
        },
        "id": "FA6tn-Z81d2y",
        "outputId": "6994bab4-6a91-4000-82b5-a7f7d76ad0dc"
      },
      "execution_count": 8,
      "outputs": [
        {
          "output_type": "stream",
          "name": "stdout",
          "text": [
            "[nltk_data] Downloading package punkt to /root/nltk_data...\n",
            "[nltk_data]   Unzipping tokenizers/punkt.zip.\n"
          ]
        },
        {
          "output_type": "execute_result",
          "data": {
            "text/plain": [
              "True"
            ]
          },
          "metadata": {},
          "execution_count": 8
        }
      ]
    },
    {
      "cell_type": "code",
      "source": [
        "#data_imdb = pd.read_csv(\"combined_fileUP.txt\", delimiter='\\t', header=None)\n",
        "\n",
        "#data = pd.concat([data_imdb])\n",
        "\n",
        "dataf = pd.read_fwf('/content/cleaned_file.txt')"
      ],
      "metadata": {
        "id": "btOtHa0m0UPS"
      },
      "execution_count": 9,
      "outputs": []
    },
    {
      "cell_type": "code",
      "source": [
        "dataf = pd.concat([dataf])\n",
        "dataf"
      ],
      "metadata": {
        "colab": {
          "base_uri": "https://localhost:8080/",
          "height": 424
        },
        "id": "wrBruy8N0uBB",
        "outputId": "509f6557-c94d-41d5-cf1b-290856dfc4fc"
      },
      "execution_count": 10,
      "outputs": [
        {
          "output_type": "execute_result",
          "data": {
            "text/plain": [
              "              IndustrialMarketingManagement89(2020)630–641\n",
              "0                Contents lists available at ScienceDirect\n",
              "1                          Industrial Marketing Management\n",
              "2        journal homepage: www.elsevier.com/locate/indm...\n",
              "3                                           Research paper\n",
              "4        B2B brands on Twitter: Engaging rs with a vary...\n",
              "...                                                    ...\n",
              "1118398  content of marketing-oriented journals from 19...\n",
              "1118399  Brian C. Williams (M.A., Northwestern Universi...\n",
              "1118400        College of Business, University of Georgia.\n",
              "1118401  Christopher R. Plouffe (Ph.D., University of W...\n",
              "1118402          marketing at Washington State University.\n",
              "\n",
              "[1118403 rows x 1 columns]"
            ],
            "text/html": [
              "\n",
              "  <div id=\"df-7c2b4bbc-74e6-4a60-84da-9934a83011db\">\n",
              "    <div class=\"colab-df-container\">\n",
              "      <div>\n",
              "<style scoped>\n",
              "    .dataframe tbody tr th:only-of-type {\n",
              "        vertical-align: middle;\n",
              "    }\n",
              "\n",
              "    .dataframe tbody tr th {\n",
              "        vertical-align: top;\n",
              "    }\n",
              "\n",
              "    .dataframe thead th {\n",
              "        text-align: right;\n",
              "    }\n",
              "</style>\n",
              "<table border=\"1\" class=\"dataframe\">\n",
              "  <thead>\n",
              "    <tr style=\"text-align: right;\">\n",
              "      <th></th>\n",
              "      <th>IndustrialMarketingManagement89(2020)630–641</th>\n",
              "    </tr>\n",
              "  </thead>\n",
              "  <tbody>\n",
              "    <tr>\n",
              "      <th>0</th>\n",
              "      <td>Contents lists available at ScienceDirect</td>\n",
              "    </tr>\n",
              "    <tr>\n",
              "      <th>1</th>\n",
              "      <td>Industrial Marketing Management</td>\n",
              "    </tr>\n",
              "    <tr>\n",
              "      <th>2</th>\n",
              "      <td>journal homepage: www.elsevier.com/locate/indm...</td>\n",
              "    </tr>\n",
              "    <tr>\n",
              "      <th>3</th>\n",
              "      <td>Research paper</td>\n",
              "    </tr>\n",
              "    <tr>\n",
              "      <th>4</th>\n",
              "      <td>B2B brands on Twitter: Engaging rs with a vary...</td>\n",
              "    </tr>\n",
              "    <tr>\n",
              "      <th>...</th>\n",
              "      <td>...</td>\n",
              "    </tr>\n",
              "    <tr>\n",
              "      <th>1118398</th>\n",
              "      <td>content of marketing-oriented journals from 19...</td>\n",
              "    </tr>\n",
              "    <tr>\n",
              "      <th>1118399</th>\n",
              "      <td>Brian C. Williams (M.A., Northwestern Universi...</td>\n",
              "    </tr>\n",
              "    <tr>\n",
              "      <th>1118400</th>\n",
              "      <td>College of Business, University of Georgia.</td>\n",
              "    </tr>\n",
              "    <tr>\n",
              "      <th>1118401</th>\n",
              "      <td>Christopher R. Plouffe (Ph.D., University of W...</td>\n",
              "    </tr>\n",
              "    <tr>\n",
              "      <th>1118402</th>\n",
              "      <td>marketing at Washington State University.</td>\n",
              "    </tr>\n",
              "  </tbody>\n",
              "</table>\n",
              "<p>1118403 rows × 1 columns</p>\n",
              "</div>\n",
              "      <button class=\"colab-df-convert\" onclick=\"convertToInteractive('df-7c2b4bbc-74e6-4a60-84da-9934a83011db')\"\n",
              "              title=\"Convert this dataframe to an interactive table.\"\n",
              "              style=\"display:none;\">\n",
              "        \n",
              "  <svg xmlns=\"http://www.w3.org/2000/svg\" height=\"24px\"viewBox=\"0 0 24 24\"\n",
              "       width=\"24px\">\n",
              "    <path d=\"M0 0h24v24H0V0z\" fill=\"none\"/>\n",
              "    <path d=\"M18.56 5.44l.94 2.06.94-2.06 2.06-.94-2.06-.94-.94-2.06-.94 2.06-2.06.94zm-11 1L8.5 8.5l.94-2.06 2.06-.94-2.06-.94L8.5 2.5l-.94 2.06-2.06.94zm10 10l.94 2.06.94-2.06 2.06-.94-2.06-.94-.94-2.06-.94 2.06-2.06.94z\"/><path d=\"M17.41 7.96l-1.37-1.37c-.4-.4-.92-.59-1.43-.59-.52 0-1.04.2-1.43.59L10.3 9.45l-7.72 7.72c-.78.78-.78 2.05 0 2.83L4 21.41c.39.39.9.59 1.41.59.51 0 1.02-.2 1.41-.59l7.78-7.78 2.81-2.81c.8-.78.8-2.07 0-2.86zM5.41 20L4 18.59l7.72-7.72 1.47 1.35L5.41 20z\"/>\n",
              "  </svg>\n",
              "      </button>\n",
              "      \n",
              "  <style>\n",
              "    .colab-df-container {\n",
              "      display:flex;\n",
              "      flex-wrap:wrap;\n",
              "      gap: 12px;\n",
              "    }\n",
              "\n",
              "    .colab-df-convert {\n",
              "      background-color: #E8F0FE;\n",
              "      border: none;\n",
              "      border-radius: 50%;\n",
              "      cursor: pointer;\n",
              "      display: none;\n",
              "      fill: #1967D2;\n",
              "      height: 32px;\n",
              "      padding: 0 0 0 0;\n",
              "      width: 32px;\n",
              "    }\n",
              "\n",
              "    .colab-df-convert:hover {\n",
              "      background-color: #E2EBFA;\n",
              "      box-shadow: 0px 1px 2px rgba(60, 64, 67, 0.3), 0px 1px 3px 1px rgba(60, 64, 67, 0.15);\n",
              "      fill: #174EA6;\n",
              "    }\n",
              "\n",
              "    [theme=dark] .colab-df-convert {\n",
              "      background-color: #3B4455;\n",
              "      fill: #D2E3FC;\n",
              "    }\n",
              "\n",
              "    [theme=dark] .colab-df-convert:hover {\n",
              "      background-color: #434B5C;\n",
              "      box-shadow: 0px 1px 3px 1px rgba(0, 0, 0, 0.15);\n",
              "      filter: drop-shadow(0px 1px 2px rgba(0, 0, 0, 0.3));\n",
              "      fill: #FFFFFF;\n",
              "    }\n",
              "  </style>\n",
              "\n",
              "      <script>\n",
              "        const buttonEl =\n",
              "          document.querySelector('#df-7c2b4bbc-74e6-4a60-84da-9934a83011db button.colab-df-convert');\n",
              "        buttonEl.style.display =\n",
              "          google.colab.kernel.accessAllowed ? 'block' : 'none';\n",
              "\n",
              "        async function convertToInteractive(key) {\n",
              "          const element = document.querySelector('#df-7c2b4bbc-74e6-4a60-84da-9934a83011db');\n",
              "          const dataTable =\n",
              "            await google.colab.kernel.invokeFunction('convertToInteractive',\n",
              "                                                     [key], {});\n",
              "          if (!dataTable) return;\n",
              "\n",
              "          const docLinkHtml = 'Like what you see? Visit the ' +\n",
              "            '<a target=\"_blank\" href=https://colab.research.google.com/notebooks/data_table.ipynb>data table notebook</a>'\n",
              "            + ' to learn more about interactive tables.';\n",
              "          element.innerHTML = '';\n",
              "          dataTable['output_type'] = 'display_data';\n",
              "          await google.colab.output.renderOutput(dataTable, element);\n",
              "          const docLink = document.createElement('div');\n",
              "          docLink.innerHTML = docLinkHtml;\n",
              "          element.appendChild(docLink);\n",
              "        }\n",
              "      </script>\n",
              "    </div>\n",
              "  </div>\n",
              "  "
            ]
          },
          "metadata": {},
          "execution_count": 10
        }
      ]
    },
    {
      "cell_type": "code",
      "source": [
        "dataf.rename(columns={'IndustrialMarketingManagement89(2020)630–641':\"all_paper\"},inplace=True)"
      ],
      "metadata": {
        "id": "LJTmUKyE0_wY"
      },
      "execution_count": 11,
      "outputs": []
    },
    {
      "cell_type": "code",
      "source": [
        "dataf.dropna(inplace=True)"
      ],
      "metadata": {
        "id": "ZGkBSgnS1FBL"
      },
      "execution_count": 12,
      "outputs": []
    },
    {
      "cell_type": "code",
      "source": [
        "dataf.shape"
      ],
      "metadata": {
        "colab": {
          "base_uri": "https://localhost:8080/"
        },
        "id": "DoIFKAC41Ib2",
        "outputId": "d664ce89-ec5a-425a-a0e7-638682cf4f3d"
      },
      "execution_count": 13,
      "outputs": [
        {
          "output_type": "execute_result",
          "data": {
            "text/plain": [
              "(1118388, 1)"
            ]
          },
          "metadata": {},
          "execution_count": 13
        }
      ]
    },
    {
      "cell_type": "code",
      "source": [
        "def clean_text(df):\n",
        "    all_paper = list()\n",
        "    lines = df[\"all_paper\"].values.tolist()\n",
        "    for text in lines:\n",
        "        try: \n",
        "            text = text.lower()\n",
        "        except:\n",
        "            print(text)\n",
        "        \n",
        "        pattern = re.compile('http[s]?://(?:[a-zA-Z]|[0-9]|[$-_@.&+]|[!*\\(\\),]|(?:%[0-9a-fA-F][0-9a-fA-F]))+')\n",
        "        text = pattern.sub('', text)\n",
        "        \n",
        "    \n",
        "        \n",
        "        text = re.sub(r\"i'm\", \"i am\", text)\n",
        "        text = re.sub(r\"he's\", \"he is\", text)\n",
        "        text = re.sub(r\"she's\", \"she is\", text)\n",
        "        text = re.sub(r\"that's\", \"that is\", text)        \n",
        "        text = re.sub(r\"what's\", \"what is\", text)\n",
        "        text = re.sub(r\"where's\", \"where is\", text) \n",
        "        text = re.sub(r\"\\'ll\", \" will\", text)  \n",
        "        text = re.sub(r\"\\'ve\", \" have\", text)  \n",
        "        text = re.sub(r\"\\'re\", \" are\", text)\n",
        "        text = re.sub(r\"\\'d\", \" would\", text)\n",
        "        text = re.sub(r\"\\'ve\", \" have\", text)\n",
        "        text = re.sub(r\"won't\", \"will not\", text)\n",
        "        text = re.sub(r\"don't\", \"do not\", text)\n",
        "        text = re.sub(r\"did't\", \"did not\", text)\n",
        "        text = re.sub(r\"can't\", \"can not\", text)\n",
        "        text = re.sub(r\"it's\", \"it is\", text)\n",
        "        text = re.sub(r\"couldn't\", \"could not\", text)\n",
        "        text = re.sub(r\"have't\", \"have not\", text)\n",
        "        \n",
        "        text = re.sub(r\"[,.\\\"!@#$%^&*(){}?/;`~:<>+=-]\", \"\", text)\n",
        "        tokens = word_tokenize(text)\n",
        "        table = str.maketrans('', '', string.punctuation)\n",
        "        stripped = [w.translate(table) for w in tokens]\n",
        "        words = [word for word in stripped if word.isalpha()]\n",
        "#         stop_words = set(stopwords.words(\"english\"))\n",
        "#         stop_words.discard(\"not\")\n",
        "#         words = [w for w in words if not w in stop_words]\n",
        "        words = ' '.join(words)\n",
        "        all_paper.append(words)\n",
        "    return all_paper\n",
        "\n",
        "all_paper = clean_text(dataf)\n",
        "all_paper[0:50]"
      ],
      "metadata": {
        "colab": {
          "base_uri": "https://localhost:8080/"
        },
        "id": "FA__unnT1QB5",
        "outputId": "52ec17f9-8593-4c05-b97f-48389cfc8818"
      },
      "execution_count": 14,
      "outputs": [
        {
          "output_type": "execute_result",
          "data": {
            "text/plain": [
              "['contents lists available at sciencedirect',\n",
              " 'industrial marketing management',\n",
              " 'journal homepage wwwelseviercomlocateindmarman',\n",
              " 'research paper',\n",
              " 'brands on twitter engaging rs with a varying combination of social media content',\n",
              " 'objectives strategies and tactics',\n",
              " 'mari elvira ismagilovaᵇ eevaliisa oikarinenᶜ',\n",
              " 'ᵃ department of marketing management and international business oulu business school university',\n",
              " 'of oulu po box finland',\n",
              " 'ᵇ school of management university of bradford uk',\n",
              " 'ᶜ department of marketing management and international business oulu business school finland',\n",
              " 'a r t i c l e i n f o',\n",
              " 'keywords',\n",
              " 'advertising',\n",
              " 'digital content marketing social media marketing brand management',\n",
              " 'a b s t r a c t',\n",
              " 'the objective of this research is to increase understanding about companyled r engagement',\n",
              " 'on social media content building on hierarchyofeffects hoe theory we explore how the world s',\n",
              " 'leading com panies content objectives why strategies how and tactics what on',\n",
              " 'twitter we first integrate advertising and social media research on companies content',\n",
              " 'objectives strategies and tactics then using qualitative analyses we examine the existence of',\n",
              " 'objectives strategies and tactics in the most engaging tweets n of the worlds ten',\n",
              " 'leading brands covering five industries in finally we quantitatively examine how the',\n",
              " 'of diverse objectives and strategies differs between the most engaging tweets n and',\n",
              " 'least engaging tweets n of the companies in the companies objectives strategies',\n",
              " 'and tactics that relate to creating awareness knowledge and trust interest and liking in the',\n",
              " 'majority of their most and least engaging tweets and express preference conviction and purchase',\n",
              " 'aspects much less differences exist in general industrywise and companywise the study is a',\n",
              " 'rare attempt to integrate the extant advertising and social media research and compare the',\n",
              " 'most and least engaging social media content',\n",
              " 'introduction',\n",
              " 'social media increasingly attracts businesstobusiness re searchers as recent reviews',\n",
              " 'salo wang pauleen zhang show a stream of researchers are specifically',\n",
              " 'interested in social media content content denotes the different forms of material pub lished on',\n",
              " 'social media including text photos voice recordings and videos researchers interested in',\n",
              " 'engaging social media content ie content that drives engagement in terms of likes retweets and',\n",
              " 'com ments leek houghton canning focus on topics such as how and why companies',\n",
              " 'social media bolat kooli wright whether social media content in and',\n",
              " 'businesstoconsumer contexts should differ swani brown milne swani milne',\n",
              " 'brown assaf donthu and what the effective content strategies on social media are',\n",
              " 'swani milne brown researchers build on various theoretical backgrounds including',\n",
              " 'communication and wordofmouth theories swani psy chological motivation theory',\n",
              " 'swani and semiotics mehmet clarke to the best knowledge of the authors',\n",
              " 'of this study no research builds on the hierarchies of effects hoe theory which is a',\n",
              " 'traditional advertising theory barry howard eisend',\n",
              " 'tarrahi on hand this is understandable as content marketing is often considered as a',\n",
              " 'substitute for advertising holliman rowley for instance due to their different',\n",
              " 'aroaches to message delivery pull vs push respectively and their nature con tinuous vs',\n",
              " 'campaigns respectively on the other hand this hinders the progress of social media content',\n",
              " 'research as an overall strategic picture for companyled r engagement which refers to the']"
            ]
          },
          "metadata": {},
          "execution_count": 14
        }
      ]
    },
    {
      "cell_type": "code",
      "source": [
        "def sent_to_words(sentences):\n",
        "    for sentence in sentences:\n",
        "        # deacc=True removes punctuations\n",
        "        yield(gensim.utils.simple_preprocess(str(sentence), deacc=True))\n",
        "\n",
        "def remove_stopwords(texts):\n",
        "    return [[word for word in simple_preprocess(str(doc)) \n",
        "             if word not in stop_words] for doc in texts]\n",
        "\n",
        "\n",
        "data = dataf.all_paper.values.tolist()\n",
        "data_words = list(sent_to_words(data))\n",
        "\n",
        "# remove stop words\n",
        "data_words = remove_stopwords(data_words)\n",
        "\n",
        "print(data_words[:1][0][:30])"
      ],
      "metadata": {
        "colab": {
          "base_uri": "https://localhost:8080/"
        },
        "id": "8raPYr-C2OiL",
        "outputId": "861fb9a3-8e03-4891-86c1-b8fec37650ae"
      },
      "execution_count": 15,
      "outputs": [
        {
          "output_type": "stream",
          "name": "stdout",
          "text": [
            "['contents', 'lists', 'available', 'sciencedirect']\n"
          ]
        }
      ]
    },
    {
      "cell_type": "code",
      "source": [
        "# Import the wordcloud library\n",
        "from wordcloud import WordCloud\n",
        "\n",
        "# Join the different processed titles together.\n",
        "long_string = ','.join(list(dataf['all_paper'].values))\n",
        "\n",
        "# Create a WordCloud object\n",
        "wordcloud = WordCloud(background_color=\"white\", max_words=100000, contour_width=20, contour_color='steelblue')\n",
        "\n",
        "# Generate a word cloud\n",
        "wordcloud.generate(long_string)\n",
        "\n",
        "# Visualize the word cloud\n",
        "wordcloud.to_image()"
      ],
      "metadata": {
        "colab": {
          "base_uri": "https://localhost:8080/",
          "height": 217
        },
        "id": "t-TrbU5P21iR",
        "outputId": "f05b20fe-3343-48b1-edfb-58fce5f6a7db"
      },
      "execution_count": 16,
      "outputs": [
        {
          "output_type": "execute_result",
          "data": {
            "text/plain": [
              "<PIL.Image.Image image mode=RGB size=400x200 at 0x7F4798F8D590>"
            ],
            "image/png": "[encoded data removed]"
          },
          "metadata": {},
          "execution_count": 16
        }
      ]
    },
    {
      "cell_type": "code",
      "source": [
        "# run in the jupyter notebook\n",
        "#dataf = pd.read_fwf('combined_fileUP.txt')\n",
        "infile = \"combined_fileUP.txt\"\n",
        "outfile = \"cleaned_file.txt\"\n",
        "\n",
        "delete_list = [\"Journal\", \"et al\", \"e.g.\", \"used\",\"use\", \"one\", \"Vol\", \"pp\"]\n",
        "with open(infile) as fin, open(outfile, \"w+\") as fout:\n",
        "    for line in fin:\n",
        "        for word in delete_list:\n",
        "            line = line.replace(word, \"\")\n",
        "        fout.write(line)"
      ],
      "metadata": {
        "colab": {
          "base_uri": "https://localhost:8080/",
          "height": 236
        },
        "id": "O_ieEsPf3HNn",
        "outputId": "faca03b9-19a6-4ad2-bf31-f9cfef4b0d4a"
      },
      "execution_count": 17,
      "outputs": [
        {
          "output_type": "error",
          "ename": "FileNotFoundError",
          "evalue": "ignored",
          "traceback": [
            "\u001b[0;31m---------------------------------------------------------------------------\u001b[0m",
            "\u001b[0;31mFileNotFoundError\u001b[0m                         Traceback (most recent call last)",
            "\u001b[0;32m<ipython-input-17-7b6d8e5ea7fd>\u001b[0m in \u001b[0;36m<module>\u001b[0;34m()\u001b[0m\n\u001b[1;32m      5\u001b[0m \u001b[0;34m\u001b[0m\u001b[0m\n\u001b[1;32m      6\u001b[0m \u001b[0mdelete_list\u001b[0m \u001b[0;34m=\u001b[0m \u001b[0;34m[\u001b[0m\u001b[0;34m\"Journal\"\u001b[0m\u001b[0;34m,\u001b[0m \u001b[0;34m\"et al\"\u001b[0m\u001b[0;34m,\u001b[0m \u001b[0;34m\"e.g.\"\u001b[0m\u001b[0;34m,\u001b[0m \u001b[0;34m\"used\"\u001b[0m\u001b[0;34m,\u001b[0m\u001b[0;34m\"use\"\u001b[0m\u001b[0;34m,\u001b[0m \u001b[0;34m\"one\"\u001b[0m\u001b[0;34m,\u001b[0m \u001b[0;34m\"Vol\"\u001b[0m\u001b[0;34m,\u001b[0m \u001b[0;34m\"pp\"\u001b[0m\u001b[0;34m]\u001b[0m\u001b[0;34m\u001b[0m\u001b[0;34m\u001b[0m\u001b[0m\n\u001b[0;32m----> 7\u001b[0;31m \u001b[0;32mwith\u001b[0m \u001b[0mopen\u001b[0m\u001b[0;34m(\u001b[0m\u001b[0minfile\u001b[0m\u001b[0;34m)\u001b[0m \u001b[0;32mas\u001b[0m \u001b[0mfin\u001b[0m\u001b[0;34m,\u001b[0m \u001b[0mopen\u001b[0m\u001b[0;34m(\u001b[0m\u001b[0moutfile\u001b[0m\u001b[0;34m,\u001b[0m \u001b[0;34m\"w+\"\u001b[0m\u001b[0;34m)\u001b[0m \u001b[0;32mas\u001b[0m \u001b[0mfout\u001b[0m\u001b[0;34m:\u001b[0m\u001b[0;34m\u001b[0m\u001b[0;34m\u001b[0m\u001b[0m\n\u001b[0m\u001b[1;32m      8\u001b[0m     \u001b[0;32mfor\u001b[0m \u001b[0mline\u001b[0m \u001b[0;32min\u001b[0m \u001b[0mfin\u001b[0m\u001b[0;34m:\u001b[0m\u001b[0;34m\u001b[0m\u001b[0;34m\u001b[0m\u001b[0m\n\u001b[1;32m      9\u001b[0m         \u001b[0;32mfor\u001b[0m \u001b[0mword\u001b[0m \u001b[0;32min\u001b[0m \u001b[0mdelete_list\u001b[0m\u001b[0;34m:\u001b[0m\u001b[0;34m\u001b[0m\u001b[0;34m\u001b[0m\u001b[0m\n",
            "\u001b[0;31mFileNotFoundError\u001b[0m: [Errno 2] No such file or directory: 'combined_fileUP.txt'"
          ]
        }
      ]
    },
    {
      "cell_type": "code",
      "source": [
        "#Tokenize words and Clean-up text\n",
        "def sent_to_words(sentences):\n",
        "    for sentence in sentences:\n",
        "        yield(gensim.utils.simple_preprocess(str(sentence), deacc=True))  # deacc=True removes punctuations\n",
        "\n",
        "data_words = list(sent_to_words(dataf['all_paper']))\n",
        "\n",
        "print(data_words[:1])"
      ],
      "metadata": {
        "colab": {
          "base_uri": "https://localhost:8080/"
        },
        "id": "NZ_kG-Wq6Ex8",
        "outputId": "305a4f0d-568c-4fc0-ef09-a706416d68fe"
      },
      "execution_count": 18,
      "outputs": [
        {
          "output_type": "stream",
          "name": "stdout",
          "text": [
            "[['contents', 'lists', 'available', 'at', 'sciencedirect']]\n"
          ]
        }
      ]
    },
    {
      "cell_type": "code",
      "source": [
        "# Creating Bigram and Trigram Models\n",
        "# Build the bigram and trigram models\n",
        "bigram = gensim.models.Phrases(data_words, min_count=5, threshold=100) # higher threshold fewer phrases.\n",
        "trigram = gensim.models.Phrases(bigram[data_words], threshold=100)  \n",
        "\n",
        "# Faster way to get a sentence clubbed as a trigram/bigram\n",
        "bigram_mod = gensim.models.phrases.Phraser(bigram)\n",
        "trigram_mod = gensim.models.phrases.Phraser(trigram)\n",
        "\n",
        "# See trigram example\n",
        "print(trigram_mod[bigram_mod[data_words[0]]])\n"
      ],
      "metadata": {
        "colab": {
          "base_uri": "https://localhost:8080/"
        },
        "id": "ZpMzRsty7oaF",
        "outputId": "076bf358-9b86-4ac8-eb2d-d45c1083d0c5"
      },
      "execution_count": 19,
      "outputs": [
        {
          "output_type": "stream",
          "name": "stderr",
          "text": [
            "/usr/local/lib/python3.7/dist-packages/gensim/models/phrases.py:598: UserWarning: For a faster implementation, use the gensim.models.phrases.Phraser class\n",
            "  warnings.warn(\"For a faster implementation, use the gensim.models.phrases.Phraser class\")\n"
          ]
        },
        {
          "output_type": "stream",
          "name": "stdout",
          "text": [
            "['contents_lists_available', 'at', 'sciencedirect']\n"
          ]
        }
      ]
    },
    {
      "cell_type": "code",
      "source": [
        "\n",
        "# Define functions for stopwords, bigrams, trigrams and lemmatization\n",
        "def remove_stopwords(texts):\n",
        "    return [[word for word in simple_preprocess(str(doc)) if word not in stop_words] for doc in texts]\n",
        "\n",
        "def make_bigrams(texts):\n",
        "    return [bigram_mod[doc] for doc in texts]\n",
        "\n",
        "def make_trigrams(texts):\n",
        "    return [trigram_mod[bigram_mod[doc]] for doc in texts]\n",
        "\n",
        "def lemmatization(texts, allowed_postags=['NOUN', 'ADJ', 'VERB', 'ADV']):\n",
        "    \"\"\"https://spacy.io/api/annotation\"\"\"\n",
        "    texts_out = []\n",
        "    for sent in texts:\n",
        "        doc = nlp(\" \".join(sent)) \n",
        "        texts_out.append([token.lemma_ for token in doc if token.pos_ in allowed_postags])\n",
        "    return texts_out"
      ],
      "metadata": {
        "id": "ts_Y7LcP79qH"
      },
      "execution_count": 20,
      "outputs": []
    },
    {
      "cell_type": "code",
      "source": [
        "# Remove Stop Words\n",
        "data_words_nostops = remove_stopwords(data_words)\n",
        "\n",
        "# Form Bigrams\n",
        "data_words_bigrams = make_bigrams(data_words_nostops)\n",
        "\n",
        "# Initialize spacy 'en' model, keeping only tagger component (for efficiency)\n",
        "# python3 -m spacy download en\n",
        "nlp = spacy.load('en', disable=['parser', 'ner'])\n",
        "\n",
        "# Do lemmatization keeping only noun, adj, vb, adv\n",
        "data_lemmatized = lemmatization(data_words_bigrams, allowed_postags=['NOUN', 'ADJ', 'VERB', 'ADV'])\n",
        "\n",
        "print(data_lemmatized[:1])"
      ],
      "metadata": {
        "colab": {
          "base_uri": "https://localhost:8080/"
        },
        "id": "3Hx3uGmb9Aks",
        "outputId": "dbb3c529-e081-4da8-a643-9efee41fc1a2"
      },
      "execution_count": 22,
      "outputs": [
        {
          "output_type": "stream",
          "name": "stdout",
          "text": [
            "[['contents_list', 'available', 'sciencedirect']]\n"
          ]
        }
      ]
    },
    {
      "cell_type": "code",
      "source": [
        "# Create the Dictionary and Corpus needed for Topic Modeling\n",
        "# Create Dictionary\n",
        "id2word = corpora.Dictionary(data_lemmatized)\n",
        "\n",
        "# Create Corpus\n",
        "texts = data_lemmatized\n",
        "\n",
        "# Term Document Frequency\n",
        "corpus = [id2word.doc2bow(text) for text in texts]\n",
        "\n",
        "# View\n",
        "print(corpus[0:10])"
      ],
      "metadata": {
        "colab": {
          "base_uri": "https://localhost:8080/"
        },
        "id": "kWcSIOdS9D3S",
        "outputId": "d3c5ea75-692b-4e51-d03c-23aa82832eab"
      },
      "execution_count": 23,
      "outputs": [
        {
          "output_type": "stream",
          "name": "stdout",
          "text": [
            "[[(0, 1), (1, 1), (2, 1)], [(3, 1), (4, 1), (5, 1)], [(6, 1), (7, 1), (8, 1), (9, 1), (10, 1)], [], [(11, 1), (12, 1), (13, 1), (14, 1), (15, 1), (16, 1), (17, 1), (18, 1)], [(19, 1), (20, 1), (21, 1)], [], [], [], []]\n"
          ]
        }
      ]
    },
    {
      "cell_type": "code",
      "source": [
        "#If you want to see what word a given id corresponds to, pass the id as a key to the dictionary.\n",
        "id2word[5]"
      ],
      "metadata": {
        "colab": {
          "base_uri": "https://localhost:8080/",
          "height": 35
        },
        "id": "n1_JiCMe9OIt",
        "outputId": "8a5fd7c9-da5c-4d34-a52f-3c99633af1cd"
      },
      "execution_count": 24,
      "outputs": [
        {
          "output_type": "execute_result",
          "data": {
            "text/plain": [
              "'marketing'"
            ],
            "application/vnd.google.colaboratory.intrinsic+json": {
              "type": "string"
            }
          },
          "metadata": {},
          "execution_count": 24
        }
      ]
    },
    {
      "cell_type": "code",
      "source": [
        "# Human readable format of corpus (term-frequency)\n",
        "[[(id2word[id], freq) for id, freq in cp] for cp in corpus[:1]]"
      ],
      "metadata": {
        "colab": {
          "base_uri": "https://localhost:8080/"
        },
        "id": "2QNycOk3N-UO",
        "outputId": "29d3f44a-b0c5-4009-b53d-d33757d701a2"
      },
      "execution_count": 25,
      "outputs": [
        {
          "output_type": "execute_result",
          "data": {
            "text/plain": [
              "[[('available', 1), ('contents_list', 1), ('sciencedirect', 1)]]"
            ]
          },
          "metadata": {},
          "execution_count": 25
        }
      ]
    },
    {
      "cell_type": "code",
      "source": [
        "# Building the Topic Model\n",
        "# Build LDA model\n",
        "lda_model = gensim.models.ldamodel.LdaModel(corpus=corpus,\n",
        "                                           id2word=id2word,\n",
        "                                           num_topics=20, \n",
        "                                           random_state=100,\n",
        "                                           update_every=1,\n",
        "                                           chunksize=100,\n",
        "                                           passes=10,\n",
        "                                           alpha='auto',\n",
        "                                           per_word_topics=True)"
      ],
      "metadata": {
        "id": "eup-4VIiOJqy"
      },
      "execution_count": null,
      "outputs": []
    },
    {
      "cell_type": "code",
      "source": [
        "# View the topics in LDA model\n",
        "# Print the Keyword in the 10 topics\n",
        "pprint(lda_model.print_topics())\n",
        "doc_lda = lda_model[corpus]\n"
      ],
      "metadata": {
        "colab": {
          "base_uri": "https://localhost:8080/",
          "height": 218
        },
        "id": "YLhOQyp9ORLW",
        "outputId": "e96bc4ce-a871-4b7d-84d2-8ee1bb164b8d"
      },
      "execution_count": 1,
      "outputs": [
        {
          "output_type": "error",
          "ename": "NameError",
          "evalue": "ignored",
          "traceback": [
            "\u001b[0;31m---------------------------------------------------------------------------\u001b[0m",
            "\u001b[0;31mNameError\u001b[0m                                 Traceback (most recent call last)",
            "\u001b[0;32m<ipython-input-1-a4d9b2be141e>\u001b[0m in \u001b[0;36m<module>\u001b[0;34m()\u001b[0m\n\u001b[1;32m      1\u001b[0m \u001b[0;31m# View the topics in LDA model\u001b[0m\u001b[0;34m\u001b[0m\u001b[0;34m\u001b[0m\u001b[0;34m\u001b[0m\u001b[0m\n\u001b[1;32m      2\u001b[0m \u001b[0;31m# Print the Keyword in the 10 topics\u001b[0m\u001b[0;34m\u001b[0m\u001b[0;34m\u001b[0m\u001b[0;34m\u001b[0m\u001b[0m\n\u001b[0;32m----> 3\u001b[0;31m \u001b[0mpprint\u001b[0m\u001b[0;34m(\u001b[0m\u001b[0mlda_model\u001b[0m\u001b[0;34m.\u001b[0m\u001b[0mprint_topics\u001b[0m\u001b[0;34m(\u001b[0m\u001b[0;34m)\u001b[0m\u001b[0;34m)\u001b[0m\u001b[0;34m\u001b[0m\u001b[0;34m\u001b[0m\u001b[0m\n\u001b[0m\u001b[1;32m      4\u001b[0m \u001b[0mdoc_lda\u001b[0m \u001b[0;34m=\u001b[0m \u001b[0mlda_model\u001b[0m\u001b[0;34m[\u001b[0m\u001b[0mcorpus\u001b[0m\u001b[0;34m]\u001b[0m\u001b[0;34m\u001b[0m\u001b[0;34m\u001b[0m\u001b[0m\n",
            "\u001b[0;31mNameError\u001b[0m: name 'pprint' is not defined"
          ]
        }
      ]
    },
    {
      "cell_type": "code",
      "source": [
        "# Compute Model Perplexity and Coherence Score\n",
        "\n",
        "# Compute Perplexity\n",
        "print('\\nPerplexity: ', lda_model.log_perplexity(corpus))  # a measure of how good the model is. lower the better.\n",
        "\n",
        "# Compute Coherence Score\n",
        "coherence_model_lda = CoherenceModel(model=lda_model, texts=data_lemmatized, dictionary=id2word, coherence='c_v')\n",
        "coherence_lda = coherence_model_lda.get_coherence()\n",
        "print('\\nCoherence Score: ', coherence_lda)"
      ],
      "metadata": {
        "colab": {
          "base_uri": "https://localhost:8080/"
        },
        "id": "wbodBFBSOcBT",
        "outputId": "77affcba-1e08-4121-c409-30b40eca32ce"
      },
      "execution_count": 48,
      "outputs": [
        {
          "output_type": "stream",
          "name": "stdout",
          "text": [
            "\n",
            "Perplexity:  -8.966154412707503\n",
            "\n",
            "Coherence Score:  0.27615884808825963\n"
          ]
        }
      ]
    },
    {
      "cell_type": "code",
      "source": [
        "# Visualize the topics-keywords\n",
        "# Visualize the topics\n",
        "pyLDAvis.enable_notebook()\n",
        "vis = pyLDAvis.gensim_models.prepare(lda_model, corpus, id2word)\n",
        "vis"
      ],
      "metadata": {
        "colab": {
          "base_uri": "https://localhost:8080/",
          "height": 916
        },
        "id": "d4IE0erROkvx",
        "outputId": "b9217c39-c5d7-47f9-bebe-064e4ba8eeb3"
      },
      "execution_count": 52,
      "outputs": [
        {
          "output_type": "stream",
          "name": "stderr",
          "text": [
            "/usr/local/lib/python3.7/dist-packages/pyLDAvis/_prepare.py:247: FutureWarning: In a future version of pandas all arguments of DataFrame.drop except for the argument 'labels' will be keyword-only\n",
            "  by='saliency', ascending=False).head(R).drop('saliency', 1)\n"
          ]
        },
        {
          "output_type": "execute_result",
          "data": {
            "text/plain": [
              "PreparedData(topic_coordinates=              x         y  topics  cluster       Freq\n",
              "topic                                                \n",
              "9     -0.292193  0.348552       1        1  14.475779\n",
              "13     0.084169  0.029760       2        1   5.900850\n",
              "12    -0.105363 -0.027990       3        1   5.732195\n",
              "16    -0.056961 -0.024720       4        1   5.673466\n",
              "7     -0.001860  0.000385       5        1   5.415829\n",
              "5     -0.230017 -0.296967       6        1   4.839500\n",
              "15     0.068145  0.046460       7        1   4.820685\n",
              "4      0.096921  0.024741       8        1   4.599427\n",
              "17     0.064229  0.000806       9        1   4.502392\n",
              "0      0.056747  0.027662      10        1   4.406346\n",
              "10     0.042983  0.009148      11        1   4.403303\n",
              "11     0.072875  0.005940      12        1   4.352291\n",
              "19     0.069639  0.006771      13        1   4.077999\n",
              "8      0.052997  0.008709      14        1   3.970876\n",
              "3      0.102934  0.017559      15        1   3.952998\n",
              "14     0.105380  0.019717      16        1   3.915754\n",
              "1     -0.092854 -0.078312      17        1   3.884368\n",
              "18     0.069096 -0.001047      18        1   3.845866\n",
              "2     -0.072094 -0.068916      19        1   3.811783\n",
              "6     -0.034774 -0.048258      20        1   3.418294, topic_info=            Term          Freq         Total Category  logprob  loglift\n",
              "5      marketing  51612.000000  51612.000000  Default  30.0000  30.0000\n",
              "11         brand  44082.000000  44082.000000  Default  29.0000  29.0000\n",
              "29      research  44587.000000  44587.000000  Default  28.0000  28.0000\n",
              "527     customer  36598.000000  36598.000000  Default  27.0000  27.0000\n",
              "105     consumer  34498.000000  34498.000000  Default  26.0000  26.0000\n",
              "...          ...           ...           ...      ...      ...      ...\n",
              "1111       guide   1425.183709   1426.110362  Topic20  -4.8067   3.3754\n",
              "3640        half   1425.164550   1426.091203  Topic20  -4.8067   3.3754\n",
              "1857  oortunitie   1379.733819   1380.660472  Topic20  -4.8391   3.3754\n",
              "3109      formal   1298.140995   1299.067648  Topic20  -4.9000   3.3753\n",
              "3368   editorial   1285.656251   1286.582904  Topic20  -4.9097   3.3753\n",
              "\n",
              "[632 rows x 6 columns], token_table=      Topic      Freq      Term\n",
              "term                           \n",
              "1788     14  0.999610   ability\n",
              "1426      7  0.999521      able\n",
              "1297      4  0.999754  academic\n",
              "774      17  0.999554    access\n",
              "1798      4  0.999471    accord\n",
              "...     ...       ...       ...\n",
              "151       2  0.999918      work\n",
              "36       15  0.999482     world\n",
              "1387      4  0.999860     would\n",
              "2453     13  0.999629     write\n",
              "421       1  0.999919      year\n",
              "\n",
              "[628 rows x 3 columns], R=30, lambda_step=0.01, plot_opts={'xlab': 'PC1', 'ylab': 'PC2'}, topic_order=[10, 14, 13, 17, 8, 6, 16, 5, 18, 1, 11, 12, 20, 9, 4, 15, 2, 19, 3, 7])"
            ],
            "text/html": [
              "\n",
              "<link rel=\"stylesheet\" type=\"text/css\" href=\"https://cdn.jsdelivr.net/gh/bmabey/pyLDAvis@3.3.1/pyLDAvis/js/ldavis.v1.0.0.css\">\n",
              "\n",
              "\n",
              "<div id=\"ldavis_el621407118573434401614316444\"></div>\n",
              "<script type=\"text/javascript\">\n",
              "\n",
              "var ldavis_el621407118573434401614316444_data = {\"mdsDat\": {\"x\": [-0.2921925084344264, 0.0841694049010539, -0.1053628407292551, -0.05696136955604591, -0.0018598831000729594, -0.23001698689101885, 0.06814485743101119, 0.09692120699715451, 0.06422874656227268, 0.0567471576379896, 0.04298254712721404, 0.07287485236578166, 0.0696394506309699, 0.052997406668253054, 0.10293363570679832, 0.10537990459666328, -0.09285421987675332, 0.06909610609192902, -0.07209376335116602, -0.03477370477835223], \"y\": [0.3485518239536851, 0.029760143938950052, -0.027989502683580973, -0.024719537017164832, 0.0003845988333613766, -0.2969674789192697, 0.04646019859347426, 0.024740957409220308, 0.0008059320293101391, 0.027661635849184706, 0.009147895620133722, 0.005939674073317489, 0.006770819078128802, 0.008708881996326854, 0.01755855145993779, 0.01971663375401349, -0.07831153031212403, -0.0010465196033302355, -0.06891563745896576, -0.04825754059460803], \"topics\": [1, 2, 3, 4, 5, 6, 7, 8, 9, 10, 11, 12, 13, 14, 15, 16, 17, 18, 19, 20], \"cluster\": [1, 1, 1, 1, 1, 1, 1, 1, 1, 1, 1, 1, 1, 1, 1, 1, 1, 1, 1, 1], \"Freq\": [14.475779194213217, 5.900849878114174, 5.732195411453562, 5.673466227588367, 5.415829008724842, 4.839499660219138, 4.820685363616633, 4.599426898215436, 4.502392105219881, 4.406345769955733, 4.403302754808165, 4.352290890640172, 4.077998946539629, 3.9708759033276726, 3.9529977117694832, 3.91575351169006, 3.8843675385161354, 3.84586581359649, 3.811783062858127, 3.418294348933083]}, \"tinfo\": {\"Term\": [\"marketing\", \"brand\", \"research\", \"customer\", \"consumer\", \"product\", \"sale\", \"study\", \"analysis\", \"design\", \"datum\", \"base\", \"number\", \"category\", \"model\", \"management\", \"value\", \"business\", \"relationship\", \"service\", \"market\", \"provide\", \"knowledge\", \"level\", \"information\", \"company\", \"article\", \"content\", \"negative\", \"make\", \"product\", \"relationship\", \"may\", \"result\", \"positive\", \"also\", \"table\", \"account\", \"new\", \"experience\", \"process\", \"firm\", \"year\", \"paper\", \"set\", \"show\", \"share\", \"see\", \"type\", \"well\", \"time\", \"cent\", \"web\", \"function\", \"manager\", \"present\", \"site\", \"finding\", \"item\", \"empirical\", \"market\", \"article\", \"test\", \"issue\", \"work\", \"develop\", \"represent\", \"topic\", \"know\", \"segment\", \"perception\", \"take\", \"page\", \"small\", \"condition\", \"current\", \"even\", \"potential\", \"health\", \"concern\", \"relational\", \"framework\", \"seek\", \"relation\", \"purpose\", \"segmentation\", \"language\", \"direct\", \"call\", \"frequently\", \"marketing\", \"management\", \"different\", \"case\", \"line\", \"industrial\", \"sulier\", \"sample\", \"performance\", \"technique\", \"many\", \"multiple\", \"response\", \"quality\", \"manufacturer\", \"part\", \"behaviour\", \"distribution\", \"personal\", \"store\", \"improve\", \"critical\", \"task\", \"interactive\", \"methodology\", \"relatively\", \"argue\", \"manage\", \"professional\", \"selling\", \"base\", \"business\", \"level\", \"review\", \"high\", \"specific\", \"literature\", \"would\", \"expect\", \"first\", \"create\", \"academic\", \"evaluate\", \"cluster\", \"involve\", \"offer\", \"positioning\", \"message\", \"range\", \"determine\", \"referral\", \"recent\", \"aroache\", \"quantitative\", \"achieve\", \"drive\", \"nature\", \"accord\", \"quotation\", \"plan\", \"research\", \"design\", \"dimension\", \"however\", \"variable\", \"individual\", \"group\", \"measure\", \"important\", \"list\", \"difference\", \"interaction\", \"future\", \"significant\", \"strategic\", \"ad\", \"overall\", \"conduct\", \"insight\", \"technology\", \"relevant\", \"rate\", \"focal\", \"dynamic\", \"program\", \"weight\", \"capability\", \"think\", \"effective\", \"label\", \"brand\", \"customer\", \"key\", \"development\", \"outcome\", \"examine\", \"report\", \"loyalty\", \"discriminant\", \"single\", \"pattern\", \"effort\", \"demand\", \"factor\", \"trend\", \"association\", \"finally\", \"heterogeneity\", \"fact\", \"reference\", \"emerge\", \"option\", \"election\", \"fig\", \"compromise\", \"combination\", \"global\", \"advantage\", \"top\", \"simple\", \"consumer\", \"information\", \"include\", \"behavior\", \"network\", \"perceive\", \"search\", \"compnt\", \"addition\", \"sharing\", \"several\", \"shoing\", \"organizational\", \"derive\", \"promotion\", \"corporate\", \"consumption\", \"retailing\", \"actor\", \"place\", \"economic\", \"emotional\", \"able\", \"name\", \"law\", \"involvement\", \"opinion\", \"engine\", \"consideration\", \"potentially\", \"healthful\", \"category\", \"content\", \"need\", \"method\", \"publish\", \"large\", \"scale\", \"note\", \"com\", \"describe\", \"percent\", \"specifically\", \"structure\", \"objective\", \"attention\", \"retail\", \"additional\", \"detail\", \"mixture\", \"draw\", \"main\", \"seem\", \"aeare\", \"add\", \"family\", \"say\", \"next\", \"capture\", \"solve\", \"shie\", \"analysis\", \"journal\", \"use\", \"code\", \"purchase\", \"change\", \"suggest\", \"online\", \"qualitative\", \"rather\", \"common\", \"intention\", \"semantic\", \"attitude\", \"basis\", \"engage\", \"least\", \"healthy\", \"original\", \"hold\", \"furthermore\", \"utility\", \"criterion\", \"conjoint\", \"meet\", \"assign\", \"calculate\", \"cope\", \"generally\", \"theme\", \"model\", \"negative\", \"word\", \"communication\", \"problem\", \"strong\", \"comment\", \"estimate\", \"like\", \"behavioral\", \"propose\", \"influence\", \"aspect\", \"go\", \"choose\", \"classify\", \"emotion\", \"occur\", \"cognitive\", \"instance\", \"reflect\", \"hit\", \"buyer\", \"domain\", \"predict\", \"assume\", \"conclusion\", \"motivation\", \"step\", \"obtain\", \"sale\", \"service\", \"attribute\", \"social\", \"term\", \"low\", \"indicate\", \"medium\", \"integration\", \"implication\", \"political\", \"period\", \"regard\", \"affect\", \"respondent\", \"major\", \"demonstrate\", \"full\", \"alication\", \"fit\", \"profit\", \"avoid\", \"international\", \"contact\", \"exchange\", \"managerial\", \"candidate\", \"traditional\", \"conventional\", \"complete\", \"construct\", \"tweet\", \"example\", \"theoretical\", \"view\", \"theory\", \"sub\", \"question\", \"evaluation\", \"index\", \"system\", \"survey\", \"various\", \"differ\", \"environment\", \"help\", \"interview\", \"become\", \"get\", \"project\", \"lack\", \"due\", \"must\", \"selection\", \"especially\", \"computer\", \"error\", \"suli\", \"normal\", \"behavioural\", \"less\", \"choice\", \"good\", \"practice\", \"often\", \"reason\", \"industry\", \"consider\", \"food\", \"compare\", \"address\", \"general\", \"exist\", \"perform\", \"much\", \"limit\", \"write\", \"non\", \"identity\", \"remain\", \"certain\", \"initial\", \"specification\", \"discrete\", \"internet\", \"attempt\", \"employee\", \"probability\", \"ratio\", \"highly\", \"study\", \"datum\", \"thus\", \"aroach\", \"advertising\", \"source\", \"second\", \"informant\", \"alternative\", \"comparison\", \"descriptor\", \"integrate\", \"mechanism\", \"ability\", \"analyse\", \"alpha\", \"assumption\", \"cross\", \"build\", \"last\", \"database\", \"cultural\", \"third\", \"document\", \"foc\", \"external\", \"shoe\", \"secondary\", \"open\", \"big\", \"subsystem\", \"give\", \"effect\", \"follow\", \"perspective\", \"text\", \"cost\", \"classification\", \"select\", \"tag\", \"sell\", \"class\", \"reduce\", \"related\", \"alie\", \"definition\", \"stakeholder\", \"bond\", \"explore\", \"investigate\", \"directly\", \"statement\", \"ca\", \"measurement\", \"collaboration\", \"start\", \"strength\", \"better\", \"believe\", \"extract\", \"world\", \"number\", \"make\", \"find\", \"author\", \"decision\", \"focus\", \"could\", \"total\", \"average\", \"beca\", \"characteristic\", \"aear\", \"twitter\", \"sentiment\", \"power\", \"reliable\", \"establish\", \"typically\", \"standard\", \"retweet\", \"personality\", \"financial\", \"correspond\", \"homogeneous\", \"satisfaction\", \"limited\", \"longitudinal\", \"clear\", \"independent\", \"risk\", \"provide\", \"company\", \"engagement\", \"increase\", \"researcher\", \"solution\", \"great\", \"science\", \"post\", \"lead\", \"likely\", \"consistent\", \"public\", \"judgment\", \"analyze\", \"frequency\", \"correlation\", \"access\", \"display\", \"representative\", \"variety\", \"procedure\", \"press\", \"partner\", \"sign\", \"volume\", \"constraint\", \"senior\", \"thing\", \"decrease\", \"value\", \"identify\", \"image\", \"preference\", \"judge\", \"form\", \"receive\", \"similar\", \"look\", \"unit\", \"come\", \"expand\", \"percentage\", \"assessment\", \"extent\", \"suort\", \"american\", \"partnership\", \"primary\", \"trip\", \"ful\", \"self\", \"education\", \"keep\", \"orient\", \"job\", \"feature\", \"balance\", \"awareness\", \"proceeding\", \"knowledge\", \"resource\", \"relate\", \"area\", \"activity\", \"require\", \"orientation\", \"interest\", \"contain\", \"maintain\", \"previous\", \"relative\", \"tion\", \"collection\", \"trust\", \"optimal\", \"prior\", \"hohold\", \"challenge\", \"operation\", \"acquisition\", \"enable\", \"culture\", \"violation\", \"meaning\", \"profile\", \"respect\", \"extend\", \"failure\", \"visual\", \"strategy\", \"reliability\", \"validity\", \"size\", \"mall\", \"impact\", \"position\", \"understand\", \"available\", \"element\", \"target\", \"optimization\", \"define\", \"other\", \"broad\", \"score\", \"benefit\", \"joint\", \"scientific\", \"status\", \"comprehensive\", \"express\", \"employ\", \"object\", \"representation\", \"guide\", \"half\", \"oortunitie\", \"formal\", \"editorial\"], \"Freq\": [51612.0, 44082.0, 44587.0, 36598.0, 34498.0, 51359.0, 30437.0, 27357.0, 24685.0, 23524.0, 21149.0, 23575.0, 20282.0, 20700.0, 20319.0, 21978.0, 18829.0, 21364.0, 30285.0, 18662.0, 20399.0, 17481.0, 17105.0, 19126.0, 17145.0, 15840.0, 17907.0, 14906.0, 14666.0, 14025.0, 51358.41333948601, 30284.99348426183, 22460.17399471889, 21092.08988638253, 20252.338644753676, 16222.561551202587, 15669.004821967452, 14367.681510766453, 12231.084355112087, 11965.556550995518, 11949.914538442948, 11589.752214602833, 11306.994132043741, 11062.326928403872, 10689.662683058556, 10457.280819211624, 9872.999051957295, 9601.666857951986, 9461.271716451021, 9252.680838025806, 9246.972706675853, 8980.058092039788, 8783.16950168687, 8092.607994198977, 7947.474182345823, 7921.331050772796, 7852.056530653163, 7755.003171362147, 6997.287581851858, 6626.9933592436255, 20398.45976540626, 17906.300029043337, 9875.48461496207, 9569.343959598596, 8492.77477051014, 8410.854969768707, 7730.959637848455, 6764.336595093184, 5898.0266583696, 5798.238226514357, 5607.5073918407015, 5505.95154793596, 5180.869370033766, 4579.364900523955, 4383.575108112678, 4350.244003900428, 4143.090194844853, 4107.353212891897, 3800.6281848479284, 3397.2330608926936, 3280.031724532025, 3025.517382537642, 2938.0756103088634, 2843.330160535227, 2829.4770245741524, 2762.213346714476, 2634.4980667742298, 2619.263176705317, 2553.0227816545075, 2528.956997380777, 51611.802446278896, 21977.829775966333, 13217.424276972528, 12039.863839619815, 10226.558183197118, 8828.802579185374, 8663.178380821031, 7356.202138258379, 6860.6249754130995, 6354.609754241978, 6226.6342257429715, 4932.3857819861105, 4867.762825758043, 4245.9978200250935, 4164.834007271651, 4003.5189316868755, 3440.849650138776, 3167.9934473452117, 2949.393747893378, 2901.9198860304245, 2718.2916842513773, 2708.7112576154104, 2471.9390233152126, 2430.179711147107, 2323.0560678012425, 2218.7087007543137, 1991.7639726959746, 1987.6506077529207, 1985.6758767539816, 1892.718947604697, 23574.411752074342, 21363.19199409759, 19125.479654301063, 13004.64122529613, 11565.491918551179, 10081.555941832614, 9233.27162087387, 9219.361344676288, 8379.179584444179, 7537.780338201595, 4876.976788665152, 4800.251456245009, 4441.20141192368, 4334.080697796714, 4149.7681908060185, 4086.7755508559444, 3996.9629175095765, 3975.865485626879, 3910.3368207001404, 3856.4941890470222, 3788.0791822304677, 3694.7860156146703, 3636.721256734437, 3364.183052013947, 3303.461543559286, 3288.4908850130514, 2965.867062795714, 2628.4620226397924, 2558.590236413627, 2495.6474492550396, 44586.56256281166, 23523.678951026464, 13279.23698624087, 9169.308714000426, 9160.737561624623, 8995.095154450335, 8786.445729766863, 7855.22037815669, 7842.08994892888, 7457.391832611013, 7191.6037929718605, 5640.357947483781, 5466.512751985374, 5357.394676697337, 4999.215685251213, 4625.549454911399, 4521.600309270403, 4393.992004907551, 3954.486359553257, 3605.7274041215974, 3430.765026307221, 3370.4966030995474, 3212.9728675979127, 2512.058393230088, 2295.0775614893655, 2244.129623396714, 2216.01253938456, 2204.1106762956124, 2000.8472896807057, 1888.2527786548892, 44081.7306118325, 36597.12965457383, 9612.550859896444, 7405.834600568746, 7127.461801573985, 5922.8904689330375, 5223.021831614137, 5183.2954672789165, 4895.64262488246, 4682.48895583824, 4440.260790368108, 3590.6543359290185, 3244.520348131558, 3200.535994992884, 3150.4117617565503, 3126.7048045526976, 3072.3366041776167, 2793.5362593410064, 2684.163366958542, 2574.987927198739, 2303.5482667426177, 2285.1670136300636, 2266.7659922689077, 2172.1967597288103, 2071.1614709891264, 2034.8488073513838, 1904.5297316003011, 1746.2793848235424, 1690.5354522637997, 1658.1239145695795, 34498.08108257844, 17144.09730433992, 14947.662153607884, 9887.80578558347, 7856.871785147403, 6266.262139308081, 5930.484904033254, 5069.844943386766, 4989.161964871875, 4589.322663551285, 4205.780969445564, 3914.7032042385545, 3775.8335228678397, 3732.370489324796, 3677.344255608128, 3625.740661367814, 3556.5130382852194, 3075.638831979631, 3000.6555968742173, 2936.645735926166, 2590.424275532635, 2479.0137886495904, 2246.1589035152406, 1970.7357985302197, 1966.5023772512325, 1847.8757949429123, 1739.0525514879557, 1440.558456829575, 1393.066700943312, 1363.1520351053332, 5552.37391390801, 20699.98889068392, 14905.630700006806, 12347.84927572041, 11515.482291961496, 8537.406385382574, 7611.304975300203, 7253.937177273963, 5741.884406255898, 5033.847684155292, 4348.567559426809, 4306.4986135322, 4161.936721405493, 3690.6919984870947, 3545.5586135917315, 3479.6237277106106, 3241.1174686829704, 3051.377281817505, 3047.860285608556, 2877.051889007549, 2625.2453154763225, 2558.0031617329523, 2502.069180842793, 2343.6112323240723, 2244.6289469453086, 2091.2414675246505, 2055.3162873536435, 1928.231675226213, 1869.7513182995597, 1749.147010355256, 1728.9040199388553, 24684.133957625156, 14642.760807201394, 11471.62492133603, 10415.54167331015, 10239.664948826869, 8648.152785596947, 7505.91469804057, 6079.248791495266, 5505.506643451502, 4309.83558411975, 3455.212774306453, 3429.198149514445, 3274.54705610694, 3061.7738659255842, 2851.553850522209, 2623.3508365213665, 2407.0180857252617, 2382.295552566436, 2366.7872451935928, 1949.8475380961972, 1871.6475520200381, 1842.414887688785, 1729.2931419954512, 1704.55756388634, 1698.699418875819, 1678.2049465709554, 1668.2048159931912, 1647.0269807598547, 1646.4762058506756, 1572.1296125481517, 20318.349591646565, 14665.305907878723, 10383.901702676594, 8735.253913368819, 8157.734058723069, 6336.2255356885535, 5147.285918163864, 5042.557771524408, 4971.5926576552065, 4436.331323228482, 4395.731214581789, 4384.442128235056, 3504.5254480799217, 3004.6043535926965, 2919.087117684662, 2845.6913132550058, 2844.400623683254, 2796.2928749655557, 2711.7509290533644, 2649.4259218147185, 2618.0065150902674, 2409.619064302506, 2339.2523096818277, 2083.303565579618, 2058.401649361723, 1944.557262027216, 1941.9788129394935, 1923.3551691025637, 1906.64882819523, 1858.813156085814, 30436.453937834794, 18661.559478490282, 12133.108256516736, 10172.095439975243, 7953.981310454038, 7866.792038089828, 7621.381103172286, 6815.539350213706, 5487.939811407376, 4284.8372775308435, 4167.439496032817, 3825.106927710113, 3448.9957423116775, 3356.8457558130635, 3232.023739299098, 3231.0210973850067, 2908.3454555495146, 2783.8607901843657, 2751.8011372079086, 2417.6890195388037, 2207.9812554920422, 2193.2400769290684, 2181.153787072285, 2153.0465593967238, 2106.8164850086396, 1714.1710149874768, 1647.636186968063, 1626.2680347526286, 1386.2469798451089, 1312.5727725225202, 11002.182407671975, 10339.659141197297, 8976.340880409638, 6791.646131750018, 6358.336893722333, 5883.126712285475, 5717.13743931001, 5571.855119245415, 5178.817439964701, 5145.611647235755, 4994.860283702089, 4095.965024645245, 3768.9482257968507, 3732.771421095668, 3509.845883060269, 3179.947789689954, 3096.9242120892163, 3026.9340580082107, 3003.9957452846265, 2980.4928741352023, 2830.969233959671, 2730.753394900329, 2552.1222303196478, 2350.4651027874233, 2346.7616739339146, 2319.2500451887754, 2258.1218666322493, 2168.7504693382552, 2120.4361752870923, 2030.4193911730788, 14166.772404085412, 8198.898406133938, 7273.841735024487, 6334.1321053782285, 6307.7044826054325, 6101.568637589433, 5983.55004871553, 5243.113294794112, 5189.703696739171, 5094.511182574172, 4794.683565266844, 4495.2983452800445, 4329.305602137848, 3418.3521857142127, 3289.0788075641735, 2860.8786833580243, 2836.127676700161, 2784.1334014215377, 2521.3178208889053, 2419.1881525930967, 2383.778353399583, 2377.219096454567, 2316.0493380451167, 2269.384555881368, 2180.9107089042905, 2125.3985614122435, 2092.3109607633137, 2079.3313255417675, 1964.8606314665253, 1898.0894334281797, 27356.68428387569, 21148.755746503084, 8776.287113774019, 6869.118692235318, 5617.522228875259, 5040.775524132682, 4758.578265108263, 3829.040569863023, 3781.8717084049713, 3723.008518116549, 3623.640672145385, 3330.553300440081, 3124.6696282328953, 2742.1469703782745, 2705.0609877550014, 2664.0393629198816, 2637.7539051090585, 2445.4559030894293, 2311.4345265775237, 2287.0356949729166, 2276.5908811496615, 2264.6438202272857, 2190.1731030152646, 2093.3861420791754, 1992.0452883360206, 1840.1872501278215, 1491.9101679519963, 1307.8949887327437, 1292.5030385115047, 1291.9237350633, 1506.6811327904538, 12139.90574135869, 7963.239847851744, 7337.328281209321, 6660.10125931637, 6583.265138957346, 6372.348831989492, 5701.5750137969835, 5549.999641828616, 4959.425045091505, 4324.733967101025, 3391.268382353035, 3162.9023271887377, 2983.5571505387707, 2844.4407613446347, 2717.9114051116267, 2637.3490618652304, 2631.270996395613, 2597.6916185717637, 2588.388265550031, 2243.2809954186987, 2111.5389451404367, 2020.852375826677, 2020.5711160319936, 1998.8917687735811, 1978.028976152737, 1905.3328948276019, 1828.4357534850853, 1823.727374398789, 1750.7761314842185, 1696.9590036673621, 20281.121885303735, 14024.366379004987, 10778.547700078427, 7477.190066799807, 7237.154119339639, 6783.7871070166375, 6593.883818448453, 5763.958321183755, 5736.220461945947, 4803.450367089924, 3944.307291078668, 3942.0374950901323, 3463.87978734728, 3043.258357712703, 2853.135603455689, 2598.534387784264, 2554.201388701401, 2108.87965375271, 2077.591100052666, 2150.8991496971435, 2020.077698452633, 1919.251999210665, 1853.8930712107308, 1777.7170885817225, 1776.8226729058074, 1705.9878899817122, 1698.708138688098, 1643.510658068829, 1603.3958639204125, 1264.42087819072, 17480.173889877522, 15839.855736286756, 11713.250680963461, 9952.216060655994, 7799.874853076247, 7538.687443830083, 5499.034126219911, 4919.499147476474, 4810.70156381469, 4674.301365778024, 4197.825372223565, 3513.6093095973183, 3440.365428266436, 3406.051915587483, 3361.500657626382, 3360.4464410730893, 3284.2351080370695, 3127.469010726386, 2027.9231751107354, 2010.849626973138, 1937.8848897873606, 1872.0821463681668, 1831.447208809015, 1798.9275616441787, 1741.1378972138887, 1710.2794621326796, 1669.642495105189, 1620.5574048758679, 1610.7611612059052, 1540.5163728365285, 18829.00631197927, 10843.606399692459, 9305.678095998146, 7444.686127222145, 5849.342955837846, 4604.960566392417, 4372.10805213677, 4177.21512579118, 3622.295950538489, 3297.972604224172, 3173.05409354285, 3089.2856569097935, 3038.463656831184, 2950.8301396875127, 2778.2795670606156, 2723.817899267369, 2516.0062988884256, 2436.449464705993, 2153.1813875443886, 2060.8300938353004, 1990.367770895459, 1812.662478908996, 1703.892219435169, 1661.1156660227311, 1650.2328312204766, 1542.5562074107663, 1532.047020804762, 1518.4651691735176, 1452.159100161462, 1402.923666403328, 17104.973646460017, 8482.016543913474, 8304.660402541549, 6252.644777480923, 5051.041711523748, 4713.956775284853, 4580.9490838326265, 4339.717936233078, 3689.3879445957245, 3571.957032419809, 3449.691735100046, 3408.382382964209, 3273.8364945161716, 3270.9809809782805, 3156.557663964136, 3024.602594608618, 2691.625491660442, 2564.689296942502, 2491.8918066815063, 2350.04274139531, 2338.1662528676297, 2305.037624749647, 2269.386433220338, 2203.9808340780974, 2202.920607900194, 2149.9572771363764, 2101.1584481731275, 2001.6393113487318, 1981.881554762598, 1961.4915731400504, 10918.916608820582, 7968.816059429696, 6736.808466878999, 6611.0769716180785, 6025.541631438629, 5865.117725303003, 5528.388518480558, 5456.939777867823, 5221.793955829611, 3985.651381717312, 3582.5880953922947, 3536.741560389973, 3517.3941070050655, 3486.083977263205, 3096.492664789905, 3071.939953478777, 2853.69254831396, 2597.377432616663, 2295.950135678751, 2024.9937302350193, 1951.034743433972, 1856.5864261739341, 1755.0918522470206, 1496.3093533711594, 1454.336887594588, 1425.1837089303892, 1425.164550463911, 1379.7338191281224, 1298.1409952349034, 1285.6562506664166], \"Total\": [51612.0, 44082.0, 44587.0, 36598.0, 34498.0, 51359.0, 30437.0, 27357.0, 24685.0, 23524.0, 21149.0, 23575.0, 20282.0, 20700.0, 20319.0, 21978.0, 18829.0, 21364.0, 30285.0, 18662.0, 20399.0, 17481.0, 17105.0, 19126.0, 17145.0, 15840.0, 17907.0, 14906.0, 14666.0, 14025.0, 51359.340347024234, 30285.920491800054, 22461.101002257114, 21093.016893920754, 20253.2656523469, 16223.488558740806, 15669.931829505671, 14368.608518364634, 12232.011362650306, 11966.483558533737, 11950.841545981168, 11590.679222141052, 11307.921139585293, 11063.253935942092, 10690.589690596775, 10458.207826749844, 9873.926059495514, 9602.593865490206, 9462.19872398924, 9253.607845564025, 9247.899714214072, 8980.985099578007, 8784.09650922509, 8093.535001737197, 7948.401189884042, 7922.258058311015, 7852.983538191382, 7755.930178900367, 6998.214589390077, 6627.92036678577, 20399.38282592819, 17907.22308956527, 9876.407675483997, 9570.267020120524, 8493.697831032066, 8411.778030290634, 7731.882698370381, 6765.25965561511, 5898.949718891527, 5799.161287036283, 5608.430452362628, 5506.874608457886, 5181.792430555693, 4580.287961045881, 4384.498168634605, 4351.167064422354, 4144.013255366779, 4108.276273413823, 3801.5512453698566, 3398.156121414622, 3280.954785053953, 3026.44044305957, 2938.9986708307915, 2844.2532210571553, 2830.4000850960806, 2763.136407236404, 2635.421127296158, 2620.1862372272453, 2553.9458421764357, 2529.880057902705, 51612.73468883589, 21978.76201852332, 13218.356519529516, 12040.796082176803, 10227.490425815158, 8829.734821742362, 8664.110623439072, 7357.134380815367, 6861.557217970088, 6355.5419967989665, 6227.5664682999595, 4933.3180245430985, 4868.695068315031, 4246.9300625820815, 4165.766249828639, 4004.451174243865, 3441.7818926957652, 3168.925689902201, 2950.325990453559, 2902.852128587414, 2719.2239268083667, 2709.6435001724, 2472.871265872202, 2431.1119537040963, 2323.988310358232, 2219.640943311303, 1992.6962152529636, 1988.5828503099096, 1986.6081193109706, 1893.651190222738, 23575.33938399369, 21364.119626016938, 19126.407286220412, 13005.568857215478, 11566.419550470526, 10082.48357375196, 9234.199252793216, 9220.288976595635, 8380.107216363525, 7538.707970120943, 4877.904420584499, 4801.179088225452, 4442.129043843028, 4335.008329716062, 4150.695822725366, 4087.7031827752935, 3997.89054949002, 3976.793117546228, 3911.2644526194895, 3857.4218209663713, 3789.006814210911, 3695.7136475340194, 3637.648888653786, 3365.110683933296, 3304.389175478635, 3289.4185169324005, 2966.794694715063, 2629.3896545591415, 2559.5178684701664, 2496.5750811743887, 44587.48867140077, 23524.60505962415, 13280.163094844449, 9170.234822589535, 9161.663670213731, 8996.021263039444, 8787.371838355972, 7856.146486745798, 7843.016057517989, 7458.317941200122, 7192.529901560969, 5641.284056072889, 5467.4388605744825, 5358.320785286445, 5000.141793840321, 4626.475563500508, 4522.526417859512, 4394.918113496659, 3955.4124681423664, 3606.6535127107068, 3431.6911348963304, 3371.422711688657, 3213.898976187022, 2512.9845018191972, 2296.003670078475, 2245.05573202941, 2216.9386479736695, 2205.036784884722, 2001.7733982698148, 1889.1788872439984, 44082.664389037796, 36598.06343177913, 9613.484637166946, 7406.768377774042, 7128.395578844488, 5923.824246138333, 5223.955608819433, 5184.229244487707, 4896.576402114525, 4683.422733043536, 4441.194567573404, 3591.5881131343144, 3245.4541254020605, 3201.4697721981797, 3151.3455390220984, 3127.6385817810324, 3073.2703813829125, 2794.470036611509, 2685.097144163838, 2575.9217044040347, 2304.4820439479136, 2286.1007908353595, 2267.69976953941, 2173.130536934106, 2072.0952481944223, 2035.7825845566795, 1905.4635088055968, 1747.213162028838, 1691.4692294690954, 1659.057691789184, 34498.9995023226, 17145.015724084078, 14948.580573352043, 9888.72420532763, 7857.790204891563, 6267.180559052241, 5931.403323777414, 5070.763363130926, 4990.080384616035, 4590.241083295445, 4206.699389189724, 3915.621623982715, 3776.751942612, 3733.2889090689564, 3678.2626753522886, 3626.6590811119745, 3557.43145802938, 3076.5572517237915, 3001.5740166183778, 2937.5641556703263, 2591.3426952767954, 2479.932208393751, 2247.077323259401, 1971.6542182743797, 1967.4207970184566, 1848.7942146870723, 1739.9709712321157, 1441.476876635448, 1393.985120687472, 1364.0704548494932, 8449.176582080925, 20700.913213307012, 14906.5550226299, 12348.773598343503, 11516.40661458459, 8538.330708005667, 7612.229297923299, 7254.861499897059, 5742.808728878994, 5034.772006778388, 4349.491882049904, 4307.422936155295, 4162.861044028588, 3691.6163211101903, 3546.482936214827, 3480.548050333706, 3242.041791306066, 3052.3016044406004, 3048.7846082316514, 2877.9762116925176, 2626.169638099418, 2558.927484356048, 2502.9935034658884, 2344.5355550090408, 2245.553269568404, 2092.165790147746, 2056.240609976739, 1929.1559978493083, 1870.675640922655, 1750.0713330029803, 1729.8283427038898, 24685.061212564608, 14643.688062202787, 11472.552176275478, 10416.468928249598, 10240.592203766317, 8649.080040536395, 7506.841952980019, 6080.176046434715, 5506.433898418354, 4310.762839059199, 3456.1400292459025, 3430.1254044724756, 3275.474311108333, 3062.7011208650338, 2852.4811054616584, 2624.278091460816, 2407.9453406647112, 2383.2228075058856, 2367.7145001330423, 1950.7747930356463, 1872.5748069594872, 1843.3421426901778, 1730.2203969349002, 1705.4848189207394, 1699.626673815268, 1679.1322015194137, 1669.1320709326403, 1647.9542356993038, 1647.4034607901247, 1573.0568674876008, 20319.277168953155, 14666.233485223172, 10384.829279983182, 8736.181490675406, 8158.6616360296575, 6337.1531130539615, 5148.2134954704525, 5043.485348830996, 4972.520234961795, 4437.25890053507, 4396.658791888377, 4385.369705541644, 3505.4530253865105, 3005.5319308992853, 2920.014694991251, 2846.618890592448, 2845.3282009898426, 2797.2204522721445, 2712.678506359953, 2650.3534991213073, 2618.934092396856, 2410.546641667914, 2340.1798869884165, 2084.2311428862067, 2059.3292266683115, 1945.4848393338045, 1942.906390246082, 1924.2827464091522, 1907.5764055018185, 1859.7407333924025, 30437.379872121954, 18662.485412746653, 12134.034190784081, 10173.021374231612, 7954.907244710409, 7867.717972346199, 7622.307037428657, 6816.465284470077, 5488.865745663747, 4285.7632117872145, 4168.365430340618, 3826.032861966484, 3449.9216765680485, 3357.7716900694345, 3232.949673555469, 3231.9470316413776, 2909.2713898058855, 2784.7867244407366, 2752.7270714642796, 2418.6149537951746, 2208.907189748413, 2194.1660111854394, 2182.079721328656, 2153.9724936530947, 2107.7424192650105, 1715.0969492438478, 1648.5621212864492, 1627.1939690089996, 1387.1729141046342, 1313.4987067788911, 11003.108666714239, 10340.58540023956, 8977.267139451902, 6792.572390792283, 6359.263152764598, 5884.05297132774, 5718.0636984143275, 5572.78137828768, 5179.743699006966, 5146.53790627802, 4995.786542744354, 4096.891283687511, 3769.8744848391157, 3733.697680137933, 3510.772142102534, 3180.874048732219, 3097.8504711314813, 3027.8603170504757, 3004.9220043268915, 2981.4191331774673, 2831.895493001936, 2731.679653942594, 2553.0484893619127, 2351.3913618296883, 2347.6879329761796, 2320.1763042310404, 2259.0481256745143, 2169.6767284425723, 2121.3624343914094, 2031.3456502724407, 14167.69722436131, 8199.823226409837, 7274.766555300387, 6335.0569256541285, 6308.6293028813325, 6102.493457865333, 5984.4748689914295, 5244.038115070012, 5190.628517015071, 5095.436002850072, 4795.608385542744, 4496.223165555944, 4330.230422413748, 3419.2770059901122, 3290.003627840073, 2861.803503633924, 2837.0524969760604, 2785.058221697437, 2522.2426411736847, 2420.112972868996, 2384.7031736754825, 2378.1439167304666, 2316.974158383267, 2270.3093762195185, 2181.83552918019, 2126.323381688143, 2093.235781039213, 2080.256145817667, 1965.7854517424246, 1899.014253704079, 27357.608032468408, 21149.679495095803, 8777.210862366734, 6870.042440828034, 5618.445977467975, 5041.699272725398, 4759.502013700979, 3829.9643185064365, 3782.7954569976882, 3723.932266709266, 3624.564420803308, 3331.477049032798, 3125.5933768256123, 2743.0707189709915, 2705.9847363477184, 2664.9631115778047, 2638.6776537017754, 2446.3796516821462, 2312.3582751702406, 2287.9594435656336, 2277.5146297581987, 2265.5675688200026, 2191.0968516079815, 2094.3098906718924, 1992.9690369287368, 1841.1109987205377, 1492.8339165447126, 1308.81873732546, 1293.426787104221, 1292.8474836560163, 2231.1182972168826, 12140.826337209972, 7964.160443703027, 7338.248877060604, 6661.021855167653, 6584.185734808629, 6373.269427840775, 5702.4956096482665, 5550.920237679899, 4960.345640942788, 4325.654563011784, 3392.1889782043186, 3163.822923040021, 2984.477746390054, 2845.361357195918, 2718.83200096291, 2638.269657716514, 2632.1915922468966, 2598.612214423047, 2589.3088614013145, 2244.201591269982, 2112.45954099172, 2021.77297167796, 2021.4917118832766, 1999.8123646248641, 1978.94957200402, 1906.2534906788849, 1829.3563493363683, 1824.647970250072, 1751.6967273355015, 1697.8795995186451, 20282.042388722486, 14025.286882423736, 10779.468203497176, 7478.110570218556, 7238.074622758388, 6784.707610435386, 6594.804321867202, 5764.878824602504, 5737.140965364696, 4804.370870508673, 3945.227794497418, 3942.957998508882, 3464.80029076603, 3044.178861131453, 2854.0561068744387, 2599.4548912379655, 2555.1218921201507, 2109.80015717146, 2078.511603471416, 2151.8757160820064, 2020.9982018713822, 1920.172502629414, 1854.81357462948, 1778.6375920600026, 1777.7431763245565, 1706.9083934004614, 1699.628642166378, 1644.431161487578, 1604.3163673391616, 1265.3413816094692, 17481.098916073224, 15840.780762482458, 11714.175707159164, 9953.141086851696, 7800.799879271949, 7539.612470025785, 5499.959152415613, 4920.424173672176, 4811.626590010393, 4675.226391973726, 4198.750398419267, 3514.5343357930215, 3441.290454462139, 3406.9769418427622, 3362.425683822085, 3361.3714672687925, 3285.1601342327726, 3128.394036922089, 2028.8482013064379, 2011.7746531688404, 1938.809915983063, 1873.0071725638693, 1832.3722350047174, 1799.8525878398812, 1742.0629234095911, 1711.204488328382, 1670.5675213604677, 1621.4824310715703, 1611.6861874016076, 1541.441399032231, 18829.929434930673, 10844.529522643863, 9306.60121894955, 7445.60925017355, 5850.266078789251, 4605.883689343822, 4373.031175088176, 4178.138248742585, 3623.219073489894, 3298.895727175577, 3173.977216494255, 3090.2087799264054, 3039.386779782589, 2951.753262638918, 2779.202690012021, 2724.741022218774, 2516.929421839831, 2437.3725877226047, 2154.104510495794, 2061.7532167867057, 1991.290893846864, 1813.585601860401, 1704.815342386574, 1662.0387889741362, 1651.1559541718816, 1543.4793303621714, 1532.970143756167, 1519.3882921249226, 1453.0822231514608, 1403.8467893547331, 17105.899222216914, 8482.94211967037, 8305.585978298444, 6253.570353237818, 5051.967287280643, 4714.882351041749, 4581.874659589522, 4340.643511989973, 3690.31352035262, 3572.882608231326, 3450.6173108569415, 3409.307958721104, 3274.762070273067, 3271.906556800382, 3157.483239741988, 3025.5281704307195, 2692.5510674173374, 2565.6148726993974, 2492.8173824384016, 2350.9683171612687, 2339.091828624525, 2305.9632005065423, 2270.3120089772333, 2204.906409900199, 2203.8461836570896, 2150.882852893272, 2102.084023930023, 2002.564887105627, 1982.807130519493, 1962.4171488969455, 10919.843261730915, 7969.742712340029, 6737.735119789332, 6612.003624528412, 6026.46828541396, 5866.044378213336, 5529.315171390891, 5457.866430778156, 5222.7206087399445, 3986.5780346276456, 3583.514748326725, 3537.6682134089265, 3518.3207599153993, 3487.0106301735386, 3097.419317700239, 3072.866606389111, 2854.6192012242936, 2598.304085526997, 2296.8767886532614, 2025.9203831832142, 1951.9613963443055, 1857.5130790842677, 1756.0185051573542, 1497.236006281493, 1455.2635405347874, 1426.1103618407228, 1426.0912033742445, 1380.660472038456, 1299.067648145237, 1286.5829036370021], \"Category\": [\"Default\", \"Default\", \"Default\", \"Default\", \"Default\", \"Default\", \"Default\", \"Default\", \"Default\", \"Default\", \"Default\", \"Default\", \"Default\", \"Default\", \"Default\", \"Default\", \"Default\", \"Default\", \"Default\", \"Default\", \"Default\", \"Default\", \"Default\", \"Default\", \"Default\", \"Default\", \"Default\", \"Default\", \"Default\", \"Default\", \"Topic1\", \"Topic1\", \"Topic1\", \"Topic1\", \"Topic1\", \"Topic1\", \"Topic1\", \"Topic1\", \"Topic1\", \"Topic1\", \"Topic1\", \"Topic1\", \"Topic1\", \"Topic1\", \"Topic1\", \"Topic1\", \"Topic1\", \"Topic1\", \"Topic1\", \"Topic1\", \"Topic1\", \"Topic1\", \"Topic1\", \"Topic1\", \"Topic1\", \"Topic1\", \"Topic1\", \"Topic1\", \"Topic1\", \"Topic1\", \"Topic2\", \"Topic2\", \"Topic2\", \"Topic2\", \"Topic2\", \"Topic2\", \"Topic2\", \"Topic2\", \"Topic2\", \"Topic2\", \"Topic2\", \"Topic2\", \"Topic2\", \"Topic2\", \"Topic2\", \"Topic2\", \"Topic2\", \"Topic2\", \"Topic2\", \"Topic2\", \"Topic2\", \"Topic2\", \"Topic2\", \"Topic2\", \"Topic2\", \"Topic2\", \"Topic2\", \"Topic2\", \"Topic2\", \"Topic2\", \"Topic3\", \"Topic3\", \"Topic3\", \"Topic3\", \"Topic3\", \"Topic3\", \"Topic3\", \"Topic3\", \"Topic3\", \"Topic3\", \"Topic3\", \"Topic3\", \"Topic3\", \"Topic3\", \"Topic3\", \"Topic3\", \"Topic3\", \"Topic3\", \"Topic3\", \"Topic3\", \"Topic3\", \"Topic3\", \"Topic3\", \"Topic3\", \"Topic3\", \"Topic3\", \"Topic3\", \"Topic3\", \"Topic3\", \"Topic3\", \"Topic4\", \"Topic4\", \"Topic4\", \"Topic4\", \"Topic4\", \"Topic4\", \"Topic4\", \"Topic4\", \"Topic4\", \"Topic4\", \"Topic4\", \"Topic4\", \"Topic4\", \"Topic4\", \"Topic4\", \"Topic4\", \"Topic4\", \"Topic4\", \"Topic4\", \"Topic4\", \"Topic4\", \"Topic4\", \"Topic4\", \"Topic4\", \"Topic4\", \"Topic4\", \"Topic4\", \"Topic4\", \"Topic4\", \"Topic4\", \"Topic5\", \"Topic5\", \"Topic5\", \"Topic5\", \"Topic5\", \"Topic5\", \"Topic5\", \"Topic5\", \"Topic5\", \"Topic5\", \"Topic5\", \"Topic5\", \"Topic5\", \"Topic5\", \"Topic5\", \"Topic5\", \"Topic5\", \"Topic5\", \"Topic5\", \"Topic5\", \"Topic5\", \"Topic5\", \"Topic5\", \"Topic5\", \"Topic5\", \"Topic5\", \"Topic5\", \"Topic5\", \"Topic5\", \"Topic5\", \"Topic6\", \"Topic6\", \"Topic6\", \"Topic6\", \"Topic6\", \"Topic6\", \"Topic6\", \"Topic6\", \"Topic6\", \"Topic6\", \"Topic6\", \"Topic6\", \"Topic6\", \"Topic6\", \"Topic6\", \"Topic6\", \"Topic6\", \"Topic6\", \"Topic6\", \"Topic6\", \"Topic6\", \"Topic6\", \"Topic6\", \"Topic6\", \"Topic6\", \"Topic6\", \"Topic6\", \"Topic6\", \"Topic6\", \"Topic6\", \"Topic7\", \"Topic7\", \"Topic7\", \"Topic7\", \"Topic7\", \"Topic7\", \"Topic7\", \"Topic7\", \"Topic7\", \"Topic7\", \"Topic7\", \"Topic7\", \"Topic7\", \"Topic7\", \"Topic7\", \"Topic7\", \"Topic7\", \"Topic7\", \"Topic7\", \"Topic7\", \"Topic7\", \"Topic7\", \"Topic7\", \"Topic7\", \"Topic7\", \"Topic7\", \"Topic7\", \"Topic7\", \"Topic7\", \"Topic7\", \"Topic7\", \"Topic8\", \"Topic8\", \"Topic8\", \"Topic8\", \"Topic8\", \"Topic8\", \"Topic8\", \"Topic8\", \"Topic8\", \"Topic8\", \"Topic8\", \"Topic8\", \"Topic8\", \"Topic8\", \"Topic8\", \"Topic8\", \"Topic8\", \"Topic8\", \"Topic8\", \"Topic8\", \"Topic8\", \"Topic8\", \"Topic8\", \"Topic8\", \"Topic8\", \"Topic8\", \"Topic8\", \"Topic8\", \"Topic8\", \"Topic8\", \"Topic9\", \"Topic9\", \"Topic9\", \"Topic9\", \"Topic9\", \"Topic9\", \"Topic9\", \"Topic9\", \"Topic9\", \"Topic9\", \"Topic9\", \"Topic9\", \"Topic9\", \"Topic9\", \"Topic9\", \"Topic9\", \"Topic9\", \"Topic9\", \"Topic9\", \"Topic9\", \"Topic9\", \"Topic9\", \"Topic9\", \"Topic9\", \"Topic9\", \"Topic9\", \"Topic9\", \"Topic9\", \"Topic9\", \"Topic9\", \"Topic10\", \"Topic10\", \"Topic10\", \"Topic10\", \"Topic10\", \"Topic10\", \"Topic10\", \"Topic10\", \"Topic10\", \"Topic10\", \"Topic10\", \"Topic10\", \"Topic10\", \"Topic10\", \"Topic10\", \"Topic10\", \"Topic10\", \"Topic10\", \"Topic10\", \"Topic10\", \"Topic10\", \"Topic10\", \"Topic10\", \"Topic10\", \"Topic10\", \"Topic10\", \"Topic10\", \"Topic10\", \"Topic10\", \"Topic10\", \"Topic11\", \"Topic11\", \"Topic11\", \"Topic11\", \"Topic11\", \"Topic11\", \"Topic11\", \"Topic11\", \"Topic11\", \"Topic11\", \"Topic11\", \"Topic11\", \"Topic11\", \"Topic11\", \"Topic11\", \"Topic11\", \"Topic11\", \"Topic11\", \"Topic11\", \"Topic11\", \"Topic11\", \"Topic11\", \"Topic11\", \"Topic11\", \"Topic11\", \"Topic11\", \"Topic11\", \"Topic11\", \"Topic11\", \"Topic11\", \"Topic12\", \"Topic12\", \"Topic12\", \"Topic12\", \"Topic12\", \"Topic12\", \"Topic12\", \"Topic12\", \"Topic12\", \"Topic12\", \"Topic12\", \"Topic12\", \"Topic12\", \"Topic12\", \"Topic12\", \"Topic12\", \"Topic12\", \"Topic12\", \"Topic12\", \"Topic12\", \"Topic12\", \"Topic12\", \"Topic12\", \"Topic12\", \"Topic12\", \"Topic12\", \"Topic12\", \"Topic12\", \"Topic12\", \"Topic12\", \"Topic13\", \"Topic13\", \"Topic13\", \"Topic13\", \"Topic13\", \"Topic13\", \"Topic13\", \"Topic13\", \"Topic13\", \"Topic13\", \"Topic13\", \"Topic13\", \"Topic13\", \"Topic13\", \"Topic13\", \"Topic13\", \"Topic13\", \"Topic13\", \"Topic13\", \"Topic13\", \"Topic13\", \"Topic13\", \"Topic13\", \"Topic13\", \"Topic13\", \"Topic13\", \"Topic13\", \"Topic13\", \"Topic13\", \"Topic13\", \"Topic14\", \"Topic14\", \"Topic14\", \"Topic14\", \"Topic14\", \"Topic14\", \"Topic14\", \"Topic14\", \"Topic14\", \"Topic14\", \"Topic14\", \"Topic14\", \"Topic14\", \"Topic14\", \"Topic14\", \"Topic14\", \"Topic14\", \"Topic14\", \"Topic14\", \"Topic14\", \"Topic14\", \"Topic14\", \"Topic14\", \"Topic14\", \"Topic14\", \"Topic14\", \"Topic14\", \"Topic14\", \"Topic14\", \"Topic14\", \"Topic14\", \"Topic15\", \"Topic15\", \"Topic15\", \"Topic15\", \"Topic15\", \"Topic15\", \"Topic15\", \"Topic15\", \"Topic15\", \"Topic15\", \"Topic15\", \"Topic15\", \"Topic15\", \"Topic15\", \"Topic15\", \"Topic15\", \"Topic15\", \"Topic15\", \"Topic15\", \"Topic15\", \"Topic15\", \"Topic15\", \"Topic15\", \"Topic15\", \"Topic15\", \"Topic15\", \"Topic15\", \"Topic15\", \"Topic15\", \"Topic15\", \"Topic16\", \"Topic16\", \"Topic16\", \"Topic16\", \"Topic16\", \"Topic16\", \"Topic16\", \"Topic16\", \"Topic16\", \"Topic16\", \"Topic16\", \"Topic16\", \"Topic16\", \"Topic16\", \"Topic16\", \"Topic16\", \"Topic16\", \"Topic16\", \"Topic16\", \"Topic16\", \"Topic16\", \"Topic16\", \"Topic16\", \"Topic16\", \"Topic16\", \"Topic16\", \"Topic16\", \"Topic16\", \"Topic16\", \"Topic16\", \"Topic17\", \"Topic17\", \"Topic17\", \"Topic17\", \"Topic17\", \"Topic17\", \"Topic17\", \"Topic17\", \"Topic17\", \"Topic17\", \"Topic17\", \"Topic17\", \"Topic17\", \"Topic17\", \"Topic17\", \"Topic17\", \"Topic17\", \"Topic17\", \"Topic17\", \"Topic17\", \"Topic17\", \"Topic17\", \"Topic17\", \"Topic17\", \"Topic17\", \"Topic17\", \"Topic17\", \"Topic17\", \"Topic17\", \"Topic17\", \"Topic18\", \"Topic18\", \"Topic18\", \"Topic18\", \"Topic18\", \"Topic18\", \"Topic18\", \"Topic18\", \"Topic18\", \"Topic18\", \"Topic18\", \"Topic18\", \"Topic18\", \"Topic18\", \"Topic18\", \"Topic18\", \"Topic18\", \"Topic18\", \"Topic18\", \"Topic18\", \"Topic18\", \"Topic18\", \"Topic18\", \"Topic18\", \"Topic18\", \"Topic18\", \"Topic18\", \"Topic18\", \"Topic18\", \"Topic18\", \"Topic19\", \"Topic19\", \"Topic19\", \"Topic19\", \"Topic19\", \"Topic19\", \"Topic19\", \"Topic19\", \"Topic19\", \"Topic19\", \"Topic19\", \"Topic19\", \"Topic19\", \"Topic19\", \"Topic19\", \"Topic19\", \"Topic19\", \"Topic19\", \"Topic19\", \"Topic19\", \"Topic19\", \"Topic19\", \"Topic19\", \"Topic19\", \"Topic19\", \"Topic19\", \"Topic19\", \"Topic19\", \"Topic19\", \"Topic19\", \"Topic20\", \"Topic20\", \"Topic20\", \"Topic20\", \"Topic20\", \"Topic20\", \"Topic20\", \"Topic20\", \"Topic20\", \"Topic20\", \"Topic20\", \"Topic20\", \"Topic20\", \"Topic20\", \"Topic20\", \"Topic20\", \"Topic20\", \"Topic20\", \"Topic20\", \"Topic20\", \"Topic20\", \"Topic20\", \"Topic20\", \"Topic20\", \"Topic20\", \"Topic20\", \"Topic20\", \"Topic20\", \"Topic20\", \"Topic20\"], \"logprob\": [30.0, 29.0, 28.0, 27.0, 26.0, 25.0, 24.0, 23.0, 22.0, 21.0, 20.0, 19.0, 18.0, 17.0, 16.0, 15.0, 14.0, 13.0, 12.0, 11.0, 10.0, 9.0, 8.0, 7.0, 6.0, 5.0, 4.0, 3.0, 2.0, 1.0, -2.6655, -3.1936, -3.4926, -3.5554, -3.596, -3.8179, -3.8526, -3.9393, -4.1003, -4.1223, -4.1236, -4.1542, -4.1789, -4.2008, -4.235, -4.257, -4.3145, -4.3424, -4.3571, -4.3794, -4.38, -4.4093, -4.4315, -4.5133, -4.5314, -4.5347, -4.5435, -4.556, -4.6588, -4.7131, -2.6915, -2.8218, -3.4169, -3.4484, -3.5677, -3.5774, -3.6617, -3.7953, -3.9323, -3.9494, -3.9828, -4.0011, -4.0619, -4.1854, -4.2291, -4.2367, -4.2855, -4.2941, -4.3718, -4.484, -4.5191, -4.5998, -4.6292, -4.6619, -4.6668, -4.6909, -4.7382, -4.744, -4.7696, -4.7791, -1.7342, -2.5879, -3.0964, -3.1897, -3.3529, -3.4999, -3.5188, -3.6824, -3.7521, -3.8287, -3.8491, -4.0821, -4.0953, -4.2319, -4.2512, -4.2907, -4.4422, -4.5248, -4.5963, -4.6125, -4.6779, -4.6814, -4.7729, -4.79, -4.835, -4.881, -4.9889, -4.991, -4.992, -5.0399, -2.5075, -2.606, -2.7166, -3.1023, -3.2196, -3.3569, -3.4448, -3.4463, -3.5419, -3.6477, -4.0831, -4.099, -4.1767, -4.2011, -4.2446, -4.2599, -4.2821, -4.2874, -4.304, -4.3179, -4.3358, -4.3607, -4.3765, -4.4544, -4.4727, -4.4772, -4.5805, -4.7012, -4.7282, -4.7531, -1.8237, -2.4631, -3.0349, -3.4053, -3.4062, -3.4245, -3.4479, -3.56, -3.5616, -3.6119, -3.6482, -3.8912, -3.9225, -3.9427, -4.0119, -4.0896, -4.1123, -4.1409, -4.2463, -4.3386, -4.3884, -4.4061, -4.454, -4.7, -4.7904, -4.8128, -4.8254, -4.8308, -4.9276, -4.9855, -1.7226, -1.9087, -3.2456, -3.5064, -3.5447, -3.7298, -3.8556, -3.8632, -3.9203, -3.9648, -4.0179, -4.2303, -4.3317, -4.3453, -4.3611, -4.3687, -4.3862, -4.4813, -4.5213, -4.5628, -4.6742, -4.6822, -4.6903, -4.7329, -4.7805, -4.7982, -4.8644, -4.9511, -4.9836, -5.0029, -1.9638, -2.6631, -2.8002, -3.2134, -3.4434, -3.6696, -3.7246, -3.8814, -3.8975, -3.981, -4.0683, -4.14, -4.1761, -4.1877, -4.2025, -4.2167, -4.236, -4.3812, -4.4059, -4.4275, -4.5529, -4.5969, -4.6955, -4.8263, -4.8285, -4.8907, -4.9514, -5.1397, -5.1732, -5.1949, -3.7905, -2.4276, -2.756, -2.9443, -3.0141, -3.3133, -3.4281, -3.4762, -3.71, -3.8416, -3.9879, -3.9976, -4.0318, -4.1519, -4.1921, -4.2108, -4.2818, -4.3422, -4.3433, -4.401, -4.4926, -4.5185, -4.5406, -4.6061, -4.6492, -4.72, -4.7373, -4.8012, -4.8319, -4.8986, -4.9103, -2.2303, -2.7525, -2.9966, -3.0931, -3.1102, -3.2791, -3.4207, -3.6316, -3.7307, -3.9755, -4.1965, -4.2041, -4.2503, -4.3174, -4.3886, -4.472, -4.558, -4.5684, -4.5749, -4.7687, -4.8096, -4.8254, -4.8887, -4.9031, -4.9066, -4.9187, -4.9247, -4.9375, -4.9378, -4.984, -2.4033, -2.7294, -3.0746, -3.2475, -3.3159, -3.5686, -3.7764, -3.797, -3.8111, -3.925, -3.9342, -3.9368, -4.1608, -4.3147, -4.3436, -4.3691, -4.3695, -4.3866, -4.4173, -4.4405, -4.4525, -4.5354, -4.565, -4.6809, -4.6929, -4.7498, -4.7512, -4.7608, -4.7695, -4.7949, -1.9985, -2.4877, -2.9182, -3.0945, -3.3405, -3.3515, -3.3832, -3.495, -3.7116, -3.9591, -3.9869, -4.0726, -4.1761, -4.2032, -4.2411, -4.2414, -4.3466, -4.3903, -4.4019, -4.5314, -4.6221, -4.6288, -4.6343, -4.6473, -4.669, -4.8752, -4.9148, -4.9279, -5.0876, -5.1422, -3.0044, -3.0665, -3.2079, -3.4868, -3.5528, -3.6304, -3.6591, -3.6848, -3.7579, -3.7644, -3.7941, -3.9925, -4.0757, -4.0854, -4.147, -4.2457, -4.2721, -4.295, -4.3026, -4.3104, -4.3619, -4.3979, -4.4656, -4.5479, -4.5495, -4.5613, -4.588, -4.6284, -4.6509, -4.6943, -2.6865, -3.2334, -3.3531, -3.4915, -3.4957, -3.5289, -3.5484, -3.6805, -3.6908, -3.7093, -3.7699, -3.8344, -3.872, -4.1083, -4.1468, -4.2863, -4.295, -4.3135, -4.4126, -4.454, -4.4687, -4.4715, -4.4976, -4.5179, -4.5577, -4.5835, -4.5992, -4.6054, -4.662, -4.6966, -2.0018, -2.2592, -3.1388, -3.3838, -3.5849, -3.6933, -3.7509, -3.9682, -3.9806, -3.9963, -4.0233, -4.1077, -4.1715, -4.3021, -4.3157, -4.331, -4.3409, -4.4166, -4.4729, -4.4836, -4.4881, -4.4934, -4.5268, -4.572, -4.6216, -4.7009, -4.9108, -5.0424, -5.0542, -5.0547, -4.9009, -2.8098, -3.2315, -3.3133, -3.4102, -3.4218, -3.4543, -3.5656, -3.5925, -3.705, -3.8419, -4.0851, -4.1548, -4.2132, -4.2609, -4.3064, -4.3365, -4.3388, -4.3517, -4.3553, -4.4984, -4.5589, -4.6028, -4.6029, -4.6137, -4.6242, -4.6616, -4.7028, -4.7054, -4.7462, -4.7775, -2.2871, -2.656, -2.9193, -3.285, -3.3176, -3.3823, -3.4107, -3.5452, -3.55, -3.7275, -3.9246, -3.9251, -4.0544, -4.1839, -4.2484, -4.3419, -4.3591, -4.5507, -4.5656, -4.5309, -4.5937, -4.6449, -4.6795, -4.7215, -4.722, -4.7627, -4.767, -4.8, -4.8247, -5.0622, -2.4277, -2.5263, -2.8281, -2.991, -3.2347, -3.2687, -3.5842, -3.6956, -3.7179, -3.7467, -3.8542, -4.0321, -4.0532, -4.0632, -4.0764, -4.0767, -4.0996, -4.1486, -4.5818, -4.5902, -4.6272, -4.6617, -4.6837, -4.7016, -4.7342, -4.7521, -4.7762, -4.806, -4.8121, -4.8567, -2.3434, -2.8952, -3.0482, -3.2713, -3.5125, -3.7517, -3.8036, -3.8492, -3.9917, -4.0855, -4.1241, -4.1509, -4.1675, -4.1967, -4.257, -4.2768, -4.3561, -4.3883, -4.5119, -4.5557, -4.5905, -4.684, -4.7459, -4.7713, -4.7779, -4.8454, -4.8522, -4.8611, -4.9058, -4.9403, -2.4306, -3.132, -3.1531, -3.4369, -3.6503, -3.7194, -3.748, -3.8021, -3.9645, -3.9968, -4.0316, -4.0437, -4.084, -4.0848, -4.1204, -4.1631, -4.2798, -4.3281, -4.3569, -4.4155, -4.4206, -4.4348, -4.4504, -4.4797, -4.4801, -4.5045, -4.5274, -4.576, -4.5859, -4.5962, -2.7705, -3.0854, -3.2534, -3.2722, -3.365, -3.3919, -3.4511, -3.4641, -3.5081, -3.7783, -3.8849, -3.8978, -3.9032, -3.9122, -4.0307, -4.0387, -4.1124, -4.2065, -4.3298, -4.4554, -4.4926, -4.5422, -4.5984, -4.758, -4.7864, -4.8067, -4.8067, -4.8391, -4.9, -4.9097], \"loglift\": [30.0, 29.0, 28.0, 27.0, 26.0, 25.0, 24.0, 23.0, 22.0, 21.0, 20.0, 19.0, 18.0, 17.0, 16.0, 15.0, 14.0, 13.0, 12.0, 11.0, 10.0, 9.0, 8.0, 7.0, 6.0, 5.0, 4.0, 3.0, 2.0, 1.0, 1.9327, 1.9327, 1.9327, 1.9326, 1.9326, 1.9326, 1.9326, 1.9326, 1.9326, 1.9326, 1.9326, 1.9326, 1.9326, 1.9326, 1.9326, 1.9326, 1.9326, 1.9326, 1.9326, 1.9326, 1.9326, 1.9326, 1.9326, 1.9326, 1.9326, 1.9326, 1.9326, 1.9326, 1.9326, 1.9326, 2.83, 2.83, 2.83, 2.83, 2.83, 2.83, 2.83, 2.8299, 2.8299, 2.8299, 2.8299, 2.8299, 2.8299, 2.8299, 2.8299, 2.8299, 2.8299, 2.8298, 2.8298, 2.8298, 2.8298, 2.8298, 2.8298, 2.8297, 2.8297, 2.8297, 2.8297, 2.8297, 2.8297, 2.8297, 2.8591, 2.859, 2.859, 2.859, 2.859, 2.859, 2.859, 2.8589, 2.8589, 2.8589, 2.8589, 2.8589, 2.8589, 2.8589, 2.8588, 2.8588, 2.8588, 2.8588, 2.8588, 2.8588, 2.8587, 2.8587, 2.8587, 2.8587, 2.8587, 2.8587, 2.8586, 2.8586, 2.8586, 2.8586, 2.8693, 2.8693, 2.8693, 2.8693, 2.8693, 2.8693, 2.8693, 2.8693, 2.8693, 2.8692, 2.8692, 2.8692, 2.8692, 2.8692, 2.8691, 2.8691, 2.8691, 2.8691, 2.8691, 2.8691, 2.8691, 2.8691, 2.8691, 2.8691, 2.8691, 2.8691, 2.8691, 2.869, 2.869, 2.869, 2.9158, 2.9158, 2.9158, 2.9157, 2.9157, 2.9157, 2.9157, 2.9157, 2.9157, 2.9157, 2.9157, 2.9157, 2.9157, 2.9157, 2.9157, 2.9156, 2.9156, 2.9156, 2.9156, 2.9156, 2.9156, 2.9156, 2.9156, 2.9155, 2.9154, 2.9154, 2.9154, 2.9154, 2.9154, 2.9154, 3.0283, 3.0283, 3.0283, 3.0282, 3.0282, 3.0282, 3.0282, 3.0282, 3.0282, 3.0282, 3.0281, 3.0281, 3.0281, 3.0281, 3.0281, 3.0281, 3.0281, 3.028, 3.028, 3.028, 3.028, 3.028, 3.0279, 3.0279, 3.0279, 3.0279, 3.0279, 3.0278, 3.0278, 3.0278, 3.0322, 3.0322, 3.0322, 3.0322, 3.0321, 3.0321, 3.0321, 3.0321, 3.0321, 3.0321, 3.032, 3.032, 3.032, 3.032, 3.032, 3.032, 3.032, 3.032, 3.0319, 3.0319, 3.0319, 3.0319, 3.0318, 3.0318, 3.0318, 3.0318, 3.0317, 3.0316, 3.0316, 3.0316, 2.6124, 3.0792, 3.0792, 3.0792, 3.0792, 3.0791, 3.0791, 3.0791, 3.0791, 3.0791, 3.079, 3.079, 3.079, 3.079, 3.079, 3.079, 3.079, 3.0789, 3.0789, 3.0789, 3.0789, 3.0789, 3.0789, 3.0788, 3.0788, 3.0788, 3.0788, 3.0788, 3.0787, 3.0787, 3.0787, 3.1005, 3.1005, 3.1005, 3.1005, 3.1005, 3.1005, 3.1004, 3.1004, 3.1004, 3.1003, 3.1003, 3.1003, 3.1003, 3.1003, 3.1002, 3.1002, 3.1002, 3.1002, 3.1002, 3.1001, 3.1001, 3.1001, 3.1, 3.1, 3.1, 3.1, 3.1, 3.1, 3.1, 3.1, 3.1221, 3.1221, 3.122, 3.122, 3.122, 3.122, 3.1219, 3.1219, 3.1219, 3.1219, 3.1219, 3.1219, 3.1219, 3.1218, 3.1218, 3.1218, 3.1218, 3.1218, 3.1218, 3.1218, 3.1218, 3.1217, 3.1217, 3.1217, 3.1217, 3.1216, 3.1216, 3.1216, 3.1216, 3.1216, 3.1228, 3.1228, 3.1227, 3.1227, 3.1227, 3.1227, 3.1227, 3.1227, 3.1226, 3.1226, 3.1226, 3.1226, 3.1225, 3.1225, 3.1225, 3.1225, 3.1225, 3.1225, 3.1225, 3.1224, 3.1224, 3.1224, 3.1224, 3.1224, 3.1224, 3.1223, 3.1223, 3.1222, 3.1221, 3.1221, 3.1344, 3.1344, 3.1344, 3.1343, 3.1343, 3.1343, 3.1343, 3.1343, 3.1343, 3.1343, 3.1343, 3.1342, 3.1342, 3.1342, 3.1342, 3.1342, 3.1342, 3.1342, 3.1342, 3.1342, 3.1341, 3.1341, 3.1341, 3.1341, 3.1341, 3.1341, 3.1341, 3.134, 3.134, 3.134, 3.1995, 3.1995, 3.1994, 3.1994, 3.1994, 3.1994, 3.1994, 3.1994, 3.1994, 3.1994, 3.1994, 3.1994, 3.1994, 3.1993, 3.1993, 3.1992, 3.1992, 3.1992, 3.1992, 3.1992, 3.1992, 3.1992, 3.1992, 3.1992, 3.1991, 3.1991, 3.1991, 3.1991, 3.1991, 3.1991, 3.2261, 3.2261, 3.2261, 3.226, 3.226, 3.226, 3.226, 3.2259, 3.2259, 3.2259, 3.2259, 3.2259, 3.2259, 3.2258, 3.2258, 3.2258, 3.2258, 3.2258, 3.2258, 3.2258, 3.2258, 3.2258, 3.2258, 3.2257, 3.2257, 3.2257, 3.2256, 3.2255, 3.2255, 3.2255, 2.8336, 3.2306, 3.2306, 3.2306, 3.2306, 3.2306, 3.2306, 3.2305, 3.2305, 3.2305, 3.2305, 3.2304, 3.2304, 3.2304, 3.2304, 3.2304, 3.2303, 3.2303, 3.2303, 3.2303, 3.2303, 3.2303, 3.2302, 3.2302, 3.2302, 3.2302, 3.2302, 3.2302, 3.2302, 3.2302, 3.2302, 3.2401, 3.2401, 3.2401, 3.24, 3.24, 3.24, 3.24, 3.24, 3.24, 3.24, 3.2399, 3.2399, 3.2399, 3.2399, 3.2398, 3.2398, 3.2398, 3.2397, 3.2397, 3.2397, 3.2397, 3.2397, 3.2397, 3.2396, 3.2396, 3.2396, 3.2396, 3.2396, 3.2396, 3.2394, 3.2482, 3.2482, 3.2481, 3.2481, 3.2481, 3.2481, 3.248, 3.248, 3.248, 3.248, 3.248, 3.2479, 3.2479, 3.2479, 3.2479, 3.2479, 3.2479, 3.2479, 3.2478, 3.2478, 3.2477, 3.2477, 3.2477, 3.2477, 3.2477, 3.2477, 3.2477, 3.2476, 3.2476, 3.2476, 3.2581, 3.2581, 3.2581, 3.258, 3.258, 3.258, 3.258, 3.258, 3.2579, 3.2579, 3.2579, 3.2579, 3.2579, 3.2579, 3.2578, 3.2578, 3.2578, 3.2578, 3.2577, 3.2577, 3.2577, 3.2577, 3.2576, 3.2576, 3.2576, 3.2576, 3.2576, 3.2576, 3.2575, 3.2575, 3.267, 3.267, 3.267, 3.2669, 3.2669, 3.2669, 3.2669, 3.2669, 3.2668, 3.2668, 3.2668, 3.2668, 3.2668, 3.2668, 3.2668, 3.2668, 3.2667, 3.2667, 3.2667, 3.2667, 3.2667, 3.2667, 3.2667, 3.2667, 3.2667, 3.2666, 3.2666, 3.2666, 3.2666, 3.2666, 3.3759, 3.3759, 3.3759, 3.3759, 3.3759, 3.3759, 3.3759, 3.3759, 3.3759, 3.3758, 3.3758, 3.3758, 3.3758, 3.3758, 3.3757, 3.3757, 3.3757, 3.3757, 3.3756, 3.3756, 3.3756, 3.3755, 3.3755, 3.3754, 3.3754, 3.3754, 3.3754, 3.3754, 3.3753, 3.3753]}, \"token.table\": {\"Topic\": [14, 7, 4, 17, 4, 1, 4, 19, 19, 7, 5, 8, 7, 8, 13, 6, 14, 16, 8, 11, 11, 15, 14, 1, 14, 18, 14, 9, 17, 19, 3, 14, 4, 2, 10, 18, 9, 6, 10, 14, 13, 8, 9, 11, 16, 20, 16, 11, 18, 18, 4, 9, 16, 12, 7, 10, 3, 12, 15, 20, 15, 14, 15, 6, 20, 14, 4, 10, 15, 9, 2, 11, 5, 8, 3, 8, 1, 13, 19, 9, 16, 13, 10, 15, 15, 10, 16, 4, 9, 10, 15, 19, 8, 6, 18, 10, 9, 10, 17, 13, 14, 11, 7, 20, 6, 12, 2, 10, 2, 5, 9, 13, 7, 17, 17, 12, 7, 7, 11, 19, 8, 11, 9, 7, 17, 16, 15, 16, 4, 9, 3, 14, 14, 19, 2, 6, 14, 14, 16, 17, 20, 15, 6, 11, 7, 8, 14, 5, 8, 4, 2, 6, 12, 5, 3, 5, 2, 15, 13, 6, 17, 3, 14, 10, 8, 4, 12, 5, 7, 20, 18, 15, 5, 6, 6, 20, 6, 10, 7, 1, 20, 13, 19, 9, 17, 7, 12, 12, 12, 16, 10, 4, 12, 2, 6, 12, 11, 13, 18, 4, 1, 15, 20, 19, 18, 14, 15, 6, 6, 19, 8, 18, 6, 6, 16, 16, 1, 1, 4, 11, 14, 5, 16, 15, 13, 18, 20, 2, 17, 2, 18, 11, 1, 9, 5, 13, 9, 12, 15, 6, 10, 13, 17, 5, 20, 20, 2, 1, 2, 3, 4, 5, 6, 7, 8, 9, 10, 11, 12, 13, 14, 15, 16, 17, 18, 19, 20, 9, 12, 6, 4, 13, 10, 19, 9, 16, 5, 18, 13, 18, 20, 11, 5, 3, 7, 17, 16, 12, 11, 5, 3, 13, 10, 14, 7, 13, 5, 10, 14, 11, 9, 5, 3, 19, 11, 13, 12, 15, 4, 7, 2, 1, 18, 20, 9, 18, 17, 18, 6, 2, 19, 5, 12, 2, 8, 14, 7, 17, 9, 13, 4, 10, 17, 13, 16, 3, 5, 4, 16, 18, 11, 6, 8, 19, 11, 16, 20, 3, 3, 1, 11, 3, 3, 2, 3, 1, 19, 5, 15, 14, 11, 9, 4, 8, 3, 8, 10, 10, 13, 3, 12, 7, 4, 8, 10, 7, 1, 8, 13, 12, 8, 16, 20, 8, 10, 10, 4, 13, 9, 20, 14, 19, 7, 19, 20, 6, 7, 18, 19, 9, 20, 6, 5, 2, 1, 3, 17, 18, 6, 7, 8, 18, 2, 13, 3, 11, 3, 16, 15, 7, 4, 11, 20, 4, 1, 17, 2, 7, 16, 13, 10, 18, 1, 17, 19, 18, 19, 13, 10, 17, 18, 1, 1, 3, 19, 11, 5, 12, 7, 10, 17, 17, 8, 9, 2, 9, 3, 4, 12, 4, 4, 5, 9, 13, 13, 18, 4, 15, 6, 4, 10, 11, 19, 15, 2, 2, 1, 19, 3, 5, 20, 16, 13, 6, 2, 20, 17, 19, 5, 17, 19, 19, 11, 3, 1, 8, 7, 16, 4, 16, 11, 3, 16, 8, 8, 17, 20, 20, 7, 14, 14, 1, 2, 8, 2, 2, 15, 12, 18, 15, 3, 9, 17, 16, 11, 1, 7, 1, 7, 8, 14, 7, 1, 17, 5, 18, 6, 6, 1, 20, 2, 11, 17, 8, 14, 4, 8, 13, 15, 16, 15, 15, 20, 10, 3, 5, 20, 15, 10, 8, 14, 12, 1, 2, 7, 13, 14, 16, 17, 18, 9, 12, 3, 18, 12, 12, 1, 15, 2, 20, 3, 3, 5, 11, 2, 15, 9, 12, 12, 17, 5, 14, 14, 1, 19, 6, 2, 16, 11, 6, 18, 19, 12, 16, 1, 16, 20, 18, 9, 9, 20, 18, 5, 17, 12, 12, 19, 19, 17, 1, 5, 1, 10, 2, 15, 4, 13, 1], \"Freq\": [0.9996096641025015, 0.9995205668944945, 0.9997544169455492, 0.9995543921559636, 0.9994714915848505, 0.9999576494575758, 0.9995795968922354, 0.9995332254120322, 0.9998085325526397, 0.9998087614647516, 0.9998972082541061, 0.9997536154782423, 0.9997834935446399, 0.9995735662430256, 0.9998731369424204, 0.9993056588313304, 0.9999206226295022, 0.9997570355785569, 0.9997715730913542, 0.9997701779213528, 0.9997358723021194, 0.9995215520895174, 0.9996386022854798, 0.9999698857160692, 0.999789717153166, 0.9996307318624964, 0.999636089466991, 0.9999570099277668, 0.9998733997827423, 0.9999087955830667, 0.9996506164624419, 0.999848262825592, 0.999821618668088, 0.9999316985353256, 0.9998707655235344, 0.9997448083996545, 0.9993257222281907, 0.9997958262234159, 0.9997507874006509, 0.9997431843556849, 0.9993776197451715, 0.9998425390697727, 0.9997710776085015, 0.9999147694189896, 0.9998514905325179, 0.9998620242601646, 0.9998011264893814, 0.9994685857043198, 0.9992552223582272, 0.9990862822017793, 0.9999431870747701, 0.999831337897125, 0.9997146618057553, 0.9997158663345098, 0.9999267645337667, 0.9997162886900923, 0.9997728232874301, 0.9993375572137316, 0.9996448793078793, 0.999783087977539, 0.9992585647203945, 0.999344482882374, 0.9995473003369487, 0.9999849285643914, 0.999541774117528, 0.9994126017646895, 0.9999475931591595, 0.9994958135504981, 0.999617676322323, 0.9993217607208231, 0.9996296545679176, 0.9996590232911511, 0.999576601736576, 0.9996388251881434, 0.99993388458941, 0.9999558853613074, 0.9998903127477571, 0.9997051315722456, 0.9996721049667898, 0.9998751265416284, 0.9996887899605872, 0.9998996043710814, 0.9996525034641122, 0.9996494952928748, 0.9999130889908222, 0.9997825874779046, 0.9997378050856273, 0.9997673984363191, 0.9999549820334676, 0.999749875866837, 0.9995937795769072, 0.9997229270504385, 0.999846664997472, 0.9996155853957018, 0.9996921160967455, 0.9997642880444799, 0.9996701437915548, 0.9998647589136436, 0.9999507118686783, 0.999914432670761, 0.9997496552991578, 0.9996203218348695, 0.9998494579462184, 0.9995074716405221, 0.9994714296095333, 0.9994930108419368, 0.9996597797825308, 0.9995334874337578, 0.999886379554639, 0.9997910965635879, 0.9997157295595007, 0.999802038992236, 0.9992933061674387, 0.9998479639855614, 0.9996602822973564, 0.9998992405921071, 0.9999710280780018, 0.9998787164181601, 0.9995485115729378, 0.9996440626669317, 0.9999627665393475, 0.9991544571749433, 0.9994209574036509, 0.9998182676956301, 0.9996468561088747, 0.9995613712123913, 0.9998008199943298, 0.9998780370382583, 0.9998145882931443, 0.9992946581042148, 0.9997625148207286, 0.9994360435097644, 0.9997494805152519, 0.9994221019084402, 0.9997317812887727, 0.9999709429494512, 0.999774038879279, 0.9999678720854394, 0.9998515319592024, 0.9997136452722055, 0.9996246050302044, 0.9996939858870958, 0.9998600733874171, 0.999562986866629, 0.9996547523911623, 0.9998869104568434, 0.9998442789980312, 0.9999742797117054, 0.9997426488478284, 0.9996314064076054, 0.9999075070350368, 0.9998962600509625, 0.9998131396278697, 0.9999263261233222, 0.9998973760824569, 0.9999124186325016, 0.9995472698808995, 0.9994645796194708, 0.9994232608853958, 0.9998822846684724, 0.9995819296357945, 0.999707885260563, 0.9993745478270781, 0.999409305973376, 0.9995546220310945, 0.9995687636203485, 0.9997511955907373, 0.9996082340267182, 0.9994818534502431, 0.999546936590441, 0.9995217415245498, 0.9998542917723431, 0.9996136434471138, 0.9998362526225756, 0.9996914187897314, 0.9998550048129938, 0.9997908233005419, 0.9995331993724378, 0.9996240992432794, 0.999861137923385, 0.9994199917857569, 0.9994096312272096, 0.9995823001397721, 0.9995129740765756, 0.9998996338121815, 0.9996691749668846, 0.9997800648771038, 0.9995360321621296, 0.9997069742675265, 0.9995609242268987, 0.999903767177373, 0.9997458327230289, 0.9998564216590274, 0.9997554893519062, 0.9998608591166642, 0.9998588502010447, 0.9996477656575943, 0.9997158529007188, 0.9996088355148501, 0.9998678756327409, 0.9999595905905547, 0.9997644071633124, 0.999723781711125, 0.9997179182011708, 0.9995672535809126, 0.9993965607063834, 0.9996022557303277, 0.9995913949831489, 0.9998532635846638, 0.9995929354362966, 0.9994427830943245, 0.999367147651167, 0.999479765750427, 0.9995866353345907, 0.9993893764087297, 0.9999565652508698, 0.9998800686856495, 0.9999413992805741, 0.9999060886661548, 0.9997457413408407, 0.9995137722108166, 0.9997202848646821, 0.9998957050950438, 0.9998298126594605, 0.9998789131194785, 0.9998081390231659, 0.9991781427651121, 0.9998544682877933, 0.9995919917562974, 0.9996521345350124, 0.999351730151103, 0.9997174920313172, 0.9999338976433558, 0.9996930392541057, 0.999919731964879, 0.999727957107353, 0.9991480770658018, 0.9996931686328084, 0.9999319373173604, 0.9997567474772123, 0.999823016054557, 0.9998946281925942, 0.9998256073565216, 0.9998438852501969, 0.9992214053901904, 0.9992348291808668, 0.9998549946234375, 0.10344203266547719, 0.07704892822108199, 0.003787351310406488, 0.004379124952657501, 0.008994959362215409, 0.014557631599374937, 0.6571054523555256, 0.0216589153063871, 0.012308891758821085, 0.005799381694059934, 0.00946837827601622, 0.007219638435462367, 0.03964883403081792, 0.006154445879410542, 0.011717118116570072, 0.005799381694059934, 0.000946837827601622, 0.005325962780259123, 0.002130385112103649, 0.002367094569004055, 0.9994869101193415, 0.999725217434319, 0.9998317975840317, 0.9998772696715408, 0.9994659051652189, 0.9997732291678306, 0.9997603409981988, 0.9996028280463678, 0.9996415278397078, 0.9998653444962508, 0.9999511714507524, 0.9995073268711743, 0.9999353986557062, 0.9998219621015458, 0.9998219192826343, 0.9998704506645737, 0.9995498984852625, 0.9999611619745973, 0.9998853540965873, 0.9991794839434663, 0.9998954819166174, 0.9998285246943951, 0.9998864761421097, 0.9999167787303699, 0.9999206498478438, 0.9996876647503827, 0.9997482173654264, 0.9999407568881578, 0.9995189875926267, 0.9996429024396968, 0.9994893137380519, 0.9998568055472763, 0.999842272392173, 0.9996719057352806, 0.9997723823051409, 0.9995426151796909, 0.9998517473300454, 0.9995051870387217, 0.9996170521705163, 0.9997254641115164, 0.9994945132190193, 0.9998323599812936, 0.9995704147704688, 0.9998676086970343, 0.9998264429627639, 0.9996894481495525, 0.9994981012675688, 0.9999530130524589, 0.9997835861186141, 0.9997132525815587, 0.9993749911367729, 0.9999495877732958, 0.9998390020365007, 0.9999474320405357, 0.9993759790287948, 0.9996837831748563, 0.999460758934715, 0.9998385101295314, 0.9995806553440745, 0.999786117428923, 0.9997376828690411, 0.999607407756004, 0.9999507877426889, 0.9999264218209226, 0.999895378010101, 0.9998212805363353, 0.9997192317247137, 0.9994678136190709, 0.9999520482743333, 0.9998232924353034, 0.9998701292055342, 0.9996301296937566, 0.9996635385646941, 0.9999087445243052, 0.9997628877062075, 0.9996375495742971, 0.9997529702685186, 0.99970697798197, 0.999908245554296, 0.9999222952164051, 0.9997069016712988, 0.9999653293246145, 0.9998237142476118, 0.9993604156054668, 0.9998160602917481, 0.9999090385782564, 0.9999322123644626, 0.9999857653573229, 0.99995098182155, 0.9996160423248389, 0.9998540649989492, 0.9997567579028961, 0.9998101554635955, 0.9999317410929772, 0.9996312873733257, 0.9998005635388151, 0.9998778599408944, 0.9995747352283025, 0.9996607992489474, 0.999937144961283, 0.9993333898505582, 0.9996949462816453, 0.9997328320338277, 0.9995893186650071, 0.9996681881293809, 0.9997321369367154, 0.999937354237055, 0.9999158962507712, 0.9998994367537236, 0.9999173183689647, 0.9994007753387507, 0.9996200360591413, 0.9993577550119105, 0.9998591753761662, 0.999948605337544, 0.9991744746477459, 0.9998638267197353, 0.9996017007214488, 0.9995636910665538, 0.9998279760677692, 0.9999002472881002, 0.9998065769106463, 0.9995216260247671, 0.9996700338136831, 0.9995881198592936, 0.9994419612463832, 0.9998254286851858, 0.9998111147319034, 0.9995184854317131, 0.9998009023035068, 0.9992999121803359, 0.9998091044267893, 0.9996982321420078, 0.999710172901455, 0.9998042225871092, 0.9998836009321178, 0.9998470740450699, 0.9998866575829, 0.9998873318154641, 0.9995263012950941, 0.9994368576517523, 0.9997310256159174, 0.9998116283644428, 0.9996696548780126, 0.9995437304025228, 0.9999232490504636, 0.9996265274828933, 0.9999187913250029, 0.9997300436238404, 0.9995505613759803, 0.9995060847305762, 0.9998465918308225, 0.999807951200236, 0.9997696519609103, 0.9996724302695057, 0.9997621456997612, 0.9997772451549146, 0.9999375087273022, 0.9998697758442657, 0.9996893408989842, 0.9992152495894273, 0.9996299628196184, 0.9998331624061896, 0.9993545341603964, 0.9999181732275924, 0.9998411995290036, 0.9992511155874866, 0.9998211013272903, 0.9994872530601872, 0.9997953363172918, 0.9993961581028411, 0.9999189038522279, 0.9994622697773813, 0.9993968078559895, 0.9999295827011069, 0.9999739025654306, 0.999693890654599, 0.9995895392944882, 0.9995893038183662, 0.999562862162829, 0.9995240074896967, 0.9996567196354003, 0.9998501607880984, 0.9999371368997738, 0.9996250085602435, 0.9998441489266257, 0.9999421709453385, 0.9995053402155218, 0.9999212015568771, 0.9997810035558918, 0.9996699413369673, 0.9998597866604413, 0.9997976695234108, 0.9996767151301563, 0.9995780085114441, 0.9998230384997553, 0.9996004387245168, 0.9999191383212879, 0.9997641967214755, 0.9998068985852041, 0.9997398959865837, 0.9996421846197969, 0.9997342801794035, 0.9996433310790188, 0.9997328413064248, 0.9999294476873787, 0.9998399229511321, 0.9995593848508715, 0.9997089917062245, 0.9999696066097676, 0.9996163565342467, 0.9997112400934779, 0.9997986022432781, 0.999906808492214, 0.9998250051426171, 0.9995401153245848, 0.9998170717955911, 0.9998858365543275, 0.9991317445262712, 0.9996149403872744, 0.9998128583120311, 0.9999890401676493, 0.9998974618905332, 0.9998889395144893, 0.9994843098954741, 0.9997062516737464, 0.9998572372462686, 0.9999517900200873, 0.999678661975037, 0.9998188716548411, 0.9995930452323701, 0.9999562604895086, 0.9989399053654888, 0.9999546652133741, 0.9998458121387146, 0.9995819551808979, 0.9993966610859062, 0.9998812520546297, 0.9997105587604019, 0.9996182691829214, 0.9997179811231282, 0.9997634077973102, 0.9998945239019684, 0.9993744455957797, 0.9999381557214099, 0.9996602003122005, 0.9996030738935149, 0.9997997491397801, 0.9995887256114364, 0.9998342188969582, 0.999408281474418, 0.9996771027186142, 0.9998486788525877, 0.9996561192335208, 0.9998551931527215, 0.999702475301412, 0.999612749058045, 0.9999739899195677, 0.9999448402180009, 0.9998337439581443, 0.9999062116234279, 0.9997296256835047, 0.9995211416743265, 0.9994413869249148, 0.9998412451348957, 0.9998845092036941, 0.9993898478663958, 0.9997535076119235, 0.9997275703495623, 0.9993624743766184, 0.9996962193838498, 0.9998747561119161, 0.9998482117395264, 0.9997188034776776, 0.999899599716344, 0.9999187663784816, 0.9993878346654922, 0.9998613021746098, 0.9999520382306182, 0.9997931605164138, 0.9995795557841065, 0.9995187536221704, 0.9997538606613686, 0.9995201636173789, 0.9997824616363993, 0.9995456962717518, 0.9996978335965175, 0.9997064512590834, 0.9997716477077255, 0.9999227771213649, 0.9993424323233955, 0.9998180392625221, 0.9998330484382503, 0.9999777746479996, 0.9998139757668977, 0.0017928229108199402, 0.00806770309868973, 0.0035856458216398804, 0.05871495032935304, 0.6754460316514125, 0.0389938983103337, 0.022410286385249254, 0.19048743427461864, 0.9998878419200387, 0.999688097109721, 0.9998718133358008, 0.9997280393943015, 0.9997824487823098, 0.9998425587767563, 0.999940533914518, 0.9997287203271318, 0.9998411787955834, 0.9998563565764685, 0.999647670348139, 0.9999147206014468, 0.99981880357833, 0.9998859515664357, 0.9998574709013388, 0.9998199117010992, 0.9993281441316939, 0.9999157328388493, 0.9998210465927362, 0.9995742425498391, 0.9995298106172973, 0.999499405237529, 0.9998620447445412, 0.9999027115083559, 0.9997672898803902, 0.9997225905970263, 0.9998138052818025, 0.9998475554076256, 0.9992662405148129, 0.9995730271385866, 0.9996346717053365, 0.9998469541386932, 0.9999433880948803, 0.99976902254131, 0.9998733144352379, 0.9996207426714137, 0.9998412510109682, 0.9997284766632063, 0.9999518697961017, 0.9992718971377614, 0.9998908951188696, 0.9999506405515812, 0.9999275600766825, 0.9995822612746168, 0.9997680334338365, 0.9998013680619509, 0.9995889123020691, 0.9992778554255184, 0.9992961166613357, 0.9998751710862992, 0.9995297524180142, 0.9999343125865965, 0.9999201450538258, 0.9999178413164739, 0.9994819423480354, 0.9998602021477953, 0.9996290174477976, 0.9999185403246165], \"Term\": [\"ability\", \"able\", \"academic\", \"access\", \"accord\", \"account\", \"achieve\", \"acquisition\", \"activity\", \"actor\", \"ad\", \"add\", \"addition\", \"additional\", \"address\", \"advantage\", \"advertising\", \"aear\", \"aeare\", \"affect\", \"alication\", \"alie\", \"alpha\", \"also\", \"alternative\", \"american\", \"analyse\", \"analysis\", \"analyze\", \"area\", \"argue\", \"aroach\", \"aroache\", \"article\", \"aspect\", \"assessment\", \"assign\", \"association\", \"assume\", \"assumption\", \"attempt\", \"attention\", \"attitude\", \"attribute\", \"author\", \"available\", \"average\", \"avoid\", \"awareness\", \"balance\", \"base\", \"basis\", \"beca\", \"become\", \"behavior\", \"behavioral\", \"behaviour\", \"behavioural\", \"believe\", \"benefit\", \"better\", \"big\", \"bond\", \"brand\", \"broad\", \"build\", \"business\", \"buyer\", \"ca\", \"calculate\", \"call\", \"candidate\", \"capability\", \"capture\", \"case\", \"category\", \"cent\", \"certain\", \"challenge\", \"change\", \"characteristic\", \"choice\", \"choose\", \"class\", \"classification\", \"classify\", \"clear\", \"cluster\", \"code\", \"cognitive\", \"collaboration\", \"collection\", \"com\", \"combination\", \"come\", \"comment\", \"common\", \"communication\", \"company\", \"compare\", \"comparison\", \"complete\", \"compnt\", \"comprehensive\", \"compromise\", \"computer\", \"concern\", \"conclusion\", \"condition\", \"conduct\", \"conjoint\", \"consider\", \"consideration\", \"consistent\", \"constraint\", \"construct\", \"consumer\", \"consumption\", \"contact\", \"contain\", \"content\", \"conventional\", \"cope\", \"corporate\", \"correlation\", \"correspond\", \"cost\", \"could\", \"create\", \"criterion\", \"critical\", \"cross\", \"cultural\", \"culture\", \"current\", \"customer\", \"database\", \"datum\", \"decision\", \"decrease\", \"define\", \"definition\", \"demand\", \"demonstrate\", \"derive\", \"describe\", \"descriptor\", \"design\", \"detail\", \"determine\", \"develop\", \"development\", \"differ\", \"difference\", \"different\", \"dimension\", \"direct\", \"directly\", \"discrete\", \"discriminant\", \"display\", \"distribution\", \"document\", \"domain\", \"draw\", \"drive\", \"due\", \"dynamic\", \"economic\", \"editorial\", \"education\", \"effect\", \"effective\", \"effort\", \"election\", \"element\", \"emerge\", \"emotion\", \"emotional\", \"empirical\", \"employ\", \"employee\", \"enable\", \"engage\", \"engagement\", \"engine\", \"environment\", \"error\", \"especially\", \"establish\", \"estimate\", \"evaluate\", \"evaluation\", \"even\", \"examine\", \"example\", \"exchange\", \"exist\", \"expand\", \"expect\", \"experience\", \"explore\", \"express\", \"extend\", \"extent\", \"external\", \"extract\", \"fact\", \"factor\", \"failure\", \"family\", \"feature\", \"fig\", \"finally\", \"financial\", \"find\", \"finding\", \"firm\", \"first\", \"fit\", \"foc\", \"focal\", \"focus\", \"follow\", \"food\", \"form\", \"formal\", \"framework\", \"frequency\", \"frequently\", \"ful\", \"full\", \"function\", \"furthermore\", \"future\", \"general\", \"generally\", \"get\", \"give\", \"global\", \"go\", \"good\", \"great\", \"group\", \"guide\", \"half\", \"health\", \"healthful\", \"healthful\", \"healthful\", \"healthful\", \"healthful\", \"healthful\", \"healthful\", \"healthful\", \"healthful\", \"healthful\", \"healthful\", \"healthful\", \"healthful\", \"healthful\", \"healthful\", \"healthful\", \"healthful\", \"healthful\", \"healthful\", \"healthful\", \"healthy\", \"help\", \"heterogeneity\", \"high\", \"highly\", \"hit\", \"hohold\", \"hold\", \"homogeneous\", \"however\", \"identify\", \"identity\", \"image\", \"impact\", \"implication\", \"important\", \"improve\", \"include\", \"increase\", \"independent\", \"index\", \"indicate\", \"individual\", \"industrial\", \"industry\", \"influence\", \"informant\", \"information\", \"initial\", \"insight\", \"instance\", \"integrate\", \"integration\", \"intention\", \"interaction\", \"interactive\", \"interest\", \"international\", \"internet\", \"interview\", \"investigate\", \"involve\", \"involvement\", \"issue\", \"item\", \"job\", \"joint\", \"journal\", \"judge\", \"judgment\", \"keep\", \"key\", \"know\", \"knowledge\", \"label\", \"lack\", \"language\", \"large\", \"last\", \"law\", \"lead\", \"least\", \"less\", \"level\", \"like\", \"likely\", \"limit\", \"limited\", \"line\", \"list\", \"literature\", \"longitudinal\", \"look\", \"low\", \"loyalty\", \"main\", \"maintain\", \"major\", \"make\", \"mall\", \"manage\", \"management\", \"manager\", \"managerial\", \"manufacturer\", \"many\", \"market\", \"marketing\", \"may\", \"meaning\", \"measure\", \"measurement\", \"mechanism\", \"medium\", \"meet\", \"message\", \"method\", \"methodology\", \"mixture\", \"model\", \"motivation\", \"much\", \"multiple\", \"must\", \"name\", \"nature\", \"need\", \"negative\", \"network\", \"new\", \"next\", \"non\", \"normal\", \"note\", \"number\", \"object\", \"objective\", \"obtain\", \"occur\", \"offer\", \"often\", \"online\", \"oortunitie\", \"open\", \"operation\", \"opinion\", \"optimal\", \"optimization\", \"option\", \"organizational\", \"orient\", \"orientation\", \"original\", \"other\", \"outcome\", \"overall\", \"page\", \"paper\", \"part\", \"partner\", \"partnership\", \"pattern\", \"perceive\", \"percent\", \"percentage\", \"perception\", \"perform\", \"performance\", \"period\", \"personal\", \"personality\", \"perspective\", \"place\", \"plan\", \"political\", \"position\", \"positioning\", \"positive\", \"post\", \"potential\", \"potentially\", \"power\", \"practice\", \"predict\", \"preference\", \"present\", \"press\", \"previous\", \"primary\", \"prior\", \"probability\", \"problem\", \"procedure\", \"proceeding\", \"process\", \"product\", \"professional\", \"profile\", \"profit\", \"program\", \"project\", \"promotion\", \"propose\", \"provide\", \"public\", \"publish\", \"purchase\", \"purpose\", \"qualitative\", \"quality\", \"quantitative\", \"question\", \"quotation\", \"range\", \"rate\", \"rather\", \"ratio\", \"reason\", \"receive\", \"recent\", \"reduce\", \"reference\", \"referral\", \"reflect\", \"regard\", \"relate\", \"related\", \"relation\", \"relational\", \"relationship\", \"relative\", \"relatively\", \"relevant\", \"reliability\", \"reliable\", \"remain\", \"report\", \"represent\", \"representation\", \"representative\", \"require\", \"research\", \"researcher\", \"resource\", \"respect\", \"respondent\", \"response\", \"result\", \"retail\", \"retailing\", \"retweet\", \"review\", \"risk\", \"sale\", \"sample\", \"satisfaction\", \"say\", \"scale\", \"science\", \"scientific\", \"score\", \"search\", \"second\", \"secondary\", \"see\", \"seek\", \"seem\", \"segment\", \"segmentation\", \"select\", \"selection\", \"self\", \"sell\", \"selling\", \"semantic\", \"senior\", \"sentiment\", \"service\", \"set\", \"several\", \"share\", \"sharing\", \"shie\", \"shoe\", \"shoing\", \"show\", \"sign\", \"significant\", \"similar\", \"simple\", \"single\", \"site\", \"size\", \"small\", \"social\", \"solution\", \"solve\", \"source\", \"specific\", \"specifically\", \"specification\", \"stakeholder\", \"standard\", \"start\", \"statement\", \"status\", \"step\", \"store\", \"strategic\", \"strategy\", \"strength\", \"strong\", \"structure\", \"study\", \"sub\", \"subsystem\", \"subsystem\", \"subsystem\", \"subsystem\", \"subsystem\", \"subsystem\", \"subsystem\", \"subsystem\", \"suggest\", \"suli\", \"sulier\", \"suort\", \"survey\", \"system\", \"table\", \"tag\", \"take\", \"target\", \"task\", \"technique\", \"technology\", \"term\", \"test\", \"text\", \"theme\", \"theoretical\", \"theory\", \"thing\", \"think\", \"third\", \"thus\", \"time\", \"tion\", \"top\", \"topic\", \"total\", \"traditional\", \"trend\", \"trip\", \"trust\", \"tweet\", \"twitter\", \"type\", \"typically\", \"understand\", \"unit\", \"use\", \"utility\", \"validity\", \"value\", \"variable\", \"variety\", \"various\", \"view\", \"violation\", \"visual\", \"volume\", \"web\", \"weight\", \"well\", \"word\", \"work\", \"world\", \"would\", \"write\", \"year\"]}, \"R\": 30, \"lambda.step\": 0.01, \"plot.opts\": {\"xlab\": \"PC1\", \"ylab\": \"PC2\"}, \"topic.order\": [10, 14, 13, 17, 8, 6, 16, 5, 18, 1, 11, 12, 20, 9, 4, 15, 2, 19, 3, 7]};\n",
              "\n",
              "function LDAvis_load_lib(url, callback){\n",
              "  var s = document.createElement('script');\n",
              "  s.src = url;\n",
              "  s.async = true;\n",
              "  s.onreadystatechange = s.onload = callback;\n",
              "  s.onerror = function(){console.warn(\"failed to load library \" + url);};\n",
              "  document.getElementsByTagName(\"head\")[0].appendChild(s);\n",
              "}\n",
              "\n",
              "if(typeof(LDAvis) !== \"undefined\"){\n",
              "   // already loaded: just create the visualization\n",
              "   !function(LDAvis){\n",
              "       new LDAvis(\"#\" + \"ldavis_el621407118573434401614316444\", ldavis_el621407118573434401614316444_data);\n",
              "   }(LDAvis);\n",
              "}else if(typeof define === \"function\" && define.amd){\n",
              "   // require.js is available: use it to load d3/LDAvis\n",
              "   require.config({paths: {d3: \"https://d3js.org/d3.v5\"}});\n",
              "   require([\"d3\"], function(d3){\n",
              "      window.d3 = d3;\n",
              "      LDAvis_load_lib(\"https://cdn.jsdelivr.net/gh/bmabey/pyLDAvis@3.3.1/pyLDAvis/js/ldavis.v3.0.0.js\", function(){\n",
              "        new LDAvis(\"#\" + \"ldavis_el621407118573434401614316444\", ldavis_el621407118573434401614316444_data);\n",
              "      });\n",
              "    });\n",
              "}else{\n",
              "    // require.js not available: dynamically load d3 & LDAvis\n",
              "    LDAvis_load_lib(\"https://d3js.org/d3.v5.js\", function(){\n",
              "         LDAvis_load_lib(\"https://cdn.jsdelivr.net/gh/bmabey/pyLDAvis@3.3.1/pyLDAvis/js/ldavis.v3.0.0.js\", function(){\n",
              "                 new LDAvis(\"#\" + \"ldavis_el621407118573434401614316444\", ldavis_el621407118573434401614316444_data);\n",
              "            })\n",
              "         });\n",
              "}\n",
              "</script>"
            ]
          },
          "metadata": {},
          "execution_count": 52
        }
      ]
    },
    {
      "cell_type": "code",
      "source": [
        "# Building LDA Mallet Model\n",
        "# Download File: http://mallet.cs.umass.edu/dist/mallet-2.0.8.zip\n",
        "mallet_path = '/content/drive/MyDrive/mallet-2.0.8' # update this path\n",
        "ldamallet = gensim.models.wrappers.LdaMallet(mallet_path, corpus=corpus, num_topics=20, id2word=id2word)"
      ],
      "metadata": {
        "colab": {
          "base_uri": "https://localhost:8080/",
          "height": 218
        },
        "id": "bZ8ja1x4EDR0",
        "outputId": "5a6a9f61-86d5-460a-b6f2-0bb9a745e60a"
      },
      "execution_count": 11,
      "outputs": [
        {
          "output_type": "error",
          "ename": "NameError",
          "evalue": "ignored",
          "traceback": [
            "\u001b[0;31m---------------------------------------------------------------------------\u001b[0m",
            "\u001b[0;31mNameError\u001b[0m                                 Traceback (most recent call last)",
            "\u001b[0;32m<ipython-input-11-5b457cc94174>\u001b[0m in \u001b[0;36m<module>\u001b[0;34m()\u001b[0m\n\u001b[1;32m      2\u001b[0m \u001b[0;31m# Download File: http://mallet.cs.umass.edu/dist/mallet-2.0.8.zip\u001b[0m\u001b[0;34m\u001b[0m\u001b[0;34m\u001b[0m\u001b[0;34m\u001b[0m\u001b[0m\n\u001b[1;32m      3\u001b[0m \u001b[0mmallet_path\u001b[0m \u001b[0;34m=\u001b[0m \u001b[0;34m'/content/drive/MyDrive/mallet-2.0.8'\u001b[0m \u001b[0;31m# update this path\u001b[0m\u001b[0;34m\u001b[0m\u001b[0;34m\u001b[0m\u001b[0m\n\u001b[0;32m----> 4\u001b[0;31m \u001b[0mldamallet\u001b[0m \u001b[0;34m=\u001b[0m \u001b[0mgensim\u001b[0m\u001b[0;34m.\u001b[0m\u001b[0mmodels\u001b[0m\u001b[0;34m.\u001b[0m\u001b[0mwrappers\u001b[0m\u001b[0;34m.\u001b[0m\u001b[0mLdaMallet\u001b[0m\u001b[0;34m(\u001b[0m\u001b[0mmallet_path\u001b[0m\u001b[0;34m,\u001b[0m \u001b[0mcorpus\u001b[0m\u001b[0;34m=\u001b[0m\u001b[0mcorpus\u001b[0m\u001b[0;34m,\u001b[0m \u001b[0mnum_topics\u001b[0m\u001b[0;34m=\u001b[0m\u001b[0;36m20\u001b[0m\u001b[0;34m,\u001b[0m \u001b[0mid2word\u001b[0m\u001b[0;34m=\u001b[0m\u001b[0mid2word\u001b[0m\u001b[0;34m)\u001b[0m\u001b[0;34m\u001b[0m\u001b[0;34m\u001b[0m\u001b[0m\n\u001b[0m",
            "\u001b[0;31mNameError\u001b[0m: name 'corpus' is not defined"
          ]
        }
      ]
    },
    {
      "cell_type": "code",
      "source": [
        ""
      ],
      "metadata": {
        "id": "IRe-FCtwEZ3E"
      },
      "execution_count": null,
      "outputs": []
    }
  ]
}