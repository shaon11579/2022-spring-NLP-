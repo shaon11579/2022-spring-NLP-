{
  "nbformat": 4,
  "nbformat_minor": 0,
  "metadata": {
    "colab": {
      "name": "Untitled42.ipynb",
      "provenance": [],
      "authorship_tag": "ABX9TyPgi2Sft7UUscElCAUlPwPH",
      "include_colab_link": true
    },
    "kernelspec": {
      "name": "python3",
      "display_name": "Python 3"
    },
    "language_info": {
      "name": "python"
    }
  },
  "cells": [
    {
      "cell_type": "markdown",
      "metadata": {
        "id": "view-in-github",
        "colab_type": "text"
      },
      "source": [
        "<a href=\"https://colab.research.google.com/github/shaon11579/2022-spring-NLP-/blob/main/A5_Hasan.ipynb\" target=\"_parent\"><img src=\"https://colab.research.google.com/assets/colab-badge.svg\" alt=\"Open In Colab\"/></a>"
      ]
    },
    {
      "cell_type": "code",
      "execution_count": 1,
      "metadata": {
        "id": "5j3La6sgjR_G"
      },
      "outputs": [],
      "source": [
        "import string\n",
        "import numpy as np\n",
        "from collections import Counter\n",
        "import matplotlib.pyplot as plt\n",
        "import nltk\n",
        "from pprint import pprint"
      ]
    },
    {
      "cell_type": "code",
      "source": [
        "def check_for_punc(x):\n",
        "    temp  = True\n",
        "    for c in x:\n",
        "        if c != \" \":\n",
        "            temp = np.logical_and(temp,c in string.punctuation)\n",
        "    if temp:\n",
        "        return False\n",
        "    return True\n",
        "\n",
        "def generate_clean_file(input,output):\n",
        "    file = open(input)\n",
        "    lines = list(map(lambda x:x.split('('),file.readlines()))\n",
        "    lines = list(filter(lambda x: len(x)>1,lines))\n",
        "    lines = list(map(lambda x:x[-1].split(')')[0],lines))\n",
        "    lines = list(filter(lambda x:x.split()[0]!= '-NONE-',lines))\n",
        "    lines = list(filter(lambda x:check_for_punc(x),lines))\n",
        "    lines = list(filter(lambda x: x.find('-LRB-') == -1,lines))\n",
        "    lines = list(filter(lambda x: x.find('-RRB-') == -1,lines))\n",
        "    ind = np.array([i for i in range(len(lines)) if lines[i].find('TOP END_OF_TEXT_UNIT') != -1])\n",
        "    lines = np.array(lines)\n",
        "\n",
        "    sentences = []\n",
        "    for i in range(len(ind)-1):\n",
        "        sentences.append(\" \".join(lines[ind[i]+1:ind[i+1]]))\n",
        "    sentences.append(\" \".join(lines[ind[-1]+1:]))\n",
        "    out  = open(output,\"w\")\n",
        "    for line in sentences:\n",
        "        if len(line)>0:\n",
        "            out.write(line)\n",
        "            out.write('\\n')\n"
      ],
      "metadata": {
        "id": "Ybtygklijf36"
      },
      "execution_count": 7,
      "outputs": []
    },
    {
      "cell_type": "code",
      "source": [
        "inputfiles = '/content/SnapshotBROWN.pos.all.txt'\n",
        "outputfiles = 'SnapshotBROWN-clean.pos-all.txt'"
      ],
      "metadata": {
        "id": "Vi_Vmz8Hj6mc"
      },
      "execution_count": 4,
      "outputs": []
    },
    {
      "cell_type": "code",
      "source": [
        "\n",
        "\n",
        "def get_words(outputfiles):\n",
        "    file = open(outputfiles)\n",
        "    lines = (\" \".join(list(map(lambda x:x.split(\"\\n\")[0],file.readlines())))).split(\" \")\n",
        "    lines = list(filter(lambda x:x!='',lines))\n",
        "    return lines\n"
      ],
      "metadata": {
        "id": "rp9eim96jpqO"
      },
      "execution_count": 8,
      "outputs": []
    },
    {
      "cell_type": "code",
      "source": [
        "def get_hash_of_word_pos(lines):\n",
        "    tuple_collection = [(lines[k],lines[k+1]) for k in range(0,len(lines)-1,2)]\n",
        "    temp = Counter(tuple_collection)\n",
        "    first_dict = {}\n",
        "    for key in temp.keys():\n",
        "        if key[0] not in first_dict.keys():\n",
        "            first_dict[key[0]] = {key[1]:temp[key]}\n",
        "        else:\n",
        "            first_dict[key[0]].update({key[1]:temp[key]})\n",
        "    return first_dict\n",
        "\n",
        "def report_20_most_frequent_from_brown(lines):\n",
        "    tuple_collection = [(lines[k],lines[k+1]) for k in range(0,len(lines)-1,2)]\n",
        "    temp = Counter(tuple_collection)\n",
        "    first_dict = {}\n",
        "    for key in temp.keys():\n",
        "        if key[0] not in first_dict.keys():\n",
        "            first_dict[key[0]] = {key[1]:temp[key]}\n",
        "        else:\n",
        "            first_dict[key[0]].update({key[1]:temp[key]})\n",
        "    hash_of_pos = first_dict\n",
        "    freq = {}\n",
        "    for key in hash_of_pos:\n",
        "        freq[key] = sum([int(hash_of_pos[key][key1]) for key1 in hash_of_pos[key].keys()])\n",
        "    print('The twenty most frequent tags are')\n",
        "    for u,v in Counter(freq).most_common(20):\n",
        "        print(u,v)"
      ],
      "metadata": {
        "id": "Qe0jdZM-kMLG"
      },
      "execution_count": 9,
      "outputs": []
    },
    {
      "cell_type": "code",
      "source": [
        "def get_accuracy(lines,hash_of_word_pos):\n",
        "    tags = [lines[i] for i in range(0,len(lines)-1,2)]\n",
        "    words = [lines[i+1] for i in range(0,len(lines)-1,2)]\n",
        "    most_freq = []\n",
        "    match = 0\n",
        "    for i,word in enumerate(words):\n",
        "        most_freq.append(Counter(hash_of_word_pos[word]).most_common(1)[0][0])\n",
        "    for k in range(len(most_freq)):\n",
        "        if most_freq[k] == tags[k]:\n",
        "            match+=1\n",
        "    print(match,len(most_freq),\"Accuracy is \",100*match/len(most_freq),'%')\n",
        "\n",
        "def show_bar_plot(words_dict):\n",
        "    names = (u for u,v in words_dict)\n",
        "    values = [v for u,v in words_dict]\n",
        "    ind = np.arange(len(values))\n",
        "\n",
        "    fig, axs = plt.subplots(figsize=(9, 3))\n",
        "    axs.bar(ind, values)\n",
        "    plt.xticks(ind,names)\n",
        "    plt.title(\"Bar plot showing the relationship of word against their frequencies\")\n",
        "    plt.show()"
      ],
      "metadata": {
        "id": "SwcWM4hOkN7Q"
      },
      "execution_count": 10,
      "outputs": []
    },
    {
      "cell_type": "code",
      "source": [
        "def normal_bigram(text,bigrm_dict):\n",
        "    matrix = np.array([[0 for k in range(len(text.split())+1)] for i in range(len(text.split())+1)],dtype=object)\n",
        "    matrix[1:,0] = text.split()\n",
        "    matrix[0,1:] = text.split()\n",
        "    for i in range(1,len(text.split())+1,1):\n",
        "        for j in range(1,len(text.split())+1,1):\n",
        "            tuple = (text.split()[i-1].strip().lower(),text.split()[j-1].strip().lower())\n",
        "            matrix[i,j] = bigrm_dict[tuple]\n",
        "\n",
        "    for i in range(np.shape(matrix)[0]):\n",
        "        for j in range(np.shape(matrix)[1]):\n",
        "            if i==0 and j==0:\n",
        "                print(matrix[i,j],' '*19,end=\"\")\n",
        "            elif i==0 or j==0:\n",
        "                print(matrix[i,j],' '*(20-len(matrix[i,j])),end=\"\")\n",
        "            else:\n",
        "                print(matrix[i,j],' '*19,end=\"\")\n",
        "        print()\n"
      ],
      "metadata": {
        "id": "YQnHSFylkRyO"
      },
      "execution_count": 11,
      "outputs": []
    },
    {
      "cell_type": "code",
      "source": [
        "def add_one_smoothed_bigram_probabilities(text,words_dict,bigrm_dict,unigram_dict):\n",
        "    vocab_size = len(list(words_dict.keys()))\n",
        "    matrix = np.array([[0 for k in range(len(text.split())+1)] for i in range(len(text.split())+1)],dtype=object)\n",
        "    matrix[1:,0] = text.split()\n",
        "    matrix[0,1:] = text.split()\n",
        "    for i in range(1,len(text.split())+1,1):\n",
        "        for j in range(1,len(text.split())+1,1):\n",
        "            tuple = (text.split()[i-1].strip().lower(),text.split()[j-1].strip().lower())\n",
        "            matrix[i,j] = ((bigrm_dict[tuple]+1)/(unigram_dict[tuple[0]]+vocab_size))*unigram_dict[tuple[0]]\n",
        "            matrix[i,j] = \"%.5f\" % round(matrix[i,j],5)\n",
        "    for i in range(np.shape(matrix)[0]):\n",
        "        for j in range(np.shape(matrix)[1]):\n",
        "            if i==0 and j==0:\n",
        "                print(matrix[i,j],' '*19,end=\"\")\n",
        "            elif i==0 or j==0:\n",
        "                print(matrix[i,j],' '*(20-len(matrix[i,j])),end=\"\")\n",
        "            else:\n",
        "                print(matrix[i,j],' '*13,end=\"\")\n",
        "        print()\n"
      ],
      "metadata": {
        "id": "1sC5un7PkWEQ"
      },
      "execution_count": 12,
      "outputs": []
    },
    {
      "cell_type": "code",
      "source": [
        "# Answer to (i): generate clean file\n",
        "generate_clean_file(inputfiles,outputfiles)\n",
        "\n",
        "#read the output file=clean brown file\n",
        "lines = get_words(outputfiles)\n",
        "\n",
        "words = [item.lower() for i,item in enumerate(lines) if i%2!=0]\n",
        "words_dict = Counter(words).most_common(20)\n",
        "\n",
        "# Answer to question 1\n",
        "show_bar_plot(words_dict)\n",
        "\n",
        "\n",
        "\n",
        "\n",
        "\n",
        "words_dict = Counter(words)\n",
        "text = \"A similar resolution passed in the Senate\"\n",
        "tokens = nltk.word_tokenize(text.lower())\n",
        "bigrm_database = nltk.bigrams(words)\n",
        "unigram_dict = Counter(list(words))\n",
        "bigrm_dict = Counter(list(bigrm_database))\n"
      ],
      "metadata": {
        "colab": {
          "base_uri": "https://localhost:8080/",
          "height": 227
        },
        "id": "cL5FDcEikZGV",
        "outputId": "13c92836-b656-4a4f-c87b-c81acea82c46"
      },
      "execution_count": 15,
      "outputs": [
        {
          "output_type": "display_data",
          "data": {
            "text/plain": [
              "<Figure size 648x216 with 1 Axes>"
            ],
            "image/png": "[encoded data removed]"
          },
          "metadata": {
            "needs_background": "light"
          }
        }
      ]
    },
    {
      "cell_type": "code",
      "source": [
        "import nltk\n",
        "nltk.download('punkt')"
      ],
      "metadata": {
        "colab": {
          "base_uri": "https://localhost:8080/"
        },
        "id": "w0W_tUdukkbF",
        "outputId": "d389bdd9-86fd-4cef-c147-c16a004356a1"
      },
      "execution_count": 14,
      "outputs": [
        {
          "output_type": "stream",
          "name": "stdout",
          "text": [
            "[nltk_data] Downloading package punkt to /root/nltk_data...\n",
            "[nltk_data]   Unzipping tokenizers/punkt.zip.\n"
          ]
        },
        {
          "output_type": "execute_result",
          "data": {
            "text/plain": [
              "True"
            ]
          },
          "metadata": {},
          "execution_count": 14
        }
      ]
    },
    {
      "cell_type": "code",
      "source": [
        "# Answer to question 2\n",
        "print(\"Normal bigram counts\")\n",
        "normal_bigram(text,bigrm_dict)\n",
        "print()\n",
        "print()\n",
        "print()\n",
        "print(\"Add one smoothed bigram count\")\n",
        "add_one_smoothed_bigram_probabilities(text,words_dict,bigrm_dict,unigram_dict)"
      ],
      "metadata": {
        "colab": {
          "base_uri": "https://localhost:8080/"
        },
        "id": "RiWgKPmeko_7",
        "outputId": "feee0345-61b1-4c94-c6a4-e9203b37ac5e"
      },
      "execution_count": 16,
      "outputs": [
        {
          "output_type": "stream",
          "name": "stdout",
          "text": [
            "Normal bigram counts\n",
            "0                    A                    similar              resolution           passed               in                   the                  Senate               \n",
            "A                    0                    0                    1                    0                    0                    0                    0                    \n",
            "similar              0                    0                    0                    0                    0                    0                    0                    \n",
            "resolution           0                    0                    0                    0                    0                    0                    0                    \n",
            "passed               0                    0                    0                    0                    0                    0                    0                    \n",
            "in                   1                    0                    0                    0                    0                    12                    0                    \n",
            "the                  0                    0                    0                    0                    0                    0                    1                    \n",
            "Senate               0                    0                    0                    0                    0                    0                    0                    \n",
            "\n",
            "\n",
            "\n",
            "Add one smoothed bigram count\n",
            "0                    A                    similar              resolution           passed               in                   the                  Senate               \n",
            "A                    0.05247              0.05247              0.10495              0.05247              0.05247              0.05247              0.05247              \n",
            "similar              0.00000              0.00000              0.00000              0.00000              0.00000              0.00000              0.00000              \n",
            "resolution           0.00158              0.00158              0.00158              0.00158              0.00158              0.00158              0.00158              \n",
            "passed               0.00000              0.00000              0.00000              0.00000              0.00000              0.00000              0.00000              \n",
            "in                   0.08775              0.04387              0.04387              0.04387              0.04387              0.57035              0.04387              \n",
            "the                  0.16623              0.16623              0.16623              0.16623              0.16623              0.16623              0.33245              \n",
            "Senate               0.00158              0.00158              0.00158              0.00158              0.00158              0.00158              0.00158              \n"
          ]
        }
      ]
    }
  ]
}